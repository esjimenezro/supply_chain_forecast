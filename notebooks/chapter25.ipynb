{
 "cells": [
  {
   "cell_type": "code",
   "execution_count": 1,
   "id": "87240ac0",
   "metadata": {},
   "outputs": [],
   "source": [
    "import sys\n",
    "sys.path.append('../src')"
   ]
  },
  {
   "cell_type": "code",
   "execution_count": 11,
   "id": "bfe42a8e",
   "metadata": {},
   "outputs": [],
   "source": [
    "from data.ingestion import load_car_sales_data\n",
    "from data.preparation import generate_datasets\n",
    "from evaluation.key_performance_indicators import kpi_ml"
   ]
  },
  {
   "cell_type": "code",
   "execution_count": 3,
   "id": "3b407791",
   "metadata": {},
   "outputs": [],
   "source": [
    "# Load car sales data\n",
    "car_sales_df = load_car_sales_data(\"../data/norway_new_car_sales_by_make.csv\")\n",
    "X_train, y_train, X_test, y_test = generate_datasets(\n",
    "    df=car_sales_df,\n",
    "    x_length=12,\n",
    "    y_length=1,\n",
    "    test_loops=12\n",
    ")"
   ]
  },
  {
   "cell_type": "code",
   "execution_count": 4,
   "id": "59918e30",
   "metadata": {},
   "outputs": [],
   "source": [
    "# Define the parameter distribution for MLPRegressor\n",
    "hidden_layer_sizes = [\n",
    "    [neuron] * hidden_layer\n",
    "    for neuron in range(10, 60, 10)\n",
    "    for hidden_layer in range(2, 7)\n",
    "]\n",
    "alpha = [5, 1, 0.5, 0.1, 0.05, 0.01, 0.001]\n",
    "learning_rate_init = [0.05, 0.01, 0.005, 0.001, 0.0005]\n",
    "beta_1 = [0.85, 0.875, 0.9, 0.95, 0.975, 0.99, 0.995]\n",
    "beta_2 = [0.99, 0.995, 0.999, 0.9995, 0.9999]\n",
    "param_distribution = {\n",
    "    \"hidden_layer_sizes\": hidden_layer_sizes,\n",
    "    \"alpha\": alpha,\n",
    "    \"learning_rate_init\": learning_rate_init,\n",
    "    \"beta_1\": beta_1,\n",
    "    \"beta_2\": beta_2,\n",
    "}"
   ]
  },
  {
   "cell_type": "code",
   "execution_count": 5,
   "id": "e63ffe23",
   "metadata": {},
   "outputs": [],
   "source": [
    "# Fixed parameters\n",
    "activation = \"relu\"\n",
    "solver = \"adam\"\n",
    "early_stopping = True\n",
    "n_iter_no_change = 50\n",
    "validation_fraction = 0.1\n",
    "tol = 0.0001\n",
    "param_fixed = {\n",
    "    \"activation\": activation,\n",
    "    \"solver\": solver,\n",
    "    \"early_stopping\": early_stopping,\n",
    "    \"n_iter_no_change\": n_iter_no_change,\n",
    "    \"validation_fraction\": validation_fraction,\n",
    "    \"tol\": tol,\n",
    "}"
   ]
  },
  {
   "cell_type": "code",
   "execution_count": 6,
   "id": "defca4d3",
   "metadata": {},
   "outputs": [],
   "source": [
    "from sklearn.neural_network import MLPRegressor"
   ]
  },
  {
   "cell_type": "code",
   "execution_count": 7,
   "id": "d5aebb7d",
   "metadata": {},
   "outputs": [
    {
     "data": {
      "text/html": [
       "<style>#sk-container-id-1 {\n",
       "  /* Definition of color scheme common for light and dark mode */\n",
       "  --sklearn-color-text: #000;\n",
       "  --sklearn-color-text-muted: #666;\n",
       "  --sklearn-color-line: gray;\n",
       "  /* Definition of color scheme for unfitted estimators */\n",
       "  --sklearn-color-unfitted-level-0: #fff5e6;\n",
       "  --sklearn-color-unfitted-level-1: #f6e4d2;\n",
       "  --sklearn-color-unfitted-level-2: #ffe0b3;\n",
       "  --sklearn-color-unfitted-level-3: chocolate;\n",
       "  /* Definition of color scheme for fitted estimators */\n",
       "  --sklearn-color-fitted-level-0: #f0f8ff;\n",
       "  --sklearn-color-fitted-level-1: #d4ebff;\n",
       "  --sklearn-color-fitted-level-2: #b3dbfd;\n",
       "  --sklearn-color-fitted-level-3: cornflowerblue;\n",
       "\n",
       "  /* Specific color for light theme */\n",
       "  --sklearn-color-text-on-default-background: var(--sg-text-color, var(--theme-code-foreground, var(--jp-content-font-color1, black)));\n",
       "  --sklearn-color-background: var(--sg-background-color, var(--theme-background, var(--jp-layout-color0, white)));\n",
       "  --sklearn-color-border-box: var(--sg-text-color, var(--theme-code-foreground, var(--jp-content-font-color1, black)));\n",
       "  --sklearn-color-icon: #696969;\n",
       "\n",
       "  @media (prefers-color-scheme: dark) {\n",
       "    /* Redefinition of color scheme for dark theme */\n",
       "    --sklearn-color-text-on-default-background: var(--sg-text-color, var(--theme-code-foreground, var(--jp-content-font-color1, white)));\n",
       "    --sklearn-color-background: var(--sg-background-color, var(--theme-background, var(--jp-layout-color0, #111)));\n",
       "    --sklearn-color-border-box: var(--sg-text-color, var(--theme-code-foreground, var(--jp-content-font-color1, white)));\n",
       "    --sklearn-color-icon: #878787;\n",
       "  }\n",
       "}\n",
       "\n",
       "#sk-container-id-1 {\n",
       "  color: var(--sklearn-color-text);\n",
       "}\n",
       "\n",
       "#sk-container-id-1 pre {\n",
       "  padding: 0;\n",
       "}\n",
       "\n",
       "#sk-container-id-1 input.sk-hidden--visually {\n",
       "  border: 0;\n",
       "  clip: rect(1px 1px 1px 1px);\n",
       "  clip: rect(1px, 1px, 1px, 1px);\n",
       "  height: 1px;\n",
       "  margin: -1px;\n",
       "  overflow: hidden;\n",
       "  padding: 0;\n",
       "  position: absolute;\n",
       "  width: 1px;\n",
       "}\n",
       "\n",
       "#sk-container-id-1 div.sk-dashed-wrapped {\n",
       "  border: 1px dashed var(--sklearn-color-line);\n",
       "  margin: 0 0.4em 0.5em 0.4em;\n",
       "  box-sizing: border-box;\n",
       "  padding-bottom: 0.4em;\n",
       "  background-color: var(--sklearn-color-background);\n",
       "}\n",
       "\n",
       "#sk-container-id-1 div.sk-container {\n",
       "  /* jupyter's `normalize.less` sets `[hidden] { display: none; }`\n",
       "     but bootstrap.min.css set `[hidden] { display: none !important; }`\n",
       "     so we also need the `!important` here to be able to override the\n",
       "     default hidden behavior on the sphinx rendered scikit-learn.org.\n",
       "     See: https://github.com/scikit-learn/scikit-learn/issues/21755 */\n",
       "  display: inline-block !important;\n",
       "  position: relative;\n",
       "}\n",
       "\n",
       "#sk-container-id-1 div.sk-text-repr-fallback {\n",
       "  display: none;\n",
       "}\n",
       "\n",
       "div.sk-parallel-item,\n",
       "div.sk-serial,\n",
       "div.sk-item {\n",
       "  /* draw centered vertical line to link estimators */\n",
       "  background-image: linear-gradient(var(--sklearn-color-text-on-default-background), var(--sklearn-color-text-on-default-background));\n",
       "  background-size: 2px 100%;\n",
       "  background-repeat: no-repeat;\n",
       "  background-position: center center;\n",
       "}\n",
       "\n",
       "/* Parallel-specific style estimator block */\n",
       "\n",
       "#sk-container-id-1 div.sk-parallel-item::after {\n",
       "  content: \"\";\n",
       "  width: 100%;\n",
       "  border-bottom: 2px solid var(--sklearn-color-text-on-default-background);\n",
       "  flex-grow: 1;\n",
       "}\n",
       "\n",
       "#sk-container-id-1 div.sk-parallel {\n",
       "  display: flex;\n",
       "  align-items: stretch;\n",
       "  justify-content: center;\n",
       "  background-color: var(--sklearn-color-background);\n",
       "  position: relative;\n",
       "}\n",
       "\n",
       "#sk-container-id-1 div.sk-parallel-item {\n",
       "  display: flex;\n",
       "  flex-direction: column;\n",
       "}\n",
       "\n",
       "#sk-container-id-1 div.sk-parallel-item:first-child::after {\n",
       "  align-self: flex-end;\n",
       "  width: 50%;\n",
       "}\n",
       "\n",
       "#sk-container-id-1 div.sk-parallel-item:last-child::after {\n",
       "  align-self: flex-start;\n",
       "  width: 50%;\n",
       "}\n",
       "\n",
       "#sk-container-id-1 div.sk-parallel-item:only-child::after {\n",
       "  width: 0;\n",
       "}\n",
       "\n",
       "/* Serial-specific style estimator block */\n",
       "\n",
       "#sk-container-id-1 div.sk-serial {\n",
       "  display: flex;\n",
       "  flex-direction: column;\n",
       "  align-items: center;\n",
       "  background-color: var(--sklearn-color-background);\n",
       "  padding-right: 1em;\n",
       "  padding-left: 1em;\n",
       "}\n",
       "\n",
       "\n",
       "/* Toggleable style: style used for estimator/Pipeline/ColumnTransformer box that is\n",
       "clickable and can be expanded/collapsed.\n",
       "- Pipeline and ColumnTransformer use this feature and define the default style\n",
       "- Estimators will overwrite some part of the style using the `sk-estimator` class\n",
       "*/\n",
       "\n",
       "/* Pipeline and ColumnTransformer style (default) */\n",
       "\n",
       "#sk-container-id-1 div.sk-toggleable {\n",
       "  /* Default theme specific background. It is overwritten whether we have a\n",
       "  specific estimator or a Pipeline/ColumnTransformer */\n",
       "  background-color: var(--sklearn-color-background);\n",
       "}\n",
       "\n",
       "/* Toggleable label */\n",
       "#sk-container-id-1 label.sk-toggleable__label {\n",
       "  cursor: pointer;\n",
       "  display: flex;\n",
       "  width: 100%;\n",
       "  margin-bottom: 0;\n",
       "  padding: 0.5em;\n",
       "  box-sizing: border-box;\n",
       "  text-align: center;\n",
       "  align-items: start;\n",
       "  justify-content: space-between;\n",
       "  gap: 0.5em;\n",
       "}\n",
       "\n",
       "#sk-container-id-1 label.sk-toggleable__label .caption {\n",
       "  font-size: 0.6rem;\n",
       "  font-weight: lighter;\n",
       "  color: var(--sklearn-color-text-muted);\n",
       "}\n",
       "\n",
       "#sk-container-id-1 label.sk-toggleable__label-arrow:before {\n",
       "  /* Arrow on the left of the label */\n",
       "  content: \"▸\";\n",
       "  float: left;\n",
       "  margin-right: 0.25em;\n",
       "  color: var(--sklearn-color-icon);\n",
       "}\n",
       "\n",
       "#sk-container-id-1 label.sk-toggleable__label-arrow:hover:before {\n",
       "  color: var(--sklearn-color-text);\n",
       "}\n",
       "\n",
       "/* Toggleable content - dropdown */\n",
       "\n",
       "#sk-container-id-1 div.sk-toggleable__content {\n",
       "  display: none;\n",
       "  text-align: left;\n",
       "  /* unfitted */\n",
       "  background-color: var(--sklearn-color-unfitted-level-0);\n",
       "}\n",
       "\n",
       "#sk-container-id-1 div.sk-toggleable__content.fitted {\n",
       "  /* fitted */\n",
       "  background-color: var(--sklearn-color-fitted-level-0);\n",
       "}\n",
       "\n",
       "#sk-container-id-1 div.sk-toggleable__content pre {\n",
       "  margin: 0.2em;\n",
       "  border-radius: 0.25em;\n",
       "  color: var(--sklearn-color-text);\n",
       "  /* unfitted */\n",
       "  background-color: var(--sklearn-color-unfitted-level-0);\n",
       "}\n",
       "\n",
       "#sk-container-id-1 div.sk-toggleable__content.fitted pre {\n",
       "  /* unfitted */\n",
       "  background-color: var(--sklearn-color-fitted-level-0);\n",
       "}\n",
       "\n",
       "#sk-container-id-1 input.sk-toggleable__control:checked~div.sk-toggleable__content {\n",
       "  /* Expand drop-down */\n",
       "  display: block;\n",
       "  width: 100%;\n",
       "  overflow: visible;\n",
       "}\n",
       "\n",
       "#sk-container-id-1 input.sk-toggleable__control:checked~label.sk-toggleable__label-arrow:before {\n",
       "  content: \"▾\";\n",
       "}\n",
       "\n",
       "/* Pipeline/ColumnTransformer-specific style */\n",
       "\n",
       "#sk-container-id-1 div.sk-label input.sk-toggleable__control:checked~label.sk-toggleable__label {\n",
       "  color: var(--sklearn-color-text);\n",
       "  background-color: var(--sklearn-color-unfitted-level-2);\n",
       "}\n",
       "\n",
       "#sk-container-id-1 div.sk-label.fitted input.sk-toggleable__control:checked~label.sk-toggleable__label {\n",
       "  background-color: var(--sklearn-color-fitted-level-2);\n",
       "}\n",
       "\n",
       "/* Estimator-specific style */\n",
       "\n",
       "/* Colorize estimator box */\n",
       "#sk-container-id-1 div.sk-estimator input.sk-toggleable__control:checked~label.sk-toggleable__label {\n",
       "  /* unfitted */\n",
       "  background-color: var(--sklearn-color-unfitted-level-2);\n",
       "}\n",
       "\n",
       "#sk-container-id-1 div.sk-estimator.fitted input.sk-toggleable__control:checked~label.sk-toggleable__label {\n",
       "  /* fitted */\n",
       "  background-color: var(--sklearn-color-fitted-level-2);\n",
       "}\n",
       "\n",
       "#sk-container-id-1 div.sk-label label.sk-toggleable__label,\n",
       "#sk-container-id-1 div.sk-label label {\n",
       "  /* The background is the default theme color */\n",
       "  color: var(--sklearn-color-text-on-default-background);\n",
       "}\n",
       "\n",
       "/* On hover, darken the color of the background */\n",
       "#sk-container-id-1 div.sk-label:hover label.sk-toggleable__label {\n",
       "  color: var(--sklearn-color-text);\n",
       "  background-color: var(--sklearn-color-unfitted-level-2);\n",
       "}\n",
       "\n",
       "/* Label box, darken color on hover, fitted */\n",
       "#sk-container-id-1 div.sk-label.fitted:hover label.sk-toggleable__label.fitted {\n",
       "  color: var(--sklearn-color-text);\n",
       "  background-color: var(--sklearn-color-fitted-level-2);\n",
       "}\n",
       "\n",
       "/* Estimator label */\n",
       "\n",
       "#sk-container-id-1 div.sk-label label {\n",
       "  font-family: monospace;\n",
       "  font-weight: bold;\n",
       "  display: inline-block;\n",
       "  line-height: 1.2em;\n",
       "}\n",
       "\n",
       "#sk-container-id-1 div.sk-label-container {\n",
       "  text-align: center;\n",
       "}\n",
       "\n",
       "/* Estimator-specific */\n",
       "#sk-container-id-1 div.sk-estimator {\n",
       "  font-family: monospace;\n",
       "  border: 1px dotted var(--sklearn-color-border-box);\n",
       "  border-radius: 0.25em;\n",
       "  box-sizing: border-box;\n",
       "  margin-bottom: 0.5em;\n",
       "  /* unfitted */\n",
       "  background-color: var(--sklearn-color-unfitted-level-0);\n",
       "}\n",
       "\n",
       "#sk-container-id-1 div.sk-estimator.fitted {\n",
       "  /* fitted */\n",
       "  background-color: var(--sklearn-color-fitted-level-0);\n",
       "}\n",
       "\n",
       "/* on hover */\n",
       "#sk-container-id-1 div.sk-estimator:hover {\n",
       "  /* unfitted */\n",
       "  background-color: var(--sklearn-color-unfitted-level-2);\n",
       "}\n",
       "\n",
       "#sk-container-id-1 div.sk-estimator.fitted:hover {\n",
       "  /* fitted */\n",
       "  background-color: var(--sklearn-color-fitted-level-2);\n",
       "}\n",
       "\n",
       "/* Specification for estimator info (e.g. \"i\" and \"?\") */\n",
       "\n",
       "/* Common style for \"i\" and \"?\" */\n",
       "\n",
       ".sk-estimator-doc-link,\n",
       "a:link.sk-estimator-doc-link,\n",
       "a:visited.sk-estimator-doc-link {\n",
       "  float: right;\n",
       "  font-size: smaller;\n",
       "  line-height: 1em;\n",
       "  font-family: monospace;\n",
       "  background-color: var(--sklearn-color-background);\n",
       "  border-radius: 1em;\n",
       "  height: 1em;\n",
       "  width: 1em;\n",
       "  text-decoration: none !important;\n",
       "  margin-left: 0.5em;\n",
       "  text-align: center;\n",
       "  /* unfitted */\n",
       "  border: var(--sklearn-color-unfitted-level-1) 1pt solid;\n",
       "  color: var(--sklearn-color-unfitted-level-1);\n",
       "}\n",
       "\n",
       ".sk-estimator-doc-link.fitted,\n",
       "a:link.sk-estimator-doc-link.fitted,\n",
       "a:visited.sk-estimator-doc-link.fitted {\n",
       "  /* fitted */\n",
       "  border: var(--sklearn-color-fitted-level-1) 1pt solid;\n",
       "  color: var(--sklearn-color-fitted-level-1);\n",
       "}\n",
       "\n",
       "/* On hover */\n",
       "div.sk-estimator:hover .sk-estimator-doc-link:hover,\n",
       ".sk-estimator-doc-link:hover,\n",
       "div.sk-label-container:hover .sk-estimator-doc-link:hover,\n",
       ".sk-estimator-doc-link:hover {\n",
       "  /* unfitted */\n",
       "  background-color: var(--sklearn-color-unfitted-level-3);\n",
       "  color: var(--sklearn-color-background);\n",
       "  text-decoration: none;\n",
       "}\n",
       "\n",
       "div.sk-estimator.fitted:hover .sk-estimator-doc-link.fitted:hover,\n",
       ".sk-estimator-doc-link.fitted:hover,\n",
       "div.sk-label-container:hover .sk-estimator-doc-link.fitted:hover,\n",
       ".sk-estimator-doc-link.fitted:hover {\n",
       "  /* fitted */\n",
       "  background-color: var(--sklearn-color-fitted-level-3);\n",
       "  color: var(--sklearn-color-background);\n",
       "  text-decoration: none;\n",
       "}\n",
       "\n",
       "/* Span, style for the box shown on hovering the info icon */\n",
       ".sk-estimator-doc-link span {\n",
       "  display: none;\n",
       "  z-index: 9999;\n",
       "  position: relative;\n",
       "  font-weight: normal;\n",
       "  right: .2ex;\n",
       "  padding: .5ex;\n",
       "  margin: .5ex;\n",
       "  width: min-content;\n",
       "  min-width: 20ex;\n",
       "  max-width: 50ex;\n",
       "  color: var(--sklearn-color-text);\n",
       "  box-shadow: 2pt 2pt 4pt #999;\n",
       "  /* unfitted */\n",
       "  background: var(--sklearn-color-unfitted-level-0);\n",
       "  border: .5pt solid var(--sklearn-color-unfitted-level-3);\n",
       "}\n",
       "\n",
       ".sk-estimator-doc-link.fitted span {\n",
       "  /* fitted */\n",
       "  background: var(--sklearn-color-fitted-level-0);\n",
       "  border: var(--sklearn-color-fitted-level-3);\n",
       "}\n",
       "\n",
       ".sk-estimator-doc-link:hover span {\n",
       "  display: block;\n",
       "}\n",
       "\n",
       "/* \"?\"-specific style due to the `<a>` HTML tag */\n",
       "\n",
       "#sk-container-id-1 a.estimator_doc_link {\n",
       "  float: right;\n",
       "  font-size: 1rem;\n",
       "  line-height: 1em;\n",
       "  font-family: monospace;\n",
       "  background-color: var(--sklearn-color-background);\n",
       "  border-radius: 1rem;\n",
       "  height: 1rem;\n",
       "  width: 1rem;\n",
       "  text-decoration: none;\n",
       "  /* unfitted */\n",
       "  color: var(--sklearn-color-unfitted-level-1);\n",
       "  border: var(--sklearn-color-unfitted-level-1) 1pt solid;\n",
       "}\n",
       "\n",
       "#sk-container-id-1 a.estimator_doc_link.fitted {\n",
       "  /* fitted */\n",
       "  border: var(--sklearn-color-fitted-level-1) 1pt solid;\n",
       "  color: var(--sklearn-color-fitted-level-1);\n",
       "}\n",
       "\n",
       "/* On hover */\n",
       "#sk-container-id-1 a.estimator_doc_link:hover {\n",
       "  /* unfitted */\n",
       "  background-color: var(--sklearn-color-unfitted-level-3);\n",
       "  color: var(--sklearn-color-background);\n",
       "  text-decoration: none;\n",
       "}\n",
       "\n",
       "#sk-container-id-1 a.estimator_doc_link.fitted:hover {\n",
       "  /* fitted */\n",
       "  background-color: var(--sklearn-color-fitted-level-3);\n",
       "}\n",
       "\n",
       ".estimator-table summary {\n",
       "    padding: .5rem;\n",
       "    font-family: monospace;\n",
       "    cursor: pointer;\n",
       "}\n",
       "\n",
       ".estimator-table details[open] {\n",
       "    padding-left: 0.1rem;\n",
       "    padding-right: 0.1rem;\n",
       "    padding-bottom: 0.3rem;\n",
       "}\n",
       "\n",
       ".estimator-table .parameters-table {\n",
       "    margin-left: auto !important;\n",
       "    margin-right: auto !important;\n",
       "}\n",
       "\n",
       ".estimator-table .parameters-table tr:nth-child(odd) {\n",
       "    background-color: #fff;\n",
       "}\n",
       "\n",
       ".estimator-table .parameters-table tr:nth-child(even) {\n",
       "    background-color: #f6f6f6;\n",
       "}\n",
       "\n",
       ".estimator-table .parameters-table tr:hover {\n",
       "    background-color: #e0e0e0;\n",
       "}\n",
       "\n",
       ".estimator-table table td {\n",
       "    border: 1px solid rgba(106, 105, 104, 0.232);\n",
       "}\n",
       "\n",
       ".user-set td {\n",
       "    color:rgb(255, 94, 0);\n",
       "    text-align: left;\n",
       "}\n",
       "\n",
       ".user-set td.value pre {\n",
       "    color:rgb(255, 94, 0) !important;\n",
       "    background-color: transparent !important;\n",
       "}\n",
       "\n",
       ".default td {\n",
       "    color: black;\n",
       "    text-align: left;\n",
       "}\n",
       "\n",
       ".user-set td i,\n",
       ".default td i {\n",
       "    color: black;\n",
       "}\n",
       "\n",
       ".copy-paste-icon {\n",
       "    background-image: url(data:image/svg+xml;base64,PHN2ZyB4bWxucz0iaHR0cDovL3d3dy53My5vcmcvMjAwMC9zdmciIHZpZXdCb3g9IjAgMCA0NDggNTEyIj48IS0tIUZvbnQgQXdlc29tZSBGcmVlIDYuNy4yIGJ5IEBmb250YXdlc29tZSAtIGh0dHBzOi8vZm9udGF3ZXNvbWUuY29tIExpY2Vuc2UgLSBodHRwczovL2ZvbnRhd2Vzb21lLmNvbS9saWNlbnNlL2ZyZWUgQ29weXJpZ2h0IDIwMjUgRm9udGljb25zLCBJbmMuLS0+PHBhdGggZD0iTTIwOCAwTDMzMi4xIDBjMTIuNyAwIDI0LjkgNS4xIDMzLjkgMTQuMWw2Ny45IDY3LjljOSA5IDE0LjEgMjEuMiAxNC4xIDMzLjlMNDQ4IDMzNmMwIDI2LjUtMjEuNSA0OC00OCA0OGwtMTkyIDBjLTI2LjUgMC00OC0yMS41LTQ4LTQ4bDAtMjg4YzAtMjYuNSAyMS41LTQ4IDQ4LTQ4ek00OCAxMjhsODAgMCAwIDY0LTY0IDAgMCAyNTYgMTkyIDAgMC0zMiA2NCAwIDAgNDhjMCAyNi41LTIxLjUgNDgtNDggNDhMNDggNTEyYy0yNi41IDAtNDgtMjEuNS00OC00OEwwIDE3NmMwLTI2LjUgMjEuNS00OCA0OC00OHoiLz48L3N2Zz4=);\n",
       "    background-repeat: no-repeat;\n",
       "    background-size: 14px 14px;\n",
       "    background-position: 0;\n",
       "    display: inline-block;\n",
       "    width: 14px;\n",
       "    height: 14px;\n",
       "    cursor: pointer;\n",
       "}\n",
       "</style><body><div id=\"sk-container-id-1\" class=\"sk-top-container\"><div class=\"sk-text-repr-fallback\"><pre>MLPRegressor(alpha=5, beta_1=0.995, beta_2=0.995, early_stopping=True,\n",
       "             hidden_layer_sizes=[30, 30, 30, 30], learning_rate_init=0.01,\n",
       "             n_iter_no_change=50)</pre><b>In a Jupyter environment, please rerun this cell to show the HTML representation or trust the notebook. <br />On GitHub, the HTML representation is unable to render, please try loading this page with nbviewer.org.</b></div><div class=\"sk-container\" hidden><div class=\"sk-item\"><div class=\"sk-estimator fitted sk-toggleable\"><input class=\"sk-toggleable__control sk-hidden--visually\" id=\"sk-estimator-id-1\" type=\"checkbox\" checked><label for=\"sk-estimator-id-1\" class=\"sk-toggleable__label fitted sk-toggleable__label-arrow\"><div><div>MLPRegressor</div></div><div><a class=\"sk-estimator-doc-link fitted\" rel=\"noreferrer\" target=\"_blank\" href=\"https://scikit-learn.org/1.7/modules/generated/sklearn.neural_network.MLPRegressor.html\">?<span>Documentation for MLPRegressor</span></a><span class=\"sk-estimator-doc-link fitted\">i<span>Fitted</span></span></div></label><div class=\"sk-toggleable__content fitted\" data-param-prefix=\"\">\n",
       "        <div class=\"estimator-table\">\n",
       "            <details>\n",
       "                <summary>Parameters</summary>\n",
       "                <table class=\"parameters-table\">\n",
       "                  <tbody>\n",
       "                    \n",
       "        <tr class=\"default\">\n",
       "            <td><i class=\"copy-paste-icon\"\n",
       "                 onclick=\"copyToClipboard('loss',\n",
       "                          this.parentElement.nextElementSibling)\"\n",
       "            ></i></td>\n",
       "            <td class=\"param\">loss&nbsp;</td>\n",
       "            <td class=\"value\">&#x27;squared_error&#x27;</td>\n",
       "        </tr>\n",
       "    \n",
       "\n",
       "        <tr class=\"user-set\">\n",
       "            <td><i class=\"copy-paste-icon\"\n",
       "                 onclick=\"copyToClipboard('hidden_layer_sizes',\n",
       "                          this.parentElement.nextElementSibling)\"\n",
       "            ></i></td>\n",
       "            <td class=\"param\">hidden_layer_sizes&nbsp;</td>\n",
       "            <td class=\"value\">[30, 30, ...]</td>\n",
       "        </tr>\n",
       "    \n",
       "\n",
       "        <tr class=\"default\">\n",
       "            <td><i class=\"copy-paste-icon\"\n",
       "                 onclick=\"copyToClipboard('activation',\n",
       "                          this.parentElement.nextElementSibling)\"\n",
       "            ></i></td>\n",
       "            <td class=\"param\">activation&nbsp;</td>\n",
       "            <td class=\"value\">&#x27;relu&#x27;</td>\n",
       "        </tr>\n",
       "    \n",
       "\n",
       "        <tr class=\"default\">\n",
       "            <td><i class=\"copy-paste-icon\"\n",
       "                 onclick=\"copyToClipboard('solver',\n",
       "                          this.parentElement.nextElementSibling)\"\n",
       "            ></i></td>\n",
       "            <td class=\"param\">solver&nbsp;</td>\n",
       "            <td class=\"value\">&#x27;adam&#x27;</td>\n",
       "        </tr>\n",
       "    \n",
       "\n",
       "        <tr class=\"user-set\">\n",
       "            <td><i class=\"copy-paste-icon\"\n",
       "                 onclick=\"copyToClipboard('alpha',\n",
       "                          this.parentElement.nextElementSibling)\"\n",
       "            ></i></td>\n",
       "            <td class=\"param\">alpha&nbsp;</td>\n",
       "            <td class=\"value\">5</td>\n",
       "        </tr>\n",
       "    \n",
       "\n",
       "        <tr class=\"default\">\n",
       "            <td><i class=\"copy-paste-icon\"\n",
       "                 onclick=\"copyToClipboard('batch_size',\n",
       "                          this.parentElement.nextElementSibling)\"\n",
       "            ></i></td>\n",
       "            <td class=\"param\">batch_size&nbsp;</td>\n",
       "            <td class=\"value\">&#x27;auto&#x27;</td>\n",
       "        </tr>\n",
       "    \n",
       "\n",
       "        <tr class=\"default\">\n",
       "            <td><i class=\"copy-paste-icon\"\n",
       "                 onclick=\"copyToClipboard('learning_rate',\n",
       "                          this.parentElement.nextElementSibling)\"\n",
       "            ></i></td>\n",
       "            <td class=\"param\">learning_rate&nbsp;</td>\n",
       "            <td class=\"value\">&#x27;constant&#x27;</td>\n",
       "        </tr>\n",
       "    \n",
       "\n",
       "        <tr class=\"user-set\">\n",
       "            <td><i class=\"copy-paste-icon\"\n",
       "                 onclick=\"copyToClipboard('learning_rate_init',\n",
       "                          this.parentElement.nextElementSibling)\"\n",
       "            ></i></td>\n",
       "            <td class=\"param\">learning_rate_init&nbsp;</td>\n",
       "            <td class=\"value\">0.01</td>\n",
       "        </tr>\n",
       "    \n",
       "\n",
       "        <tr class=\"default\">\n",
       "            <td><i class=\"copy-paste-icon\"\n",
       "                 onclick=\"copyToClipboard('power_t',\n",
       "                          this.parentElement.nextElementSibling)\"\n",
       "            ></i></td>\n",
       "            <td class=\"param\">power_t&nbsp;</td>\n",
       "            <td class=\"value\">0.5</td>\n",
       "        </tr>\n",
       "    \n",
       "\n",
       "        <tr class=\"default\">\n",
       "            <td><i class=\"copy-paste-icon\"\n",
       "                 onclick=\"copyToClipboard('max_iter',\n",
       "                          this.parentElement.nextElementSibling)\"\n",
       "            ></i></td>\n",
       "            <td class=\"param\">max_iter&nbsp;</td>\n",
       "            <td class=\"value\">200</td>\n",
       "        </tr>\n",
       "    \n",
       "\n",
       "        <tr class=\"default\">\n",
       "            <td><i class=\"copy-paste-icon\"\n",
       "                 onclick=\"copyToClipboard('shuffle',\n",
       "                          this.parentElement.nextElementSibling)\"\n",
       "            ></i></td>\n",
       "            <td class=\"param\">shuffle&nbsp;</td>\n",
       "            <td class=\"value\">True</td>\n",
       "        </tr>\n",
       "    \n",
       "\n",
       "        <tr class=\"default\">\n",
       "            <td><i class=\"copy-paste-icon\"\n",
       "                 onclick=\"copyToClipboard('random_state',\n",
       "                          this.parentElement.nextElementSibling)\"\n",
       "            ></i></td>\n",
       "            <td class=\"param\">random_state&nbsp;</td>\n",
       "            <td class=\"value\">None</td>\n",
       "        </tr>\n",
       "    \n",
       "\n",
       "        <tr class=\"default\">\n",
       "            <td><i class=\"copy-paste-icon\"\n",
       "                 onclick=\"copyToClipboard('tol',\n",
       "                          this.parentElement.nextElementSibling)\"\n",
       "            ></i></td>\n",
       "            <td class=\"param\">tol&nbsp;</td>\n",
       "            <td class=\"value\">0.0001</td>\n",
       "        </tr>\n",
       "    \n",
       "\n",
       "        <tr class=\"default\">\n",
       "            <td><i class=\"copy-paste-icon\"\n",
       "                 onclick=\"copyToClipboard('verbose',\n",
       "                          this.parentElement.nextElementSibling)\"\n",
       "            ></i></td>\n",
       "            <td class=\"param\">verbose&nbsp;</td>\n",
       "            <td class=\"value\">False</td>\n",
       "        </tr>\n",
       "    \n",
       "\n",
       "        <tr class=\"default\">\n",
       "            <td><i class=\"copy-paste-icon\"\n",
       "                 onclick=\"copyToClipboard('warm_start',\n",
       "                          this.parentElement.nextElementSibling)\"\n",
       "            ></i></td>\n",
       "            <td class=\"param\">warm_start&nbsp;</td>\n",
       "            <td class=\"value\">False</td>\n",
       "        </tr>\n",
       "    \n",
       "\n",
       "        <tr class=\"default\">\n",
       "            <td><i class=\"copy-paste-icon\"\n",
       "                 onclick=\"copyToClipboard('momentum',\n",
       "                          this.parentElement.nextElementSibling)\"\n",
       "            ></i></td>\n",
       "            <td class=\"param\">momentum&nbsp;</td>\n",
       "            <td class=\"value\">0.9</td>\n",
       "        </tr>\n",
       "    \n",
       "\n",
       "        <tr class=\"default\">\n",
       "            <td><i class=\"copy-paste-icon\"\n",
       "                 onclick=\"copyToClipboard('nesterovs_momentum',\n",
       "                          this.parentElement.nextElementSibling)\"\n",
       "            ></i></td>\n",
       "            <td class=\"param\">nesterovs_momentum&nbsp;</td>\n",
       "            <td class=\"value\">True</td>\n",
       "        </tr>\n",
       "    \n",
       "\n",
       "        <tr class=\"user-set\">\n",
       "            <td><i class=\"copy-paste-icon\"\n",
       "                 onclick=\"copyToClipboard('early_stopping',\n",
       "                          this.parentElement.nextElementSibling)\"\n",
       "            ></i></td>\n",
       "            <td class=\"param\">early_stopping&nbsp;</td>\n",
       "            <td class=\"value\">True</td>\n",
       "        </tr>\n",
       "    \n",
       "\n",
       "        <tr class=\"default\">\n",
       "            <td><i class=\"copy-paste-icon\"\n",
       "                 onclick=\"copyToClipboard('validation_fraction',\n",
       "                          this.parentElement.nextElementSibling)\"\n",
       "            ></i></td>\n",
       "            <td class=\"param\">validation_fraction&nbsp;</td>\n",
       "            <td class=\"value\">0.1</td>\n",
       "        </tr>\n",
       "    \n",
       "\n",
       "        <tr class=\"user-set\">\n",
       "            <td><i class=\"copy-paste-icon\"\n",
       "                 onclick=\"copyToClipboard('beta_1',\n",
       "                          this.parentElement.nextElementSibling)\"\n",
       "            ></i></td>\n",
       "            <td class=\"param\">beta_1&nbsp;</td>\n",
       "            <td class=\"value\">0.995</td>\n",
       "        </tr>\n",
       "    \n",
       "\n",
       "        <tr class=\"user-set\">\n",
       "            <td><i class=\"copy-paste-icon\"\n",
       "                 onclick=\"copyToClipboard('beta_2',\n",
       "                          this.parentElement.nextElementSibling)\"\n",
       "            ></i></td>\n",
       "            <td class=\"param\">beta_2&nbsp;</td>\n",
       "            <td class=\"value\">0.995</td>\n",
       "        </tr>\n",
       "    \n",
       "\n",
       "        <tr class=\"default\">\n",
       "            <td><i class=\"copy-paste-icon\"\n",
       "                 onclick=\"copyToClipboard('epsilon',\n",
       "                          this.parentElement.nextElementSibling)\"\n",
       "            ></i></td>\n",
       "            <td class=\"param\">epsilon&nbsp;</td>\n",
       "            <td class=\"value\">1e-08</td>\n",
       "        </tr>\n",
       "    \n",
       "\n",
       "        <tr class=\"user-set\">\n",
       "            <td><i class=\"copy-paste-icon\"\n",
       "                 onclick=\"copyToClipboard('n_iter_no_change',\n",
       "                          this.parentElement.nextElementSibling)\"\n",
       "            ></i></td>\n",
       "            <td class=\"param\">n_iter_no_change&nbsp;</td>\n",
       "            <td class=\"value\">50</td>\n",
       "        </tr>\n",
       "    \n",
       "\n",
       "        <tr class=\"default\">\n",
       "            <td><i class=\"copy-paste-icon\"\n",
       "                 onclick=\"copyToClipboard('max_fun',\n",
       "                          this.parentElement.nextElementSibling)\"\n",
       "            ></i></td>\n",
       "            <td class=\"param\">max_fun&nbsp;</td>\n",
       "            <td class=\"value\">15000</td>\n",
       "        </tr>\n",
       "    \n",
       "                  </tbody>\n",
       "                </table>\n",
       "            </details>\n",
       "        </div>\n",
       "    </div></div></div></div></div><script>function copyToClipboard(text, element) {\n",
       "    // Get the parameter prefix from the closest toggleable content\n",
       "    const toggleableContent = element.closest('.sk-toggleable__content');\n",
       "    const paramPrefix = toggleableContent ? toggleableContent.dataset.paramPrefix : '';\n",
       "    const fullParamName = paramPrefix ? `${paramPrefix}${text}` : text;\n",
       "\n",
       "    const originalStyle = element.style;\n",
       "    const computedStyle = window.getComputedStyle(element);\n",
       "    const originalWidth = computedStyle.width;\n",
       "    const originalHTML = element.innerHTML.replace('Copied!', '');\n",
       "\n",
       "    navigator.clipboard.writeText(fullParamName)\n",
       "        .then(() => {\n",
       "            element.style.width = originalWidth;\n",
       "            element.style.color = 'green';\n",
       "            element.innerHTML = \"Copied!\";\n",
       "\n",
       "            setTimeout(() => {\n",
       "                element.innerHTML = originalHTML;\n",
       "                element.style = originalStyle;\n",
       "            }, 2000);\n",
       "        })\n",
       "        .catch(err => {\n",
       "            console.error('Failed to copy:', err);\n",
       "            element.style.color = 'red';\n",
       "            element.innerHTML = \"Failed!\";\n",
       "            setTimeout(() => {\n",
       "                element.innerHTML = originalHTML;\n",
       "                element.style = originalStyle;\n",
       "            }, 2000);\n",
       "        });\n",
       "    return false;\n",
       "}\n",
       "\n",
       "document.querySelectorAll('.fa-regular.fa-copy').forEach(function(element) {\n",
       "    const toggleableContent = element.closest('.sk-toggleable__content');\n",
       "    const paramPrefix = toggleableContent ? toggleableContent.dataset.paramPrefix : '';\n",
       "    const paramName = element.parentElement.nextElementSibling.textContent.trim();\n",
       "    const fullParamName = paramPrefix ? `${paramPrefix}${paramName}` : paramName;\n",
       "\n",
       "    element.setAttribute('title', fullParamName);\n",
       "});\n",
       "</script></body>"
      ],
      "text/plain": [
       "MLPRegressor(alpha=5, beta_1=0.995, beta_2=0.995, early_stopping=True,\n",
       "             hidden_layer_sizes=[30, 30, 30, 30], learning_rate_init=0.01,\n",
       "             n_iter_no_change=50)"
      ]
     },
     "execution_count": 7,
     "metadata": {},
     "output_type": "execute_result"
    }
   ],
   "source": [
    "# Create the MLPRegressor model with the defined parameters\n",
    "model = MLPRegressor(\n",
    "    **param_fixed,\n",
    "    **{'learning_rate_init': 0.01, 'hidden_layer_sizes': [30, 30, 30, 30], 'beta_2': 0.995, 'beta_1': 0.995, 'alpha': 5}\n",
    ")\n",
    "model.fit(X=X_train, y=y_train)"
   ]
  },
  {
   "cell_type": "code",
   "execution_count": 8,
   "id": "1f2ff4ce",
   "metadata": {},
   "outputs": [],
   "source": [
    "from sklearn.model_selection import RandomizedSearchCV\n",
    "from sklearn.model_selection import TimeSeriesSplit"
   ]
  },
  {
   "cell_type": "code",
   "execution_count": 9,
   "id": "e50763d2",
   "metadata": {},
   "outputs": [
    {
     "name": "stdout",
     "output_type": "stream",
     "text": [
      "Fitting 5 folds for each of 200 candidates, totalling 1000 fits\n",
      "[CV] END alpha=0.01, beta_1=0.95, beta_2=0.9999, hidden_layer_sizes=[20, 20, 20, 20, 20, 20], learning_rate_init=0.01; total time=   0.8s\n",
      "[CV] END alpha=0.01, beta_1=0.95, beta_2=0.9999, hidden_layer_sizes=[20, 20, 20, 20, 20, 20], learning_rate_init=0.01; total time=   1.1s\n",
      "[CV] END alpha=0.05, beta_1=0.95, beta_2=0.99, hidden_layer_sizes=[40, 40], learning_rate_init=0.01; total time=   0.7s\n",
      "[CV] END alpha=5, beta_1=0.875, beta_2=0.9995, hidden_layer_sizes=[20, 20, 20, 20, 20, 20], learning_rate_init=0.001; total time=   1.5s\n"
     ]
    },
    {
     "name": "stderr",
     "output_type": "stream",
     "text": [
      "/mnt/d/Documentos/Documents/projects/supply_chain_forecast/.venv/lib/python3.12/site-packages/sklearn/neural_network/_multilayer_perceptron.py:780: ConvergenceWarning: Stochastic Optimizer: Maximum iterations (200) reached and the optimization hasn't converged yet.\n",
      "  warnings.warn(\n"
     ]
    },
    {
     "name": "stdout",
     "output_type": "stream",
     "text": [
      "[CV] END alpha=0.01, beta_1=0.95, beta_2=0.9999, hidden_layer_sizes=[20, 20, 20, 20, 20, 20], learning_rate_init=0.01; total time=   1.9s\n",
      "[CV] END alpha=0.05, beta_1=0.95, beta_2=0.99, hidden_layer_sizes=[40, 40], learning_rate_init=0.01; total time=   0.9s\n",
      "[CV] END alpha=5, beta_1=0.875, beta_2=0.9995, hidden_layer_sizes=[20, 20, 20, 20, 20, 20], learning_rate_init=0.001; total time=   2.2s\n",
      "[CV] END alpha=0.001, beta_1=0.95, beta_2=0.99, hidden_layer_sizes=[50, 50, 50, 50, 50], learning_rate_init=0.001; total time=   0.9s\n",
      "[CV] END alpha=0.01, beta_1=0.95, beta_2=0.9999, hidden_layer_sizes=[20, 20, 20, 20, 20, 20], learning_rate_init=0.01; total time=   2.7s\n",
      "[CV] END alpha=5, beta_1=0.875, beta_2=0.9995, hidden_layer_sizes=[20, 20, 20, 20, 20, 20], learning_rate_init=0.001; total time=   1.0s\n",
      "[CV] END alpha=0.001, beta_1=0.95, beta_2=0.99, hidden_layer_sizes=[50, 50, 50, 50, 50], learning_rate_init=0.001; total time=   1.7s\n",
      "[CV] END alpha=0.05, beta_1=0.95, beta_2=0.99, hidden_layer_sizes=[40, 40], learning_rate_init=0.01; total time=   2.5s\n",
      "[CV] END alpha=0.05, beta_1=0.99, beta_2=0.9995, hidden_layer_sizes=[20, 20, 20, 20, 20, 20], learning_rate_init=0.0005; total time=   1.6s\n",
      "[CV] END alpha=0.001, beta_1=0.95, beta_2=0.99, hidden_layer_sizes=[50, 50, 50, 50, 50], learning_rate_init=0.001; total time=   2.3s\n"
     ]
    },
    {
     "name": "stderr",
     "output_type": "stream",
     "text": [
      "/mnt/d/Documentos/Documents/projects/supply_chain_forecast/.venv/lib/python3.12/site-packages/sklearn/neural_network/_multilayer_perceptron.py:780: ConvergenceWarning: Stochastic Optimizer: Maximum iterations (200) reached and the optimization hasn't converged yet.\n",
      "  warnings.warn(\n"
     ]
    },
    {
     "name": "stdout",
     "output_type": "stream",
     "text": [
      "[CV] END alpha=0.05, beta_1=0.95, beta_2=0.99, hidden_layer_sizes=[40, 40], learning_rate_init=0.01; total time=   1.0s\n",
      "[CV] END alpha=0.05, beta_1=0.95, beta_2=0.9999, hidden_layer_sizes=[40, 40, 40], learning_rate_init=0.005; total time=   0.4s\n",
      "[CV] END alpha=0.05, beta_1=0.99, beta_2=0.9995, hidden_layer_sizes=[20, 20, 20, 20, 20, 20], learning_rate_init=0.0005; total time=   1.9s\n",
      "[CV] END alpha=0.001, beta_1=0.95, beta_2=0.99, hidden_layer_sizes=[50, 50, 50, 50, 50], learning_rate_init=0.001; total time=   3.4s\n",
      "[CV] END alpha=0.001, beta_1=0.95, beta_2=0.99, hidden_layer_sizes=[50, 50, 50, 50, 50], learning_rate_init=0.001; total time=   4.0s\n",
      "[CV] END alpha=0.05, beta_1=0.95, beta_2=0.9999, hidden_layer_sizes=[40, 40, 40], learning_rate_init=0.005; total time=   1.0s\n",
      "[CV] END alpha=0.05, beta_1=0.95, beta_2=0.9999, hidden_layer_sizes=[40, 40, 40], learning_rate_init=0.005; total time=   1.1s\n",
      "[CV] END alpha=0.01, beta_1=0.95, beta_2=0.9999, hidden_layer_sizes=[20, 20, 20, 20, 20, 20], learning_rate_init=0.01; total time=   4.4s\n",
      "[CV] END alpha=5, beta_1=0.9, beta_2=0.9995, hidden_layer_sizes=[40, 40, 40], learning_rate_init=0.001; total time=   0.7s\n",
      "[CV] END alpha=5, beta_1=0.9, beta_2=0.9995, hidden_layer_sizes=[40, 40, 40], learning_rate_init=0.001; total time=   0.7s\n",
      "[CV] END alpha=0.05, beta_1=0.95, beta_2=0.9999, hidden_layer_sizes=[40, 40, 40], learning_rate_init=0.005; total time=   1.4s\n",
      "[CV] END alpha=5, beta_1=0.875, beta_2=0.9995, hidden_layer_sizes=[20, 20, 20, 20, 20, 20], learning_rate_init=0.001; total time=   3.6s\n",
      "[CV] END alpha=0.05, beta_1=0.95, beta_2=0.9999, hidden_layer_sizes=[40, 40, 40], learning_rate_init=0.005; total time=   1.7s\n",
      "[CV] END alpha=0.001, beta_1=0.975, beta_2=0.99, hidden_layer_sizes=[40, 40, 40, 40, 40, 40], learning_rate_init=0.001; total time=   1.0s\n",
      "[CV] END alpha=0.05, beta_1=0.99, beta_2=0.9995, hidden_layer_sizes=[20, 20, 20, 20, 20, 20], learning_rate_init=0.0005; total time=   3.5s\n",
      "[CV] END alpha=0.05, beta_1=0.99, beta_2=0.9995, hidden_layer_sizes=[20, 20, 20, 20, 20, 20], learning_rate_init=0.0005; total time=   4.0s\n",
      "[CV] END alpha=5, beta_1=0.9, beta_2=0.9995, hidden_layer_sizes=[40, 40, 40], learning_rate_init=0.001; total time=   1.9s\n"
     ]
    },
    {
     "name": "stderr",
     "output_type": "stream",
     "text": [
      "/mnt/d/Documentos/Documents/projects/supply_chain_forecast/.venv/lib/python3.12/site-packages/sklearn/neural_network/_multilayer_perceptron.py:780: ConvergenceWarning: Stochastic Optimizer: Maximum iterations (200) reached and the optimization hasn't converged yet.\n",
      "  warnings.warn(\n"
     ]
    },
    {
     "name": "stdout",
     "output_type": "stream",
     "text": [
      "[CV] END alpha=0.05, beta_1=0.99, beta_2=0.9995, hidden_layer_sizes=[20, 20, 20, 20, 20, 20], learning_rate_init=0.0005; total time=   4.6s\n",
      "[CV] END alpha=5, beta_1=0.9, beta_2=0.9995, hidden_layer_sizes=[40, 40, 40], learning_rate_init=0.001; total time=   1.5s\n",
      "[CV] END alpha=0.01, beta_1=0.995, beta_2=0.9999, hidden_layer_sizes=[40, 40], learning_rate_init=0.005; total time=   0.3s\n",
      "[CV] END alpha=1, beta_1=0.99, beta_2=0.9999, hidden_layer_sizes=[20, 20], learning_rate_init=0.01; total time=   0.3s\n",
      "[CV] END alpha=0.01, beta_1=0.995, beta_2=0.9999, hidden_layer_sizes=[40, 40], learning_rate_init=0.005; total time=   0.8s\n",
      "[CV] END alpha=5, beta_1=0.875, beta_2=0.9995, hidden_layer_sizes=[20, 20, 20, 20, 20, 20], learning_rate_init=0.001; total time=   4.0s\n",
      "[CV] END alpha=0.01, beta_1=0.995, beta_2=0.9999, hidden_layer_sizes=[40, 40], learning_rate_init=0.005; total time=   1.0s\n",
      "[CV] END alpha=1, beta_1=0.99, beta_2=0.9999, hidden_layer_sizes=[20, 20], learning_rate_init=0.01; total time=   0.5s\n",
      "[CV] END alpha=0.01, beta_1=0.995, beta_2=0.9999, hidden_layer_sizes=[40, 40], learning_rate_init=0.005; total time=   1.3s\n",
      "[CV] END alpha=0.001, beta_1=0.975, beta_2=0.99, hidden_layer_sizes=[40, 40, 40, 40, 40, 40], learning_rate_init=0.001; total time=   2.6s\n",
      "[CV] END alpha=0.01, beta_1=0.995, beta_2=0.9999, hidden_layer_sizes=[40, 40], learning_rate_init=0.005; total time=   1.6s\n",
      "[CV] END alpha=0.01, beta_1=0.99, beta_2=0.9999, hidden_layer_sizes=[30, 30], learning_rate_init=0.001; total time=   0.8s\n",
      "[CV] END alpha=1, beta_1=0.99, beta_2=0.9999, hidden_layer_sizes=[20, 20], learning_rate_init=0.01; total time=   1.0s\n",
      "[CV] END alpha=0.05, beta_1=0.95, beta_2=0.99, hidden_layer_sizes=[40, 40], learning_rate_init=0.01; total time=   1.3s\n",
      "[CV] END alpha=1, beta_1=0.99, beta_2=0.9999, hidden_layer_sizes=[20, 20], learning_rate_init=0.01; total time=   1.1s\n",
      "[CV] END alpha=0.001, beta_1=0.975, beta_2=0.99, hidden_layer_sizes=[40, 40, 40, 40, 40, 40], learning_rate_init=0.001; total time=   2.6s\n",
      "[CV] END alpha=1, beta_1=0.99, beta_2=0.9999, hidden_layer_sizes=[20, 20], learning_rate_init=0.01; total time=   1.1s\n",
      "[CV] END alpha=0.01, beta_1=0.99, beta_2=0.9999, hidden_layer_sizes=[30, 30], learning_rate_init=0.001; total time=   0.8s\n",
      "[CV] END alpha=0.01, beta_1=0.99, beta_2=0.9999, hidden_layer_sizes=[30, 30], learning_rate_init=0.001; total time=   1.1s\n",
      "[CV] END alpha=0.001, beta_1=0.975, beta_2=0.99, hidden_layer_sizes=[40, 40, 40, 40, 40, 40], learning_rate_init=0.001; total time=   3.0s\n",
      "[CV] END alpha=1, beta_1=0.995, beta_2=0.9999, hidden_layer_sizes=[20, 20, 20, 20, 20], learning_rate_init=0.0005; total time=   0.8s\n",
      "[CV] END alpha=5, beta_1=0.9, beta_2=0.9995, hidden_layer_sizes=[40, 40, 40], learning_rate_init=0.001; total time=   4.1s\n",
      "[CV] END alpha=1, beta_1=0.995, beta_2=0.9999, hidden_layer_sizes=[20, 20, 20, 20, 20], learning_rate_init=0.0005; total time=   1.5s\n",
      "[CV] END alpha=0.1, beta_1=0.95, beta_2=0.999, hidden_layer_sizes=[10, 10, 10, 10, 10, 10], learning_rate_init=0.005; total time=   1.3s\n",
      "[CV] END alpha=0.1, beta_1=0.85, beta_2=0.99, hidden_layer_sizes=[20, 20, 20, 20], learning_rate_init=0.05; total time=   0.4s\n",
      "[CV] END alpha=0.01, beta_1=0.99, beta_2=0.9999, hidden_layer_sizes=[30, 30], learning_rate_init=0.001; total time=   2.4s\n",
      "[CV] END alpha=0.1, beta_1=0.95, beta_2=0.999, hidden_layer_sizes=[10, 10, 10, 10, 10, 10], learning_rate_init=0.005; total time=   1.7s\n",
      "[CV] END alpha=0.1, beta_1=0.95, beta_2=0.999, hidden_layer_sizes=[10, 10, 10, 10, 10, 10], learning_rate_init=0.005; total time=   1.9s\n",
      "[CV] END alpha=0.1, beta_1=0.85, beta_2=0.99, hidden_layer_sizes=[20, 20, 20, 20], learning_rate_init=0.05; total time=   1.0s\n",
      "[CV] END alpha=0.1, beta_1=0.85, beta_2=0.99, hidden_layer_sizes=[20, 20, 20, 20], learning_rate_init=0.05; total time=   0.9s\n",
      "[CV] END alpha=0.001, beta_1=0.975, beta_2=0.99, hidden_layer_sizes=[40, 40, 40, 40, 40, 40], learning_rate_init=0.001; total time=   5.4s\n"
     ]
    },
    {
     "name": "stderr",
     "output_type": "stream",
     "text": [
      "/mnt/d/Documentos/Documents/projects/supply_chain_forecast/.venv/lib/python3.12/site-packages/sklearn/neural_network/_multilayer_perceptron.py:780: ConvergenceWarning: Stochastic Optimizer: Maximum iterations (200) reached and the optimization hasn't converged yet.\n",
      "  warnings.warn(\n"
     ]
    },
    {
     "name": "stdout",
     "output_type": "stream",
     "text": [
      "[CV] END alpha=0.01, beta_1=0.99, beta_2=0.9999, hidden_layer_sizes=[30, 30], learning_rate_init=0.001; total time=   3.6s\n",
      "[CV] END alpha=0.1, beta_1=0.85, beta_2=0.99, hidden_layer_sizes=[20, 20, 20, 20], learning_rate_init=0.05; total time=   1.4s\n"
     ]
    },
    {
     "name": "stderr",
     "output_type": "stream",
     "text": [
      "/mnt/d/Documentos/Documents/projects/supply_chain_forecast/.venv/lib/python3.12/site-packages/sklearn/neural_network/_multilayer_perceptron.py:780: ConvergenceWarning: Stochastic Optimizer: Maximum iterations (200) reached and the optimization hasn't converged yet.\n",
      "  warnings.warn(\n"
     ]
    },
    {
     "name": "stdout",
     "output_type": "stream",
     "text": [
      "[CV] END alpha=1, beta_1=0.995, beta_2=0.9999, hidden_layer_sizes=[20, 20, 20, 20, 20], learning_rate_init=0.0005; total time=   3.7s\n",
      "[CV] END alpha=0.1, beta_1=0.85, beta_2=0.99, hidden_layer_sizes=[20, 20, 20, 20], learning_rate_init=0.05; total time=   1.6s\n",
      "[CV] END alpha=0.001, beta_1=0.975, beta_2=0.9999, hidden_layer_sizes=[40, 40, 40, 40], learning_rate_init=0.005; total time=   1.5s\n",
      "[CV] END alpha=0.001, beta_1=0.975, beta_2=0.9999, hidden_layer_sizes=[40, 40, 40, 40], learning_rate_init=0.005; total time=   2.0s\n",
      "[CV] END alpha=1, beta_1=0.995, beta_2=0.9999, hidden_layer_sizes=[20, 20, 20, 20, 20], learning_rate_init=0.0005; total time=   4.7s\n",
      "[CV] END alpha=0.1, beta_1=0.95, beta_2=0.999, hidden_layer_sizes=[10, 10, 10, 10, 10, 10], learning_rate_init=0.005; total time=   4.2s\n",
      "[CV] END alpha=0.1, beta_1=0.95, beta_2=0.999, hidden_layer_sizes=[10, 10, 10, 10, 10, 10], learning_rate_init=0.005; total time=   4.2s\n"
     ]
    },
    {
     "name": "stderr",
     "output_type": "stream",
     "text": [
      "/mnt/d/Documentos/Documents/projects/supply_chain_forecast/.venv/lib/python3.12/site-packages/sklearn/neural_network/_multilayer_perceptron.py:780: ConvergenceWarning: Stochastic Optimizer: Maximum iterations (200) reached and the optimization hasn't converged yet.\n",
      "  warnings.warn(\n",
      "/mnt/d/Documentos/Documents/projects/supply_chain_forecast/.venv/lib/python3.12/site-packages/sklearn/neural_network/_multilayer_perceptron.py:780: ConvergenceWarning: Stochastic Optimizer: Maximum iterations (200) reached and the optimization hasn't converged yet.\n",
      "  warnings.warn(\n"
     ]
    },
    {
     "name": "stdout",
     "output_type": "stream",
     "text": [
      "[CV] END alpha=1, beta_1=0.995, beta_2=0.9999, hidden_layer_sizes=[20, 20, 20, 20, 20], learning_rate_init=0.0005; total time=   5.1s\n",
      "[CV] END alpha=0.01, beta_1=0.995, beta_2=0.999, hidden_layer_sizes=[30, 30, 30, 30, 30], learning_rate_init=0.0005; total time=   1.7s\n",
      "[CV] END alpha=0.01, beta_1=0.995, beta_2=0.995, hidden_layer_sizes=[30, 30, 30, 30, 30], learning_rate_init=0.0005; total time=   0.5s\n",
      "[CV] END alpha=0.001, beta_1=0.975, beta_2=0.9999, hidden_layer_sizes=[40, 40, 40, 40], learning_rate_init=0.005; total time=   2.8s\n",
      "[CV] END alpha=0.01, beta_1=0.995, beta_2=0.999, hidden_layer_sizes=[30, 30, 30, 30, 30], learning_rate_init=0.0005; total time=   2.9s\n"
     ]
    },
    {
     "name": "stderr",
     "output_type": "stream",
     "text": [
      "/mnt/d/Documentos/Documents/projects/supply_chain_forecast/.venv/lib/python3.12/site-packages/sklearn/neural_network/_multilayer_perceptron.py:780: ConvergenceWarning: Stochastic Optimizer: Maximum iterations (200) reached and the optimization hasn't converged yet.\n",
      "  warnings.warn(\n"
     ]
    },
    {
     "name": "stdout",
     "output_type": "stream",
     "text": [
      "[CV] END alpha=0.01, beta_1=0.995, beta_2=0.999, hidden_layer_sizes=[30, 30, 30, 30, 30], learning_rate_init=0.0005; total time=   3.3s\n",
      "[CV] END alpha=0.5, beta_1=0.85, beta_2=0.9995, hidden_layer_sizes=[50, 50, 50, 50, 50], learning_rate_init=0.01; total time=   2.1s\n"
     ]
    },
    {
     "name": "stderr",
     "output_type": "stream",
     "text": [
      "/mnt/d/Documentos/Documents/projects/supply_chain_forecast/.venv/lib/python3.12/site-packages/sklearn/neural_network/_multilayer_perceptron.py:780: ConvergenceWarning: Stochastic Optimizer: Maximum iterations (200) reached and the optimization hasn't converged yet.\n",
      "  warnings.warn(\n"
     ]
    },
    {
     "name": "stdout",
     "output_type": "stream",
     "text": [
      "[CV] END alpha=0.01, beta_1=0.995, beta_2=0.995, hidden_layer_sizes=[30, 30, 30, 30, 30], learning_rate_init=0.0005; total time=   3.5s\n",
      "[CV] END alpha=0.01, beta_1=0.995, beta_2=0.999, hidden_layer_sizes=[30, 30, 30, 30, 30], learning_rate_init=0.0005; total time=   4.1s\n",
      "[CV] END alpha=0.01, beta_1=0.995, beta_2=0.999, hidden_layer_sizes=[30, 30, 30, 30, 30], learning_rate_init=0.0005; total time=   5.1s\n",
      "[CV] END alpha=1, beta_1=0.9, beta_2=0.9999, hidden_layer_sizes=[20, 20, 20], learning_rate_init=0.01; total time=   0.8s\n",
      "[CV] END alpha=0.001, beta_1=0.975, beta_2=0.9999, hidden_layer_sizes=[40, 40, 40, 40], learning_rate_init=0.005; total time=   6.0s\n"
     ]
    },
    {
     "name": "stderr",
     "output_type": "stream",
     "text": [
      "/mnt/d/Documentos/Documents/projects/supply_chain_forecast/.venv/lib/python3.12/site-packages/sklearn/neural_network/_multilayer_perceptron.py:780: ConvergenceWarning: Stochastic Optimizer: Maximum iterations (200) reached and the optimization hasn't converged yet.\n",
      "  warnings.warn(\n"
     ]
    },
    {
     "name": "stdout",
     "output_type": "stream",
     "text": [
      "[CV] END alpha=0.001, beta_1=0.975, beta_2=0.9999, hidden_layer_sizes=[40, 40, 40, 40], learning_rate_init=0.005; total time=   6.6s\n",
      "[CV] END alpha=1, beta_1=0.9, beta_2=0.9999, hidden_layer_sizes=[20, 20, 20], learning_rate_init=0.01; total time=   1.5s\n",
      "[CV] END alpha=0.01, beta_1=0.995, beta_2=0.995, hidden_layer_sizes=[30, 30, 30, 30, 30], learning_rate_init=0.0005; total time=   4.9s\n"
     ]
    },
    {
     "name": "stderr",
     "output_type": "stream",
     "text": [
      "/mnt/d/Documentos/Documents/projects/supply_chain_forecast/.venv/lib/python3.12/site-packages/sklearn/neural_network/_multilayer_perceptron.py:780: ConvergenceWarning: Stochastic Optimizer: Maximum iterations (200) reached and the optimization hasn't converged yet.\n",
      "  warnings.warn(\n",
      "/mnt/d/Documentos/Documents/projects/supply_chain_forecast/.venv/lib/python3.12/site-packages/sklearn/neural_network/_multilayer_perceptron.py:780: ConvergenceWarning: Stochastic Optimizer: Maximum iterations (200) reached and the optimization hasn't converged yet.\n",
      "  warnings.warn(\n"
     ]
    },
    {
     "name": "stdout",
     "output_type": "stream",
     "text": [
      "[CV] END alpha=0.5, beta_1=0.85, beta_2=0.9995, hidden_layer_sizes=[50, 50, 50, 50, 50], learning_rate_init=0.01; total time=   5.0s\n",
      "[CV] END alpha=0.01, beta_1=0.995, beta_2=0.995, hidden_layer_sizes=[30, 30, 30, 30, 30], learning_rate_init=0.0005; total time=   5.5s\n",
      "[CV] END alpha=1, beta_1=0.95, beta_2=0.995, hidden_layer_sizes=[10, 10], learning_rate_init=0.005; total time=   0.8s\n",
      "[CV] END alpha=1, beta_1=0.95, beta_2=0.995, hidden_layer_sizes=[10, 10], learning_rate_init=0.005; total time=   0.4s\n",
      "[CV] END alpha=0.5, beta_1=0.85, beta_2=0.9995, hidden_layer_sizes=[50, 50, 50, 50, 50], learning_rate_init=0.01; total time=   3.9s\n",
      "[CV] END alpha=1, beta_1=0.9, beta_2=0.9999, hidden_layer_sizes=[20, 20, 20], learning_rate_init=0.01; total time=   1.6s\n",
      "[CV] END alpha=1, beta_1=0.95, beta_2=0.995, hidden_layer_sizes=[10, 10], learning_rate_init=0.005; total time=   0.5s\n",
      "[CV] END alpha=1, beta_1=0.9, beta_2=0.9999, hidden_layer_sizes=[20, 20, 20], learning_rate_init=0.01; total time=   1.7s\n",
      "[CV] END alpha=1, beta_1=0.95, beta_2=0.995, hidden_layer_sizes=[10, 10], learning_rate_init=0.005; total time=   0.8s\n",
      "[CV] END alpha=1, beta_1=0.95, beta_2=0.995, hidden_layer_sizes=[10, 10], learning_rate_init=0.005; total time=   1.4s\n",
      "[CV] END alpha=5, beta_1=0.995, beta_2=0.99, hidden_layer_sizes=[50, 50], learning_rate_init=0.01; total time=   1.0s\n"
     ]
    },
    {
     "name": "stderr",
     "output_type": "stream",
     "text": [
      "/mnt/d/Documentos/Documents/projects/supply_chain_forecast/.venv/lib/python3.12/site-packages/sklearn/neural_network/_multilayer_perceptron.py:780: ConvergenceWarning: Stochastic Optimizer: Maximum iterations (200) reached and the optimization hasn't converged yet.\n",
      "  warnings.warn(\n"
     ]
    },
    {
     "name": "stdout",
     "output_type": "stream",
     "text": [
      "[CV] END alpha=0.01, beta_1=0.995, beta_2=0.995, hidden_layer_sizes=[30, 30, 30, 30, 30], learning_rate_init=0.0005; total time=   7.3s\n",
      "[CV] END alpha=5, beta_1=0.995, beta_2=0.99, hidden_layer_sizes=[50, 50], learning_rate_init=0.01; total time=   1.3s\n",
      "[CV] END alpha=0.1, beta_1=0.975, beta_2=0.9995, hidden_layer_sizes=[50, 50, 50, 50, 50, 50], learning_rate_init=0.001; total time=   2.2s\n",
      "[CV] END alpha=1, beta_1=0.95, beta_2=0.995, hidden_layer_sizes=[20, 20, 20, 20], learning_rate_init=0.0005; total time=   0.6s\n",
      "[CV] END alpha=0.5, beta_1=0.85, beta_2=0.9995, hidden_layer_sizes=[50, 50, 50, 50, 50], learning_rate_init=0.01; total time=   6.2s\n",
      "[CV] END alpha=0.5, beta_1=0.85, beta_2=0.9995, hidden_layer_sizes=[50, 50, 50, 50, 50], learning_rate_init=0.01; total time=   6.9s\n",
      "[CV] END alpha=1, beta_1=0.9, beta_2=0.9999, hidden_layer_sizes=[20, 20, 20], learning_rate_init=0.01; total time=   4.5s\n"
     ]
    },
    {
     "name": "stderr",
     "output_type": "stream",
     "text": [
      "/mnt/d/Documentos/Documents/projects/supply_chain_forecast/.venv/lib/python3.12/site-packages/sklearn/neural_network/_multilayer_perceptron.py:780: ConvergenceWarning: Stochastic Optimizer: Maximum iterations (200) reached and the optimization hasn't converged yet.\n",
      "  warnings.warn(\n"
     ]
    },
    {
     "name": "stdout",
     "output_type": "stream",
     "text": [
      "[CV] END alpha=1, beta_1=0.95, beta_2=0.995, hidden_layer_sizes=[20, 20, 20, 20], learning_rate_init=0.0005; total time=   1.3s\n",
      "[CV] END alpha=0.1, beta_1=0.975, beta_2=0.9995, hidden_layer_sizes=[50, 50, 50, 50, 50, 50], learning_rate_init=0.001; total time=   4.1s\n",
      "[CV] END alpha=1, beta_1=0.99, beta_2=0.999, hidden_layer_sizes=[20, 20, 20, 20, 20], learning_rate_init=0.001; total time=   1.0s\n"
     ]
    },
    {
     "name": "stderr",
     "output_type": "stream",
     "text": [
      "/mnt/d/Documentos/Documents/projects/supply_chain_forecast/.venv/lib/python3.12/site-packages/sklearn/neural_network/_multilayer_perceptron.py:780: ConvergenceWarning: Stochastic Optimizer: Maximum iterations (200) reached and the optimization hasn't converged yet.\n",
      "  warnings.warn(\n"
     ]
    },
    {
     "name": "stdout",
     "output_type": "stream",
     "text": [
      "[CV] END alpha=5, beta_1=0.995, beta_2=0.99, hidden_layer_sizes=[50, 50], learning_rate_init=0.01; total time=   3.2s\n",
      "[CV] END alpha=0.1, beta_1=0.975, beta_2=0.9995, hidden_layer_sizes=[50, 50, 50, 50, 50, 50], learning_rate_init=0.001; total time=   4.4s\n",
      "[CV] END alpha=5, beta_1=0.995, beta_2=0.99, hidden_layer_sizes=[50, 50], learning_rate_init=0.01; total time=   2.6s\n",
      "[CV] END alpha=5, beta_1=0.995, beta_2=0.99, hidden_layer_sizes=[50, 50], learning_rate_init=0.01; total time=   3.3s\n",
      "[CV] END alpha=1, beta_1=0.95, beta_2=0.995, hidden_layer_sizes=[20, 20, 20, 20], learning_rate_init=0.0005; total time=   1.8s\n"
     ]
    },
    {
     "name": "stderr",
     "output_type": "stream",
     "text": [
      "/mnt/d/Documentos/Documents/projects/supply_chain_forecast/.venv/lib/python3.12/site-packages/sklearn/neural_network/_multilayer_perceptron.py:780: ConvergenceWarning: Stochastic Optimizer: Maximum iterations (200) reached and the optimization hasn't converged yet.\n",
      "  warnings.warn(\n"
     ]
    },
    {
     "name": "stdout",
     "output_type": "stream",
     "text": [
      "[CV] END alpha=1, beta_1=0.95, beta_2=0.995, hidden_layer_sizes=[20, 20, 20, 20], learning_rate_init=0.0005; total time=   2.7s\n",
      "[CV] END alpha=1, beta_1=0.99, beta_2=0.999, hidden_layer_sizes=[20, 20, 20, 20, 20], learning_rate_init=0.001; total time=   1.7s\n",
      "[CV] END alpha=0.5, beta_1=0.85, beta_2=0.999, hidden_layer_sizes=[20, 20, 20, 20, 20, 20], learning_rate_init=0.005; total time=   1.0s\n",
      "[CV] END alpha=0.1, beta_1=0.975, beta_2=0.9995, hidden_layer_sizes=[50, 50, 50, 50, 50, 50], learning_rate_init=0.001; total time=   5.7s\n",
      "[CV] END alpha=0.5, beta_1=0.85, beta_2=0.999, hidden_layer_sizes=[20, 20, 20, 20, 20, 20], learning_rate_init=0.005; total time=   1.2s\n",
      "[CV] END alpha=1, beta_1=0.99, beta_2=0.999, hidden_layer_sizes=[20, 20, 20, 20, 20], learning_rate_init=0.001; total time=   1.6s\n",
      "[CV] END alpha=0.001, beta_1=0.995, beta_2=0.995, hidden_layer_sizes=[10, 10], learning_rate_init=0.01; total time=   0.4s\n",
      "[CV] END alpha=1, beta_1=0.95, beta_2=0.995, hidden_layer_sizes=[20, 20, 20, 20], learning_rate_init=0.0005; total time=   2.6s\n",
      "[CV] END alpha=0.001, beta_1=0.995, beta_2=0.995, hidden_layer_sizes=[10, 10], learning_rate_init=0.01; total time=   0.7s\n"
     ]
    },
    {
     "name": "stderr",
     "output_type": "stream",
     "text": [
      "/mnt/d/Documentos/Documents/projects/supply_chain_forecast/.venv/lib/python3.12/site-packages/sklearn/neural_network/_multilayer_perceptron.py:780: ConvergenceWarning: Stochastic Optimizer: Maximum iterations (200) reached and the optimization hasn't converged yet.\n",
      "  warnings.warn(\n"
     ]
    },
    {
     "name": "stdout",
     "output_type": "stream",
     "text": [
      "[CV] END alpha=0.1, beta_1=0.975, beta_2=0.9995, hidden_layer_sizes=[50, 50, 50, 50, 50, 50], learning_rate_init=0.001; total time=   6.6s\n",
      "[CV] END alpha=0.001, beta_1=0.995, beta_2=0.995, hidden_layer_sizes=[10, 10], learning_rate_init=0.01; total time=   1.3s\n",
      "[CV] END alpha=0.001, beta_1=0.995, beta_2=0.995, hidden_layer_sizes=[10, 10], learning_rate_init=0.01; total time=   1.2s\n",
      "[CV] END alpha=0.5, beta_1=0.9, beta_2=0.999, hidden_layer_sizes=[10, 10, 10, 10, 10], learning_rate_init=0.01; total time=   1.1s\n"
     ]
    },
    {
     "name": "stderr",
     "output_type": "stream",
     "text": [
      "/mnt/d/Documentos/Documents/projects/supply_chain_forecast/.venv/lib/python3.12/site-packages/sklearn/neural_network/_multilayer_perceptron.py:780: ConvergenceWarning: Stochastic Optimizer: Maximum iterations (200) reached and the optimization hasn't converged yet.\n",
      "  warnings.warn(\n"
     ]
    },
    {
     "name": "stdout",
     "output_type": "stream",
     "text": [
      "[CV] END alpha=0.5, beta_1=0.9, beta_2=0.999, hidden_layer_sizes=[10, 10, 10, 10, 10], learning_rate_init=0.01; total time=   1.4s\n",
      "[CV] END alpha=0.5, beta_1=0.9, beta_2=0.999, hidden_layer_sizes=[10, 10, 10, 10, 10], learning_rate_init=0.01; total time=   1.2s\n",
      "[CV] END alpha=0.001, beta_1=0.995, beta_2=0.995, hidden_layer_sizes=[10, 10], learning_rate_init=0.01; total time=   1.7s\n",
      "[CV] END alpha=1, beta_1=0.99, beta_2=0.999, hidden_layer_sizes=[20, 20, 20, 20, 20], learning_rate_init=0.001; total time=   3.0s\n",
      "[CV] END alpha=0.5, beta_1=0.85, beta_2=0.999, hidden_layer_sizes=[20, 20, 20, 20, 20, 20], learning_rate_init=0.005; total time=   3.2s\n",
      "[CV] END alpha=0.05, beta_1=0.85, beta_2=0.9995, hidden_layer_sizes=[30, 30, 30, 30], learning_rate_init=0.05; total time=   0.5s\n",
      "[CV] END alpha=0.01, beta_1=0.99, beta_2=0.9999, hidden_layer_sizes=[30, 30, 30, 30, 30], learning_rate_init=0.0005; total time=   1.0s\n",
      "[CV] END alpha=0.5, beta_1=0.85, beta_2=0.999, hidden_layer_sizes=[20, 20, 20, 20, 20, 20], learning_rate_init=0.005; total time=   3.5s\n",
      "[CV] END alpha=0.5, beta_1=0.9, beta_2=0.999, hidden_layer_sizes=[10, 10, 10, 10, 10], learning_rate_init=0.01; total time=   1.4s\n",
      "[CV] END alpha=1, beta_1=0.99, beta_2=0.999, hidden_layer_sizes=[20, 20, 20, 20, 20], learning_rate_init=0.001; total time=   4.1s\n",
      "[CV] END alpha=0.5, beta_1=0.9, beta_2=0.999, hidden_layer_sizes=[10, 10, 10, 10, 10], learning_rate_init=0.01; total time=   2.0s\n",
      "[CV] END alpha=0.001, beta_1=0.99, beta_2=0.9995, hidden_layer_sizes=[40, 40], learning_rate_init=0.0005; total time=   0.9s\n",
      "[CV] END alpha=0.05, beta_1=0.85, beta_2=0.9995, hidden_layer_sizes=[30, 30, 30, 30], learning_rate_init=0.05; total time=   1.7s\n",
      "[CV] END alpha=0.01, beta_1=0.99, beta_2=0.9999, hidden_layer_sizes=[30, 30, 30, 30, 30], learning_rate_init=0.0005; total time=   2.8s\n",
      "[CV] END alpha=0.001, beta_1=0.99, beta_2=0.9995, hidden_layer_sizes=[40, 40], learning_rate_init=0.0005; total time=   1.3s\n",
      "[CV] END alpha=0.05, beta_1=0.85, beta_2=0.9995, hidden_layer_sizes=[30, 30, 30, 30], learning_rate_init=0.05; total time=   1.9s\n",
      "[CV] END alpha=0.01, beta_1=0.99, beta_2=0.9999, hidden_layer_sizes=[30, 30, 30, 30, 30], learning_rate_init=0.0005; total time=   2.7s\n",
      "[CV] END alpha=0.01, beta_1=0.99, beta_2=0.9999, hidden_layer_sizes=[30, 30, 30, 30, 30], learning_rate_init=0.0005; total time=   2.9s\n",
      "[CV] END alpha=0.001, beta_1=0.99, beta_2=0.9995, hidden_layer_sizes=[40, 40], learning_rate_init=0.0005; total time=   2.0s\n",
      "[CV] END alpha=0.01, beta_1=0.99, beta_2=0.9999, hidden_layer_sizes=[30, 30, 30, 30, 30], learning_rate_init=0.0005; total time=   3.2s\n",
      "[CV] END alpha=0.05, beta_1=0.85, beta_2=0.9995, hidden_layer_sizes=[30, 30, 30, 30], learning_rate_init=0.05; total time=   3.0s\n",
      "[CV] END alpha=0.5, beta_1=0.85, beta_2=0.999, hidden_layer_sizes=[20, 20, 20, 20, 20, 20], learning_rate_init=0.005; total time=   6.3s\n",
      "[CV] END alpha=0.001, beta_1=0.85, beta_2=0.99, hidden_layer_sizes=[20, 20], learning_rate_init=0.01; total time=   0.7s\n",
      "[CV] END alpha=0.001, beta_1=0.85, beta_2=0.99, hidden_layer_sizes=[20, 20], learning_rate_init=0.01; total time=   0.5s\n",
      "[CV] END alpha=0.001, beta_1=0.995, beta_2=0.999, hidden_layer_sizes=[30, 30, 30, 30], learning_rate_init=0.001; total time=   1.4s\n",
      "[CV] END alpha=0.001, beta_1=0.99, beta_2=0.9995, hidden_layer_sizes=[40, 40], learning_rate_init=0.0005; total time=   2.1s\n",
      "[CV] END alpha=0.001, beta_1=0.85, beta_2=0.99, hidden_layer_sizes=[20, 20], learning_rate_init=0.01; total time=   0.6s\n",
      "[CV] END alpha=0.1, beta_1=0.975, beta_2=0.9995, hidden_layer_sizes=[50, 50, 50], learning_rate_init=0.05; total time=   0.5s\n",
      "[CV] END alpha=0.05, beta_1=0.85, beta_2=0.9995, hidden_layer_sizes=[30, 30, 30, 30], learning_rate_init=0.05; total time=   3.7s\n",
      "[CV] END alpha=5, beta_1=0.99, beta_2=0.99, hidden_layer_sizes=[20, 20], learning_rate_init=0.001; total time=   0.6s\n",
      "[CV] END alpha=0.1, beta_1=0.975, beta_2=0.9995, hidden_layer_sizes=[50, 50, 50], learning_rate_init=0.05; total time=   1.1s\n",
      "[CV] END alpha=0.001, beta_1=0.85, beta_2=0.99, hidden_layer_sizes=[20, 20], learning_rate_init=0.01; total time=   1.6s\n"
     ]
    },
    {
     "name": "stderr",
     "output_type": "stream",
     "text": [
      "/mnt/d/Documentos/Documents/projects/supply_chain_forecast/.venv/lib/python3.12/site-packages/sklearn/neural_network/_multilayer_perceptron.py:780: ConvergenceWarning: Stochastic Optimizer: Maximum iterations (200) reached and the optimization hasn't converged yet.\n",
      "  warnings.warn(\n"
     ]
    },
    {
     "name": "stdout",
     "output_type": "stream",
     "text": [
      "[CV] END alpha=0.001, beta_1=0.995, beta_2=0.999, hidden_layer_sizes=[30, 30, 30, 30], learning_rate_init=0.001; total time=   3.0s\n",
      "[CV] END alpha=5, beta_1=0.99, beta_2=0.99, hidden_layer_sizes=[20, 20], learning_rate_init=0.001; total time=   0.9s\n",
      "[CV] END alpha=0.001, beta_1=0.85, beta_2=0.99, hidden_layer_sizes=[20, 20], learning_rate_init=0.01; total time=   2.7s\n",
      "[CV] END alpha=0.001, beta_1=0.995, beta_2=0.999, hidden_layer_sizes=[30, 30, 30, 30], learning_rate_init=0.001; total time=   3.6s\n",
      "[CV] END alpha=5, beta_1=0.99, beta_2=0.99, hidden_layer_sizes=[20, 20], learning_rate_init=0.001; total time=   1.5s\n",
      "[CV] END alpha=0.1, beta_1=0.975, beta_2=0.9995, hidden_layer_sizes=[50, 50, 50], learning_rate_init=0.05; total time=   2.5s"
     ]
    },
    {
     "name": "stderr",
     "output_type": "stream",
     "text": [
      "/mnt/d/Documentos/Documents/projects/supply_chain_forecast/.venv/lib/python3.12/site-packages/sklearn/neural_network/_multilayer_perceptron.py:780: ConvergenceWarning: Stochastic Optimizer: Maximum iterations (200) reached and the optimization hasn't converged yet.\n",
      "  warnings.warn(\n",
      "/mnt/d/Documentos/Documents/projects/supply_chain_forecast/.venv/lib/python3.12/site-packages/sklearn/neural_network/_multilayer_perceptron.py:780: ConvergenceWarning: Stochastic Optimizer: Maximum iterations (200) reached and the optimization hasn't converged yet.\n",
      "  warnings.warn(\n",
      "/mnt/d/Documentos/Documents/projects/supply_chain_forecast/.venv/lib/python3.12/site-packages/sklearn/neural_network/_multilayer_perceptron.py:780: ConvergenceWarning: Stochastic Optimizer: Maximum iterations (200) reached and the optimization hasn't converged yet.\n",
      "  warnings.warn(\n"
     ]
    },
    {
     "name": "stdout",
     "output_type": "stream",
     "text": [
      "\n",
      "[CV] END alpha=0.001, beta_1=0.995, beta_2=0.999, hidden_layer_sizes=[30, 30, 30, 30], learning_rate_init=0.001; total time=   4.1s\n",
      "[CV] END alpha=5, beta_1=0.99, beta_2=0.99, hidden_layer_sizes=[20, 20], learning_rate_init=0.001; total time=   1.4s\n",
      "[CV] END alpha=0.001, beta_1=0.99, beta_2=0.9995, hidden_layer_sizes=[40, 40], learning_rate_init=0.0005; total time=   4.7s\n",
      "[CV] END alpha=0.1, beta_1=0.975, beta_2=0.9995, hidden_layer_sizes=[50, 50, 50], learning_rate_init=0.05; total time=   2.8s\n",
      "[CV] END alpha=0.01, beta_1=0.875, beta_2=0.995, hidden_layer_sizes=[30, 30, 30, 30], learning_rate_init=0.005; total time=   0.5s\n",
      "[CV] END alpha=5, beta_1=0.99, beta_2=0.99, hidden_layer_sizes=[20, 20], learning_rate_init=0.001; total time=   1.9s\n",
      "[CV] END alpha=0.05, beta_1=0.975, beta_2=0.9995, hidden_layer_sizes=[50, 50, 50, 50], learning_rate_init=0.05; total time=   1.7s\n",
      "[CV] END alpha=0.1, beta_1=0.975, beta_2=0.9995, hidden_layer_sizes=[50, 50, 50], learning_rate_init=0.05; total time=   3.5s\n",
      "[CV] END alpha=0.001, beta_1=0.995, beta_2=0.999, hidden_layer_sizes=[30, 30, 30, 30], learning_rate_init=0.001; total time=   5.3s\n",
      "[CV] END alpha=5, beta_1=0.9, beta_2=0.9999, hidden_layer_sizes=[10, 10, 10, 10, 10], learning_rate_init=0.01; total time=   0.4s\n",
      "[CV] END alpha=0.01, beta_1=0.875, beta_2=0.995, hidden_layer_sizes=[30, 30, 30, 30], learning_rate_init=0.005; total time=   1.4s\n",
      "[CV] END alpha=0.01, beta_1=0.875, beta_2=0.995, hidden_layer_sizes=[30, 30, 30, 30], learning_rate_init=0.005; total time=   1.6s\n",
      "[CV] END alpha=0.01, beta_1=0.875, beta_2=0.995, hidden_layer_sizes=[30, 30, 30, 30], learning_rate_init=0.005; total time=   2.1s\n",
      "[CV] END alpha=0.05, beta_1=0.995, beta_2=0.9999, hidden_layer_sizes=[30, 30, 30, 30, 30], learning_rate_init=0.05; total time=   0.8s\n",
      "[CV] END alpha=0.05, beta_1=0.975, beta_2=0.9995, hidden_layer_sizes=[50, 50, 50, 50], learning_rate_init=0.05; total time=   2.4s\n",
      "[CV] END alpha=5, beta_1=0.9, beta_2=0.9999, hidden_layer_sizes=[10, 10, 10, 10, 10], learning_rate_init=0.01; total time=   1.3s\n",
      "[CV] END alpha=5, beta_1=0.9, beta_2=0.9999, hidden_layer_sizes=[10, 10, 10, 10, 10], learning_rate_init=0.01; total time=   1.8s\n",
      "[CV] END alpha=0.05, beta_1=0.975, beta_2=0.9995, hidden_layer_sizes=[50, 50, 50, 50], learning_rate_init=0.05; total time=   3.1s\n",
      "[CV] END alpha=1, beta_1=0.85, beta_2=0.999, hidden_layer_sizes=[20, 20], learning_rate_init=0.05; total time=   0.6s\n",
      "[CV] END alpha=0.05, beta_1=0.975, beta_2=0.9995, hidden_layer_sizes=[50, 50, 50, 50], learning_rate_init=0.05; total time=   3.1s\n",
      "[CV] END alpha=0.05, beta_1=0.975, beta_2=0.9995, hidden_layer_sizes=[50, 50, 50, 50], learning_rate_init=0.05; total time=   3.4s\n",
      "[CV] END alpha=1, beta_1=0.85, beta_2=0.999, hidden_layer_sizes=[20, 20], learning_rate_init=0.05; total time=   0.4s\n",
      "[CV] END alpha=5, beta_1=0.9, beta_2=0.9999, hidden_layer_sizes=[10, 10, 10, 10, 10], learning_rate_init=0.01; total time=   1.9s\n",
      "[CV] END alpha=0.05, beta_1=0.995, beta_2=0.9999, hidden_layer_sizes=[30, 30, 30, 30, 30], learning_rate_init=0.05; total time=   1.6s\n",
      "[CV] END alpha=0.05, beta_1=0.995, beta_2=0.9999, hidden_layer_sizes=[30, 30, 30, 30, 30], learning_rate_init=0.05; total time=   1.5s\n",
      "[CV] END alpha=1, beta_1=0.85, beta_2=0.999, hidden_layer_sizes=[20, 20], learning_rate_init=0.05; total time=   0.9s\n",
      "[CV] END alpha=1, beta_1=0.85, beta_2=0.999, hidden_layer_sizes=[20, 20], learning_rate_init=0.05; total time=   1.1s\n",
      "[CV] END alpha=1, beta_1=0.85, beta_2=0.999, hidden_layer_sizes=[20, 20], learning_rate_init=0.05; total time=   1.3s\n",
      "[CV] END alpha=1, beta_1=0.9, beta_2=0.995, hidden_layer_sizes=[20, 20, 20, 20, 20], learning_rate_init=0.01; total time=   1.1s\n",
      "[CV] END alpha=0.001, beta_1=0.995, beta_2=0.9995, hidden_layer_sizes=[40, 40, 40, 40], learning_rate_init=0.0005; total time=   0.6s\n",
      "[CV] END alpha=1, beta_1=0.9, beta_2=0.995, hidden_layer_sizes=[20, 20, 20, 20, 20], learning_rate_init=0.01; total time=   1.5s\n",
      "[CV] END alpha=1, beta_1=0.9, beta_2=0.995, hidden_layer_sizes=[20, 20, 20, 20, 20], learning_rate_init=0.01; total time=   1.4s\n",
      "[CV] END alpha=0.05, beta_1=0.995, beta_2=0.9999, hidden_layer_sizes=[30, 30, 30, 30, 30], learning_rate_init=0.05; total time=   2.9s\n",
      "[CV] END alpha=5, beta_1=0.9, beta_2=0.9999, hidden_layer_sizes=[10, 10, 10, 10, 10], learning_rate_init=0.01; total time=   4.0s\n",
      "[CV] END alpha=1, beta_1=0.9, beta_2=0.995, hidden_layer_sizes=[20, 20, 20, 20, 20], learning_rate_init=0.01; total time=   2.5s\n",
      "[CV] END alpha=0.05, beta_1=0.9, beta_2=0.99, hidden_layer_sizes=[20, 20, 20, 20, 20], learning_rate_init=0.001; total time=   1.1s\n",
      "[CV] END alpha=1, beta_1=0.9, beta_2=0.995, hidden_layer_sizes=[20, 20, 20, 20, 20], learning_rate_init=0.01; total time=   2.4s\n",
      "[CV] END alpha=0.05, beta_1=0.995, beta_2=0.9999, hidden_layer_sizes=[30, 30, 30, 30, 30], learning_rate_init=0.05; total time=   3.9s\n",
      "[CV] END alpha=0.05, beta_1=0.9, beta_2=0.99, hidden_layer_sizes=[20, 20, 20, 20, 20], learning_rate_init=0.001; total time=   1.5s\n",
      "[CV] END alpha=0.05, beta_1=0.995, beta_2=0.9999, hidden_layer_sizes=[30, 30, 30, 30], learning_rate_init=0.05; total time=   1.0s\n",
      "[CV] END alpha=0.001, beta_1=0.995, beta_2=0.9995, hidden_layer_sizes=[40, 40, 40, 40], learning_rate_init=0.0005; total time=   2.6s\n",
      "[CV] END alpha=0.05, beta_1=0.9, beta_2=0.99, hidden_layer_sizes=[20, 20, 20, 20, 20], learning_rate_init=0.001; total time=   1.8s\n",
      "[CV] END alpha=0.01, beta_1=0.875, beta_2=0.995, hidden_layer_sizes=[30, 30, 30, 30], learning_rate_init=0.005; total time=   6.5s\n",
      "[CV] END alpha=0.001, beta_1=0.995, beta_2=0.9995, hidden_layer_sizes=[40, 40, 40, 40], learning_rate_init=0.0005; total time=   2.7s\n"
     ]
    },
    {
     "name": "stderr",
     "output_type": "stream",
     "text": [
      "/mnt/d/Documentos/Documents/projects/supply_chain_forecast/.venv/lib/python3.12/site-packages/sklearn/neural_network/_multilayer_perceptron.py:780: ConvergenceWarning: Stochastic Optimizer: Maximum iterations (200) reached and the optimization hasn't converged yet.\n",
      "  warnings.warn(\n"
     ]
    },
    {
     "name": "stdout",
     "output_type": "stream",
     "text": [
      "[CV] END alpha=5, beta_1=0.995, beta_2=0.9995, hidden_layer_sizes=[10, 10, 10], learning_rate_init=0.001; total time=   0.6s\n",
      "[CV] END alpha=0.05, beta_1=0.995, beta_2=0.9999, hidden_layer_sizes=[30, 30, 30, 30], learning_rate_init=0.05; total time=   1.4s\n",
      "[CV] END alpha=0.05, beta_1=0.9, beta_2=0.99, hidden_layer_sizes=[20, 20, 20, 20, 20], learning_rate_init=0.001; total time=   2.3s\n",
      "[CV] END alpha=0.05, beta_1=0.995, beta_2=0.9999, hidden_layer_sizes=[30, 30, 30, 30], learning_rate_init=0.05; total time=   1.5s\n",
      "[CV] END alpha=0.05, beta_1=0.9, beta_2=0.99, hidden_layer_sizes=[20, 20, 20, 20, 20], learning_rate_init=0.001; total time=   2.4s\n",
      "[CV] END alpha=0.05, beta_1=0.995, beta_2=0.9999, hidden_layer_sizes=[30, 30, 30, 30], learning_rate_init=0.05; total time=   1.9s\n",
      "[CV] END alpha=0.5, beta_1=0.995, beta_2=0.99, hidden_layer_sizes=[10, 10, 10, 10, 10], learning_rate_init=0.01; total time=   0.9s\n",
      "[CV] END alpha=5, beta_1=0.995, beta_2=0.9995, hidden_layer_sizes=[10, 10, 10], learning_rate_init=0.001; total time=   1.7s\n",
      "[CV] END alpha=0.5, beta_1=0.995, beta_2=0.99, hidden_layer_sizes=[10, 10, 10, 10, 10], learning_rate_init=0.01; total time=   1.0s\n",
      "[CV] END alpha=5, beta_1=0.995, beta_2=0.9995, hidden_layer_sizes=[10, 10, 10], learning_rate_init=0.001; total time=   1.8s\n",
      "[CV] END alpha=5, beta_1=0.995, beta_2=0.9995, hidden_layer_sizes=[10, 10, 10], learning_rate_init=0.001; total time=   1.8s\n"
     ]
    },
    {
     "name": "stderr",
     "output_type": "stream",
     "text": [
      "/mnt/d/Documentos/Documents/projects/supply_chain_forecast/.venv/lib/python3.12/site-packages/sklearn/neural_network/_multilayer_perceptron.py:780: ConvergenceWarning: Stochastic Optimizer: Maximum iterations (200) reached and the optimization hasn't converged yet.\n",
      "  warnings.warn(\n"
     ]
    },
    {
     "name": "stdout",
     "output_type": "stream",
     "text": [
      "[CV] END alpha=0.1, beta_1=0.975, beta_2=0.999, hidden_layer_sizes=[20, 20, 20], learning_rate_init=0.01; total time=   0.6s\n",
      "[CV] END alpha=0.001, beta_1=0.995, beta_2=0.9995, hidden_layer_sizes=[40, 40, 40, 40], learning_rate_init=0.0005; total time=   5.0s\n",
      "[CV] END alpha=0.5, beta_1=0.995, beta_2=0.99, hidden_layer_sizes=[10, 10, 10, 10, 10], learning_rate_init=0.01; total time=   1.7s\n",
      "[CV] END alpha=0.1, beta_1=0.975, beta_2=0.999, hidden_layer_sizes=[20, 20, 20], learning_rate_init=0.01; total time=   1.1s\n",
      "[CV] END alpha=0.5, beta_1=0.875, beta_2=0.9995, hidden_layer_sizes=[20, 20, 20, 20, 20], learning_rate_init=0.001; total time=   0.6s\n",
      "[CV] END alpha=0.05, beta_1=0.995, beta_2=0.9999, hidden_layer_sizes=[30, 30, 30, 30], learning_rate_init=0.05; total time=   3.0s\n",
      "[CV] END alpha=5, beta_1=0.995, beta_2=0.9995, hidden_layer_sizes=[10, 10, 10], learning_rate_init=0.001; total time=   2.6s\n",
      "[CV] END alpha=0.1, beta_1=0.975, beta_2=0.999, hidden_layer_sizes=[20, 20, 20], learning_rate_init=0.01; total time=   1.2s\n",
      "[CV] END alpha=0.001, beta_1=0.995, beta_2=0.9995, hidden_layer_sizes=[40, 40, 40, 40], learning_rate_init=0.0005; total time=   5.8s\n",
      "[CV] END alpha=0.1, beta_1=0.975, beta_2=0.999, hidden_layer_sizes=[20, 20, 20], learning_rate_init=0.01; total time=   1.3s\n",
      "[CV] END alpha=0.1, beta_1=0.85, beta_2=0.99, hidden_layer_sizes=[40, 40], learning_rate_init=0.001; total time=   0.4s\n",
      "[CV] END alpha=0.1, beta_1=0.975, beta_2=0.999, hidden_layer_sizes=[20, 20, 20], learning_rate_init=0.01; total time=   1.5s\n"
     ]
    },
    {
     "name": "stderr",
     "output_type": "stream",
     "text": [
      "/mnt/d/Documentos/Documents/projects/supply_chain_forecast/.venv/lib/python3.12/site-packages/sklearn/neural_network/_multilayer_perceptron.py:780: ConvergenceWarning: Stochastic Optimizer: Maximum iterations (200) reached and the optimization hasn't converged yet.\n",
      "  warnings.warn(\n"
     ]
    },
    {
     "name": "stdout",
     "output_type": "stream",
     "text": [
      "[CV] END alpha=0.1, beta_1=0.85, beta_2=0.99, hidden_layer_sizes=[40, 40], learning_rate_init=0.001; total time=   0.6s\n",
      "[CV] END alpha=0.1, beta_1=0.85, beta_2=0.99, hidden_layer_sizes=[40, 40], learning_rate_init=0.001; total time=   0.8s\n",
      "[CV] END alpha=0.1, beta_1=0.85, beta_2=0.99, hidden_layer_sizes=[40, 40], learning_rate_init=0.001; total time=   1.0s\n",
      "[CV] END alpha=0.1, beta_1=0.95, beta_2=0.999, hidden_layer_sizes=[40, 40, 40, 40, 40], learning_rate_init=0.005; total time=   1.0s\n",
      "[CV] END alpha=0.5, beta_1=0.875, beta_2=0.9995, hidden_layer_sizes=[20, 20, 20, 20, 20], learning_rate_init=0.001; total time=   1.8s\n",
      "[CV] END alpha=0.001, beta_1=0.99, beta_2=0.99, hidden_layer_sizes=[40, 40, 40, 40, 40, 40], learning_rate_init=0.05; total time=   0.7s\n",
      "[CV] END alpha=0.5, beta_1=0.995, beta_2=0.99, hidden_layer_sizes=[10, 10, 10, 10, 10], learning_rate_init=0.01; total time=   3.9s\n",
      "[CV] END alpha=0.1, beta_1=0.95, beta_2=0.999, hidden_layer_sizes=[40, 40, 40, 40, 40], learning_rate_init=0.005; total time=   1.9s\n",
      "[CV] END alpha=0.5, beta_1=0.995, beta_2=0.99, hidden_layer_sizes=[10, 10, 10, 10, 10], learning_rate_init=0.01; total time=   4.1s\n",
      "[CV] END alpha=0.001, beta_1=0.99, beta_2=0.99, hidden_layer_sizes=[40, 40, 40, 40, 40, 40], learning_rate_init=0.05; total time=   1.8s\n",
      "[CV] END alpha=0.1, beta_1=0.95, beta_2=0.999, hidden_layer_sizes=[40, 40, 40, 40, 40], learning_rate_init=0.005; total time=   2.2s\n",
      "[CV] END alpha=0.5, beta_1=0.875, beta_2=0.9995, hidden_layer_sizes=[20, 20, 20, 20, 20], learning_rate_init=0.001; total time=   3.3s\n",
      "[CV] END alpha=0.5, beta_1=0.875, beta_2=0.9995, hidden_layer_sizes=[20, 20, 20, 20, 20], learning_rate_init=0.001; total time=   4.1s\n",
      "[CV] END alpha=0.1, beta_1=0.95, beta_2=0.999, hidden_layer_sizes=[40, 40, 40, 40, 40], learning_rate_init=0.005; total time=   2.6s\n",
      "[CV] END alpha=0.1, beta_1=0.85, beta_2=0.99, hidden_layer_sizes=[40, 40], learning_rate_init=0.001; total time=   3.7s\n",
      "[CV] END alpha=0.5, beta_1=0.875, beta_2=0.9995, hidden_layer_sizes=[20, 20, 20, 20, 20], learning_rate_init=0.001; total time=   4.1s\n",
      "[CV] END alpha=5, beta_1=0.995, beta_2=0.9995, hidden_layer_sizes=[20, 20], learning_rate_init=0.0005; total time=   0.3s\n",
      "[CV] END alpha=5, beta_1=0.995, beta_2=0.9995, hidden_layer_sizes=[20, 20], learning_rate_init=0.0005; total time=   0.9s\n",
      "[CV] END alpha=0.1, beta_1=0.95, beta_2=0.999, hidden_layer_sizes=[40, 40, 40, 40, 40], learning_rate_init=0.005; total time=   4.5s\n"
     ]
    },
    {
     "name": "stderr",
     "output_type": "stream",
     "text": [
      "/mnt/d/Documentos/Documents/projects/supply_chain_forecast/.venv/lib/python3.12/site-packages/sklearn/neural_network/_multilayer_perceptron.py:780: ConvergenceWarning: Stochastic Optimizer: Maximum iterations (200) reached and the optimization hasn't converged yet.\n",
      "  warnings.warn(\n",
      "/mnt/d/Documentos/Documents/projects/supply_chain_forecast/.venv/lib/python3.12/site-packages/sklearn/neural_network/_multilayer_perceptron.py:780: ConvergenceWarning: Stochastic Optimizer: Maximum iterations (200) reached and the optimization hasn't converged yet.\n",
      "  warnings.warn(\n"
     ]
    },
    {
     "name": "stdout",
     "output_type": "stream",
     "text": [
      "[CV] END alpha=0.05, beta_1=0.995, beta_2=0.999, hidden_layer_sizes=[40, 40, 40, 40, 40, 40], learning_rate_init=0.0005; total time=   2.5s\n",
      "[CV] END alpha=5, beta_1=0.995, beta_2=0.9995, hidden_layer_sizes=[20, 20], learning_rate_init=0.0005; total time=   2.5s\n",
      "[CV] END alpha=0.05, beta_1=0.995, beta_2=0.999, hidden_layer_sizes=[40, 40, 40, 40, 40, 40], learning_rate_init=0.0005; total time=   3.4s\n"
     ]
    },
    {
     "name": "stderr",
     "output_type": "stream",
     "text": [
      "/mnt/d/Documentos/Documents/projects/supply_chain_forecast/.venv/lib/python3.12/site-packages/sklearn/neural_network/_multilayer_perceptron.py:780: ConvergenceWarning: Stochastic Optimizer: Maximum iterations (200) reached and the optimization hasn't converged yet.\n",
      "  warnings.warn(\n"
     ]
    },
    {
     "name": "stdout",
     "output_type": "stream",
     "text": [
      "[CV] END alpha=0.001, beta_1=0.99, beta_2=0.99, hidden_layer_sizes=[40, 40, 40, 40, 40, 40], learning_rate_init=0.05; total time=   4.9s\n",
      "[CV] END alpha=5, beta_1=0.995, beta_2=0.9995, hidden_layer_sizes=[20, 20], learning_rate_init=0.0005; total time=   2.7s\n"
     ]
    },
    {
     "name": "stderr",
     "output_type": "stream",
     "text": [
      "/mnt/d/Documentos/Documents/projects/supply_chain_forecast/.venv/lib/python3.12/site-packages/sklearn/neural_network/_multilayer_perceptron.py:780: ConvergenceWarning: Stochastic Optimizer: Maximum iterations (200) reached and the optimization hasn't converged yet.\n",
      "  warnings.warn(\n"
     ]
    },
    {
     "name": "stdout",
     "output_type": "stream",
     "text": [
      "[CV] END alpha=0.001, beta_1=0.99, beta_2=0.99, hidden_layer_sizes=[40, 40, 40, 40, 40, 40], learning_rate_init=0.05; total time=   4.5s\n",
      "[CV] END alpha=0.001, beta_1=0.99, beta_2=0.99, hidden_layer_sizes=[40, 40, 40, 40, 40, 40], learning_rate_init=0.05; total time=   5.0s\n",
      "[CV] END alpha=1, beta_1=0.99, beta_2=0.9995, hidden_layer_sizes=[30, 30, 30, 30, 30, 30], learning_rate_init=0.0005; total time=   2.5s\n"
     ]
    },
    {
     "name": "stderr",
     "output_type": "stream",
     "text": [
      "/mnt/d/Documentos/Documents/projects/supply_chain_forecast/.venv/lib/python3.12/site-packages/sklearn/neural_network/_multilayer_perceptron.py:780: ConvergenceWarning: Stochastic Optimizer: Maximum iterations (200) reached and the optimization hasn't converged yet.\n",
      "  warnings.warn(\n"
     ]
    },
    {
     "name": "stdout",
     "output_type": "stream",
     "text": [
      "[CV] END alpha=1, beta_1=0.99, beta_2=0.9995, hidden_layer_sizes=[30, 30, 30, 30, 30, 30], learning_rate_init=0.0005; total time=   2.4s\n",
      "[CV] END alpha=0.05, beta_1=0.995, beta_2=0.999, hidden_layer_sizes=[40, 40, 40, 40, 40, 40], learning_rate_init=0.0005; total time=   4.5s\n",
      "[CV] END alpha=1, beta_1=0.975, beta_2=0.9995, hidden_layer_sizes=[30, 30, 30, 30, 30], learning_rate_init=0.001; total time=   1.1s\n"
     ]
    },
    {
     "name": "stderr",
     "output_type": "stream",
     "text": [
      "/mnt/d/Documentos/Documents/projects/supply_chain_forecast/.venv/lib/python3.12/site-packages/sklearn/neural_network/_multilayer_perceptron.py:780: ConvergenceWarning: Stochastic Optimizer: Maximum iterations (200) reached and the optimization hasn't converged yet.\n",
      "  warnings.warn(\n"
     ]
    },
    {
     "name": "stdout",
     "output_type": "stream",
     "text": [
      "[CV] END alpha=5, beta_1=0.995, beta_2=0.9995, hidden_layer_sizes=[20, 20], learning_rate_init=0.0005; total time=   3.6s\n",
      "[CV] END alpha=1, beta_1=0.975, beta_2=0.9995, hidden_layer_sizes=[30, 30, 30, 30, 30], learning_rate_init=0.001; total time=   1.6s\n",
      "[CV] END alpha=0.05, beta_1=0.875, beta_2=0.999, hidden_layer_sizes=[20, 20, 20, 20, 20], learning_rate_init=0.0005; total time=   1.0s\n",
      "[CV] END alpha=0.05, beta_1=0.875, beta_2=0.999, hidden_layer_sizes=[20, 20, 20, 20, 20], learning_rate_init=0.0005; total time=   1.5s\n",
      "[CV] END alpha=0.05, beta_1=0.995, beta_2=0.999, hidden_layer_sizes=[40, 40, 40, 40, 40, 40], learning_rate_init=0.0005; total time=   6.1s\n",
      "[CV] END alpha=1, beta_1=0.975, beta_2=0.9995, hidden_layer_sizes=[30, 30, 30, 30, 30], learning_rate_init=0.001; total time=   2.2s\n"
     ]
    },
    {
     "name": "stderr",
     "output_type": "stream",
     "text": [
      "/mnt/d/Documentos/Documents/projects/supply_chain_forecast/.venv/lib/python3.12/site-packages/sklearn/neural_network/_multilayer_perceptron.py:780: ConvergenceWarning: Stochastic Optimizer: Maximum iterations (200) reached and the optimization hasn't converged yet.\n",
      "  warnings.warn(\n"
     ]
    },
    {
     "name": "stdout",
     "output_type": "stream",
     "text": [
      "[CV] END alpha=0.001, beta_1=0.995, beta_2=0.995, hidden_layer_sizes=[10, 10, 10, 10, 10, 10], learning_rate_init=0.001; total time=   1.3s\n",
      "[CV] END alpha=0.05, beta_1=0.995, beta_2=0.999, hidden_layer_sizes=[40, 40, 40, 40, 40, 40], learning_rate_init=0.0005; total time=   7.0s\n",
      "[CV] END alpha=0.001, beta_1=0.995, beta_2=0.995, hidden_layer_sizes=[10, 10, 10, 10, 10, 10], learning_rate_init=0.001; total time=   1.7s\n",
      "[CV] END alpha=0.05, beta_1=0.875, beta_2=0.999, hidden_layer_sizes=[20, 20, 20, 20, 20], learning_rate_init=0.0005; total time=   2.0s\n",
      "[CV] END alpha=1, beta_1=0.99, beta_2=0.9995, hidden_layer_sizes=[30, 30, 30, 30, 30, 30], learning_rate_init=0.0005; total time=   4.2s\n",
      "[CV] END alpha=0.05, beta_1=0.875, beta_2=0.999, hidden_layer_sizes=[20, 20, 20, 20, 20], learning_rate_init=0.0005; total time=   2.9s\n",
      "[CV] END alpha=1, beta_1=0.975, beta_2=0.9995, hidden_layer_sizes=[30, 30, 30, 30, 30], learning_rate_init=0.001; total time=   4.2s\n",
      "[CV] END alpha=0.5, beta_1=0.975, beta_2=0.9999, hidden_layer_sizes=[50, 50, 50, 50], learning_rate_init=0.0005; total time=   1.0s\n",
      "[CV] END alpha=1, beta_1=0.99, beta_2=0.9995, hidden_layer_sizes=[30, 30, 30, 30, 30, 30], learning_rate_init=0.0005; total time=   6.2s\n",
      "[CV] END alpha=1, beta_1=0.99, beta_2=0.9995, hidden_layer_sizes=[30, 30, 30, 30, 30, 30], learning_rate_init=0.0005; total time=   6.3s\n",
      "[CV] END alpha=0.01, beta_1=0.99, beta_2=0.9995, hidden_layer_sizes=[10, 10, 10, 10, 10, 10], learning_rate_init=0.05; total time=   1.0s\n",
      "[CV] END alpha=0.001, beta_1=0.995, beta_2=0.995, hidden_layer_sizes=[10, 10, 10, 10, 10, 10], learning_rate_init=0.001; total time=   3.7s\n"
     ]
    },
    {
     "name": "stderr",
     "output_type": "stream",
     "text": [
      "/mnt/d/Documentos/Documents/projects/supply_chain_forecast/.venv/lib/python3.12/site-packages/sklearn/neural_network/_multilayer_perceptron.py:780: ConvergenceWarning: Stochastic Optimizer: Maximum iterations (200) reached and the optimization hasn't converged yet.\n",
      "  warnings.warn(\n"
     ]
    },
    {
     "name": "stdout",
     "output_type": "stream",
     "text": [
      "[CV] END alpha=0.5, beta_1=0.975, beta_2=0.9999, hidden_layer_sizes=[50, 50, 50, 50], learning_rate_init=0.0005; total time=   2.6s\n",
      "[CV] END alpha=0.05, beta_1=0.875, beta_2=0.999, hidden_layer_sizes=[20, 20, 20, 20, 20], learning_rate_init=0.0005; total time=   5.0s\n"
     ]
    },
    {
     "name": "stderr",
     "output_type": "stream",
     "text": [
      "/mnt/d/Documentos/Documents/projects/supply_chain_forecast/.venv/lib/python3.12/site-packages/sklearn/neural_network/_multilayer_perceptron.py:780: ConvergenceWarning: Stochastic Optimizer: Maximum iterations (200) reached and the optimization hasn't converged yet.\n",
      "  warnings.warn(\n"
     ]
    },
    {
     "name": "stdout",
     "output_type": "stream",
     "text": [
      "[CV] END alpha=0.01, beta_1=0.99, beta_2=0.9995, hidden_layer_sizes=[10, 10, 10, 10, 10, 10], learning_rate_init=0.05; total time=   1.4s\n",
      "[CV] END alpha=0.01, beta_1=0.975, beta_2=0.99, hidden_layer_sizes=[40, 40, 40, 40, 40], learning_rate_init=0.01; total time=   0.9s\n",
      "[CV] END alpha=0.5, beta_1=0.975, beta_2=0.9999, hidden_layer_sizes=[50, 50, 50, 50], learning_rate_init=0.0005; total time=   3.6s\n",
      "[CV] END alpha=0.01, beta_1=0.99, beta_2=0.9995, hidden_layer_sizes=[10, 10, 10, 10, 10, 10], learning_rate_init=0.05; total time=   2.4s\n",
      "[CV] END alpha=0.01, beta_1=0.99, beta_2=0.9995, hidden_layer_sizes=[10, 10, 10, 10, 10, 10], learning_rate_init=0.05; total time=   2.1s\n",
      "[CV] END alpha=0.01, beta_1=0.975, beta_2=0.99, hidden_layer_sizes=[40, 40, 40, 40, 40], learning_rate_init=0.01; total time=   1.6s\n"
     ]
    },
    {
     "name": "stderr",
     "output_type": "stream",
     "text": [
      "/mnt/d/Documentos/Documents/projects/supply_chain_forecast/.venv/lib/python3.12/site-packages/sklearn/neural_network/_multilayer_perceptron.py:780: ConvergenceWarning: Stochastic Optimizer: Maximum iterations (200) reached and the optimization hasn't converged yet.\n",
      "  warnings.warn(\n"
     ]
    },
    {
     "name": "stdout",
     "output_type": "stream",
     "text": [
      "[CV] END alpha=0.001, beta_1=0.995, beta_2=0.995, hidden_layer_sizes=[10, 10, 10, 10, 10, 10], learning_rate_init=0.001; total time=   5.0s\n",
      "[CV] END alpha=0.001, beta_1=0.995, beta_2=0.995, hidden_layer_sizes=[10, 10, 10, 10, 10, 10], learning_rate_init=0.001; total time=   5.2s\n",
      "[CV] END alpha=1, beta_1=0.975, beta_2=0.9995, hidden_layer_sizes=[30, 30, 30, 30, 30], learning_rate_init=0.001; total time=   8.4s\n"
     ]
    },
    {
     "name": "stderr",
     "output_type": "stream",
     "text": [
      "/mnt/d/Documentos/Documents/projects/supply_chain_forecast/.venv/lib/python3.12/site-packages/sklearn/neural_network/_multilayer_perceptron.py:780: ConvergenceWarning: Stochastic Optimizer: Maximum iterations (200) reached and the optimization hasn't converged yet.\n",
      "  warnings.warn(\n"
     ]
    },
    {
     "name": "stdout",
     "output_type": "stream",
     "text": [
      "[CV] END alpha=5, beta_1=0.9, beta_2=0.9995, hidden_layer_sizes=[20, 20, 20, 20, 20, 20], learning_rate_init=0.0005; total time=   1.4s\n",
      "[CV] END alpha=0.01, beta_1=0.99, beta_2=0.9995, hidden_layer_sizes=[10, 10, 10, 10, 10, 10], learning_rate_init=0.05; total time=   3.5s\n",
      "[CV] END alpha=5, beta_1=0.995, beta_2=0.9995, hidden_layer_sizes=[30, 30, 30, 30], learning_rate_init=0.05; total time=   0.7s\n",
      "[CV] END alpha=0.5, beta_1=0.975, beta_2=0.9999, hidden_layer_sizes=[50, 50, 50, 50], learning_rate_init=0.0005; total time=   5.8s\n",
      "[CV] END alpha=5, beta_1=0.9, beta_2=0.9995, hidden_layer_sizes=[20, 20, 20, 20, 20, 20], learning_rate_init=0.0005; total time=   2.0s\n",
      "[CV] END alpha=0.01, beta_1=0.975, beta_2=0.99, hidden_layer_sizes=[40, 40, 40, 40, 40], learning_rate_init=0.01; total time=   3.5s\n",
      "[CV] END alpha=5, beta_1=0.995, beta_2=0.9995, hidden_layer_sizes=[30, 30, 30, 30], learning_rate_init=0.05; total time=   1.7s\n",
      "[CV] END alpha=5, beta_1=0.995, beta_2=0.9995, hidden_layer_sizes=[30, 30, 30, 30], learning_rate_init=0.05; total time=   1.7s\n"
     ]
    },
    {
     "name": "stderr",
     "output_type": "stream",
     "text": [
      "/mnt/d/Documentos/Documents/projects/supply_chain_forecast/.venv/lib/python3.12/site-packages/sklearn/neural_network/_multilayer_perceptron.py:780: ConvergenceWarning: Stochastic Optimizer: Maximum iterations (200) reached and the optimization hasn't converged yet.\n",
      "  warnings.warn(\n"
     ]
    },
    {
     "name": "stdout",
     "output_type": "stream",
     "text": [
      "[CV] END alpha=0.5, beta_1=0.875, beta_2=0.9999, hidden_layer_sizes=[10, 10, 10, 10, 10], learning_rate_init=0.005; total time=   1.5s\n",
      "[CV] END alpha=5, beta_1=0.995, beta_2=0.9995, hidden_layer_sizes=[30, 30, 30, 30], learning_rate_init=0.05; total time=   2.1s\n",
      "[CV] END alpha=0.5, beta_1=0.875, beta_2=0.9999, hidden_layer_sizes=[10, 10, 10, 10, 10], learning_rate_init=0.005; total time=   0.9s\n",
      "[CV] END alpha=5, beta_1=0.9, beta_2=0.9995, hidden_layer_sizes=[20, 20, 20, 20, 20, 20], learning_rate_init=0.0005; total time=   4.2s\n",
      "[CV] END alpha=0.5, beta_1=0.975, beta_2=0.9999, hidden_layer_sizes=[50, 50, 50, 50], learning_rate_init=0.0005; total time=   8.0s\n",
      "[CV] END alpha=0.01, beta_1=0.975, beta_2=0.99, hidden_layer_sizes=[40, 40, 40, 40, 40], learning_rate_init=0.01; total time=   4.8s\n",
      "[CV] END alpha=0.01, beta_1=0.99, beta_2=0.999, hidden_layer_sizes=[30, 30, 30], learning_rate_init=0.01; total time=   0.7s\n",
      "[CV] END alpha=0.5, beta_1=0.875, beta_2=0.9999, hidden_layer_sizes=[10, 10, 10, 10, 10], learning_rate_init=0.005; total time=   1.8s\n",
      "[CV] END alpha=0.05, beta_1=0.875, beta_2=0.9999, hidden_layer_sizes=[20, 20, 20, 20], learning_rate_init=0.01; total time=   0.9s\n",
      "[CV] END alpha=0.5, beta_1=0.875, beta_2=0.9999, hidden_layer_sizes=[10, 10, 10, 10, 10], learning_rate_init=0.005; total time=   2.1s\n",
      "[CV] END alpha=0.5, beta_1=0.875, beta_2=0.9999, hidden_layer_sizes=[10, 10, 10, 10, 10], learning_rate_init=0.005; total time=   2.7s\n",
      "[CV] END alpha=0.01, beta_1=0.99, beta_2=0.999, hidden_layer_sizes=[30, 30, 30], learning_rate_init=0.01; total time=   1.6s\n",
      "[CV] END alpha=0.01, beta_1=0.975, beta_2=0.99, hidden_layer_sizes=[40, 40, 40, 40, 40], learning_rate_init=0.01; total time=   7.2s\n",
      "[CV] END alpha=0.05, beta_1=0.875, beta_2=0.9999, hidden_layer_sizes=[20, 20, 20, 20], learning_rate_init=0.01; total time=   1.4s\n",
      "[CV] END alpha=0.01, beta_1=0.99, beta_2=0.999, hidden_layer_sizes=[30, 30, 30], learning_rate_init=0.01; total time=   1.8s\n",
      "[CV] END alpha=0.01, beta_1=0.99, beta_2=0.999, hidden_layer_sizes=[30, 30, 30], learning_rate_init=0.01; total time=   2.0s\n",
      "[CV] END alpha=0.01, beta_1=0.99, beta_2=0.999, hidden_layer_sizes=[30, 30, 30], learning_rate_init=0.01; total time=   2.6s\n"
     ]
    },
    {
     "name": "stderr",
     "output_type": "stream",
     "text": [
      "/mnt/d/Documentos/Documents/projects/supply_chain_forecast/.venv/lib/python3.12/site-packages/sklearn/neural_network/_multilayer_perceptron.py:780: ConvergenceWarning: Stochastic Optimizer: Maximum iterations (200) reached and the optimization hasn't converged yet.\n",
      "  warnings.warn(\n"
     ]
    },
    {
     "name": "stdout",
     "output_type": "stream",
     "text": [
      "[CV] END alpha=0.05, beta_1=0.85, beta_2=0.9999, hidden_layer_sizes=[20, 20, 20], learning_rate_init=0.001; total time=   0.4s\n",
      "[CV] END alpha=5, beta_1=0.9, beta_2=0.9995, hidden_layer_sizes=[20, 20, 20, 20, 20, 20], learning_rate_init=0.0005; total time=   6.3s\n",
      "[CV] END alpha=5, beta_1=0.9, beta_2=0.9995, hidden_layer_sizes=[20, 20, 20, 20, 20, 20], learning_rate_init=0.0005; total time=   6.7s\n",
      "[CV] END alpha=5, beta_1=0.995, beta_2=0.9995, hidden_layer_sizes=[30, 30, 30, 30], learning_rate_init=0.05; total time=   5.6s\n"
     ]
    },
    {
     "name": "stderr",
     "output_type": "stream",
     "text": [
      "/mnt/d/Documentos/Documents/projects/supply_chain_forecast/.venv/lib/python3.12/site-packages/sklearn/neural_network/_multilayer_perceptron.py:780: ConvergenceWarning: Stochastic Optimizer: Maximum iterations (200) reached and the optimization hasn't converged yet.\n",
      "  warnings.warn(\n"
     ]
    },
    {
     "name": "stdout",
     "output_type": "stream",
     "text": [
      "[CV] END alpha=0.01, beta_1=0.995, beta_2=0.9995, hidden_layer_sizes=[50, 50, 50], learning_rate_init=0.0005; total time=   1.9s\n",
      "[CV] END alpha=0.05, beta_1=0.875, beta_2=0.9999, hidden_layer_sizes=[20, 20, 20, 20], learning_rate_init=0.01; total time=   2.4s\n",
      "[CV] END alpha=0.05, beta_1=0.875, beta_2=0.9999, hidden_layer_sizes=[20, 20, 20, 20], learning_rate_init=0.01; total time=   2.4s\n",
      "[CV] END alpha=0.05, beta_1=0.85, beta_2=0.9999, hidden_layer_sizes=[20, 20, 20], learning_rate_init=0.001; total time=   1.4s\n",
      "[CV] END alpha=0.01, beta_1=0.995, beta_2=0.9995, hidden_layer_sizes=[50, 50, 50], learning_rate_init=0.0005; total time=   2.7s\n",
      "[CV] END alpha=0.05, beta_1=0.85, beta_2=0.9999, hidden_layer_sizes=[20, 20, 20], learning_rate_init=0.001; total time=   1.8s\n",
      "[CV] END alpha=0.05, beta_1=0.85, beta_2=0.9999, hidden_layer_sizes=[20, 20, 20], learning_rate_init=0.001; total time=   1.8s\n",
      "[CV] END alpha=0.05, beta_1=0.875, beta_2=0.9999, hidden_layer_sizes=[20, 20, 20, 20], learning_rate_init=0.01; total time=   3.6s\n"
     ]
    },
    {
     "name": "stderr",
     "output_type": "stream",
     "text": [
      "/mnt/d/Documentos/Documents/projects/supply_chain_forecast/.venv/lib/python3.12/site-packages/sklearn/neural_network/_multilayer_perceptron.py:780: ConvergenceWarning: Stochastic Optimizer: Maximum iterations (200) reached and the optimization hasn't converged yet.\n",
      "  warnings.warn(\n"
     ]
    },
    {
     "name": "stdout",
     "output_type": "stream",
     "text": [
      "[CV] END alpha=0.01, beta_1=0.995, beta_2=0.9995, hidden_layer_sizes=[50, 50, 50], learning_rate_init=0.0005; total time=   3.2s\n",
      "[CV] END alpha=0.01, beta_1=0.995, beta_2=0.9995, hidden_layer_sizes=[50, 50, 50], learning_rate_init=0.0005; total time=   3.3s\n",
      "[CV] END alpha=0.001, beta_1=0.875, beta_2=0.995, hidden_layer_sizes=[20, 20, 20, 20, 20, 20], learning_rate_init=0.05; total time=   0.8s\n",
      "[CV] END alpha=0.001, beta_1=0.875, beta_2=0.995, hidden_layer_sizes=[20, 20, 20, 20, 20, 20], learning_rate_init=0.05; total time=   1.1s\n",
      "[CV] END alpha=0.001, beta_1=0.995, beta_2=0.9999, hidden_layer_sizes=[50, 50, 50, 50, 50], learning_rate_init=0.0005; total time=   2.3s\n"
     ]
    },
    {
     "name": "stderr",
     "output_type": "stream",
     "text": [
      "/mnt/d/Documentos/Documents/projects/supply_chain_forecast/.venv/lib/python3.12/site-packages/sklearn/neural_network/_multilayer_perceptron.py:780: ConvergenceWarning: Stochastic Optimizer: Maximum iterations (200) reached and the optimization hasn't converged yet.\n",
      "  warnings.warn(\n"
     ]
    },
    {
     "name": "stdout",
     "output_type": "stream",
     "text": [
      "[CV] END alpha=0.001, beta_1=0.995, beta_2=0.9999, hidden_layer_sizes=[50, 50, 50, 50, 50], learning_rate_init=0.0005; total time=   2.8s\n",
      "[CV] END alpha=0.001, beta_1=0.875, beta_2=0.995, hidden_layer_sizes=[20, 20, 20, 20, 20, 20], learning_rate_init=0.05; total time=   1.7s\n",
      "[CV] END alpha=0.05, beta_1=0.875, beta_2=0.9999, hidden_layer_sizes=[20, 20, 20, 20, 20, 20], learning_rate_init=0.0005; total time=   1.3s\n",
      "[CV] END alpha=0.01, beta_1=0.995, beta_2=0.9995, hidden_layer_sizes=[50, 50, 50], learning_rate_init=0.0005; total time=   4.7s\n",
      "[CV] END alpha=0.001, beta_1=0.875, beta_2=0.995, hidden_layer_sizes=[20, 20, 20, 20, 20, 20], learning_rate_init=0.05; total time=   2.3s\n",
      "[CV] END alpha=0.05, beta_1=0.85, beta_2=0.9999, hidden_layer_sizes=[20, 20, 20], learning_rate_init=0.001; total time=   4.6s\n",
      "[CV] END alpha=0.05, beta_1=0.875, beta_2=0.9999, hidden_layer_sizes=[20, 20, 20, 20, 20, 20], learning_rate_init=0.0005; total time=   2.4s\n",
      "[CV] END alpha=0.1, beta_1=0.85, beta_2=0.99, hidden_layer_sizes=[10, 10, 10, 10, 10, 10], learning_rate_init=0.005; total time=   1.4s\n",
      "[CV] END alpha=0.1, beta_1=0.85, beta_2=0.99, hidden_layer_sizes=[10, 10, 10, 10, 10, 10], learning_rate_init=0.005; total time=   1.3s\n",
      "[CV] END alpha=0.001, beta_1=0.995, beta_2=0.9999, hidden_layer_sizes=[50, 50, 50, 50, 50], learning_rate_init=0.0005; total time=   4.4s\n",
      "[CV] END alpha=0.01, beta_1=0.95, beta_2=0.999, hidden_layer_sizes=[10, 10], learning_rate_init=0.005; total time=   0.7s\n",
      "[CV] END alpha=0.05, beta_1=0.875, beta_2=0.9999, hidden_layer_sizes=[20, 20, 20, 20, 20, 20], learning_rate_init=0.0005; total time=   2.4s\n",
      "[CV] END alpha=0.001, beta_1=0.875, beta_2=0.995, hidden_layer_sizes=[20, 20, 20, 20, 20, 20], learning_rate_init=0.05; total time=   3.8s\n",
      "[CV] END alpha=0.01, beta_1=0.95, beta_2=0.999, hidden_layer_sizes=[10, 10], learning_rate_init=0.005; total time=   0.9s\n",
      "[CV] END alpha=0.1, beta_1=0.85, beta_2=0.99, hidden_layer_sizes=[10, 10, 10, 10, 10, 10], learning_rate_init=0.005; total time=   1.6s\n",
      "[CV] END alpha=0.001, beta_1=0.995, beta_2=0.9999, hidden_layer_sizes=[50, 50, 50, 50, 50], learning_rate_init=0.0005; total time=   5.4s\n",
      "[CV] END alpha=1, beta_1=0.99, beta_2=0.9999, hidden_layer_sizes=[40, 40, 40], learning_rate_init=0.005; total time=   0.4s\n",
      "[CV] END alpha=0.05, beta_1=0.875, beta_2=0.9999, hidden_layer_sizes=[20, 20, 20, 20, 20, 20], learning_rate_init=0.0005; total time=   3.5s\n",
      "[CV] END alpha=0.001, beta_1=0.995, beta_2=0.9999, hidden_layer_sizes=[50, 50, 50, 50, 50], learning_rate_init=0.0005; total time=   5.4s\n",
      "[CV] END alpha=1, beta_1=0.99, beta_2=0.9999, hidden_layer_sizes=[40, 40, 40], learning_rate_init=0.005; total time=   0.8s\n",
      "[CV] END alpha=0.01, beta_1=0.95, beta_2=0.999, hidden_layer_sizes=[10, 10], learning_rate_init=0.005; total time=   1.4s\n",
      "[CV] END alpha=0.05, beta_1=0.875, beta_2=0.9999, hidden_layer_sizes=[20, 20, 20, 20, 20, 20], learning_rate_init=0.0005; total time=   3.8s\n",
      "[CV] END alpha=0.01, beta_1=0.95, beta_2=0.999, hidden_layer_sizes=[10, 10], learning_rate_init=0.005; total time=   1.9s\n"
     ]
    },
    {
     "name": "stderr",
     "output_type": "stream",
     "text": [
      "/mnt/d/Documentos/Documents/projects/supply_chain_forecast/.venv/lib/python3.12/site-packages/sklearn/neural_network/_multilayer_perceptron.py:780: ConvergenceWarning: Stochastic Optimizer: Maximum iterations (200) reached and the optimization hasn't converged yet.\n",
      "  warnings.warn(\n"
     ]
    },
    {
     "name": "stdout",
     "output_type": "stream",
     "text": [
      "[CV] END alpha=0.1, beta_1=0.85, beta_2=0.99, hidden_layer_sizes=[10, 10, 10, 10, 10, 10], learning_rate_init=0.005; total time=   2.5s\n",
      "[CV] END alpha=0.5, beta_1=0.95, beta_2=0.995, hidden_layer_sizes=[20, 20], learning_rate_init=0.005; total time=   0.2s\n",
      "[CV] END alpha=1, beta_1=0.99, beta_2=0.9999, hidden_layer_sizes=[40, 40, 40], learning_rate_init=0.005; total time=   1.4s\n",
      "[CV] END alpha=1, beta_1=0.99, beta_2=0.9999, hidden_layer_sizes=[40, 40, 40], learning_rate_init=0.005; total time=   1.4s\n",
      "[CV] END alpha=0.5, beta_1=0.95, beta_2=0.995, hidden_layer_sizes=[20, 20], learning_rate_init=0.005; total time=   0.7s\n",
      "[CV] END alpha=0.01, beta_1=0.95, beta_2=0.999, hidden_layer_sizes=[10, 10], learning_rate_init=0.005; total time=   2.6s\n",
      "[CV] END alpha=0.1, beta_1=0.85, beta_2=0.99, hidden_layer_sizes=[10, 10, 10, 10, 10, 10], learning_rate_init=0.005; total time=   3.4s\n",
      "[CV] END alpha=0.5, beta_1=0.95, beta_2=0.995, hidden_layer_sizes=[20, 20], learning_rate_init=0.005; total time=   1.0s\n",
      "[CV] END alpha=0.5, beta_1=0.95, beta_2=0.995, hidden_layer_sizes=[20, 20], learning_rate_init=0.005; total time=   1.5s\n",
      "[CV] END alpha=0.5, beta_1=0.95, beta_2=0.995, hidden_layer_sizes=[20, 20], learning_rate_init=0.005; total time=   1.5s\n",
      "[CV] END alpha=0.05, beta_1=0.99, beta_2=0.99, hidden_layer_sizes=[50, 50, 50, 50, 50, 50], learning_rate_init=0.005; total time=   2.7s\n",
      "[CV] END alpha=0.05, beta_1=0.99, beta_2=0.99, hidden_layer_sizes=[50, 50, 50, 50, 50, 50], learning_rate_init=0.005; total time=   3.0s\n"
     ]
    },
    {
     "name": "stderr",
     "output_type": "stream",
     "text": [
      "/mnt/d/Documentos/Documents/projects/supply_chain_forecast/.venv/lib/python3.12/site-packages/sklearn/neural_network/_multilayer_perceptron.py:780: ConvergenceWarning: Stochastic Optimizer: Maximum iterations (200) reached and the optimization hasn't converged yet.\n",
      "  warnings.warn(\n"
     ]
    },
    {
     "name": "stdout",
     "output_type": "stream",
     "text": [
      "[CV] END alpha=0.05, beta_1=0.99, beta_2=0.999, hidden_layer_sizes=[30, 30, 30, 30, 30], learning_rate_init=0.001; total time=   1.1s\n",
      "[CV] END alpha=1, beta_1=0.99, beta_2=0.9999, hidden_layer_sizes=[40, 40, 40], learning_rate_init=0.005; total time=   3.9s\n",
      "[CV] END alpha=0.01, beta_1=0.975, beta_2=0.999, hidden_layer_sizes=[30, 30, 30, 30, 30], learning_rate_init=0.05; total time=   2.1s\n"
     ]
    },
    {
     "name": "stderr",
     "output_type": "stream",
     "text": [
      "/mnt/d/Documentos/Documents/projects/supply_chain_forecast/.venv/lib/python3.12/site-packages/sklearn/neural_network/_multilayer_perceptron.py:780: ConvergenceWarning: Stochastic Optimizer: Maximum iterations (200) reached and the optimization hasn't converged yet.\n",
      "  warnings.warn(\n"
     ]
    },
    {
     "name": "stdout",
     "output_type": "stream",
     "text": [
      "[CV] END alpha=0.01, beta_1=0.975, beta_2=0.999, hidden_layer_sizes=[30, 30, 30, 30, 30], learning_rate_init=0.05; total time=   2.2s\n",
      "[CV] END alpha=0.01, beta_1=0.975, beta_2=0.999, hidden_layer_sizes=[30, 30, 30, 30, 30], learning_rate_init=0.05; total time=   2.8s\n",
      "[CV] END alpha=0.01, beta_1=0.975, beta_2=0.999, hidden_layer_sizes=[30, 30, 30, 30, 30], learning_rate_init=0.05; total time=   2.4s\n",
      "[CV] END alpha=0.5, beta_1=0.975, beta_2=0.9999, hidden_layer_sizes=[50, 50, 50], learning_rate_init=0.01; total time=   1.3s\n",
      "[CV] END alpha=0.05, beta_1=0.99, beta_2=0.999, hidden_layer_sizes=[30, 30, 30, 30, 30], learning_rate_init=0.001; total time=   2.1s\n",
      "[CV] END alpha=0.05, beta_1=0.99, beta_2=0.99, hidden_layer_sizes=[50, 50, 50, 50, 50, 50], learning_rate_init=0.005; total time=   5.2s\n",
      "[CV] END alpha=0.5, beta_1=0.975, beta_2=0.9999, hidden_layer_sizes=[50, 50, 50], learning_rate_init=0.01; total time=   1.6s\n",
      "[CV] END alpha=1, beta_1=0.95, beta_2=0.995, hidden_layer_sizes=[30, 30, 30], learning_rate_init=0.05; total time=   1.2s\n",
      "[CV] END alpha=0.5, beta_1=0.975, beta_2=0.9999, hidden_layer_sizes=[50, 50, 50], learning_rate_init=0.01; total time=   2.8s\n",
      "[CV] END alpha=1, beta_1=0.95, beta_2=0.995, hidden_layer_sizes=[30, 30, 30], learning_rate_init=0.05; total time=   1.4s\n",
      "[CV] END alpha=1, beta_1=0.95, beta_2=0.995, hidden_layer_sizes=[30, 30, 30], learning_rate_init=0.05; total time=   1.0s\n",
      "[CV] END alpha=0.05, beta_1=0.99, beta_2=0.99, hidden_layer_sizes=[50, 50, 50, 50, 50, 50], learning_rate_init=0.005; total time=   6.7s\n",
      "[CV] END alpha=0.5, beta_1=0.975, beta_2=0.9999, hidden_layer_sizes=[50, 50, 50], learning_rate_init=0.01; total time=   2.6s\n",
      "[CV] END alpha=0.05, beta_1=0.99, beta_2=0.999, hidden_layer_sizes=[30, 30, 30, 30, 30], learning_rate_init=0.001; total time=   3.5s\n",
      "[CV] END alpha=0.5, beta_1=0.975, beta_2=0.9999, hidden_layer_sizes=[50, 50, 50], learning_rate_init=0.01; total time=   2.3s\n",
      "[CV] END alpha=1, beta_1=0.875, beta_2=0.999, hidden_layer_sizes=[20, 20, 20, 20, 20], learning_rate_init=0.01; total time=   0.5s\n",
      "[CV] END alpha=0.5, beta_1=0.99, beta_2=0.995, hidden_layer_sizes=[40, 40, 40, 40, 40, 40], learning_rate_init=0.05; total time=   1.1s\n",
      "[CV] END alpha=1, beta_1=0.95, beta_2=0.995, hidden_layer_sizes=[30, 30, 30], learning_rate_init=0.05; total time=   1.8s\n",
      "[CV] END alpha=0.01, beta_1=0.975, beta_2=0.999, hidden_layer_sizes=[30, 30, 30, 30, 30], learning_rate_init=0.05; total time=   5.7s\n",
      "[CV] END alpha=0.05, beta_1=0.99, beta_2=0.99, hidden_layer_sizes=[50, 50, 50, 50, 50, 50], learning_rate_init=0.005; total time=   7.8s\n",
      "[CV] END alpha=0.05, beta_1=0.99, beta_2=0.999, hidden_layer_sizes=[30, 30, 30, 30, 30], learning_rate_init=0.001; total time=   5.2s\n",
      "[CV] END alpha=1, beta_1=0.95, beta_2=0.995, hidden_layer_sizes=[30, 30, 30], learning_rate_init=0.05; total time=   1.7s\n"
     ]
    },
    {
     "name": "stderr",
     "output_type": "stream",
     "text": [
      "/mnt/d/Documentos/Documents/projects/supply_chain_forecast/.venv/lib/python3.12/site-packages/sklearn/neural_network/_multilayer_perceptron.py:780: ConvergenceWarning: Stochastic Optimizer: Maximum iterations (200) reached and the optimization hasn't converged yet.\n",
      "  warnings.warn(\n"
     ]
    },
    {
     "name": "stdout",
     "output_type": "stream",
     "text": [
      "[CV] END alpha=0.1, beta_1=0.85, beta_2=0.999, hidden_layer_sizes=[30, 30, 30, 30], learning_rate_init=0.01; total time=   0.6s\n",
      "[CV] END alpha=0.1, beta_1=0.85, beta_2=0.999, hidden_layer_sizes=[30, 30, 30, 30], learning_rate_init=0.01; total time=   0.7s\n",
      "[CV] END alpha=1, beta_1=0.875, beta_2=0.999, hidden_layer_sizes=[20, 20, 20, 20, 20], learning_rate_init=0.01; total time=   1.3s\n",
      "[CV] END alpha=0.05, beta_1=0.99, beta_2=0.999, hidden_layer_sizes=[30, 30, 30, 30, 30], learning_rate_init=0.001; total time=   5.8s\n",
      "[CV] END alpha=0.5, beta_1=0.99, beta_2=0.995, hidden_layer_sizes=[40, 40, 40, 40, 40, 40], learning_rate_init=0.05; total time=   2.5s\n",
      "[CV] END alpha=0.5, beta_1=0.99, beta_2=0.995, hidden_layer_sizes=[40, 40, 40, 40, 40, 40], learning_rate_init=0.05; total time=   2.5s\n",
      "[CV] END alpha=1, beta_1=0.875, beta_2=0.999, hidden_layer_sizes=[20, 20, 20, 20, 20], learning_rate_init=0.01; total time=   1.6s\n",
      "[CV] END alpha=0.1, beta_1=0.85, beta_2=0.999, hidden_layer_sizes=[30, 30, 30, 30], learning_rate_init=0.01; total time=   1.5s\n",
      "[CV] END alpha=1, beta_1=0.875, beta_2=0.999, hidden_layer_sizes=[20, 20, 20, 20, 20], learning_rate_init=0.01; total time=   2.0s\n",
      "[CV] END alpha=0.5, beta_1=0.99, beta_2=0.995, hidden_layer_sizes=[40, 40, 40, 40, 40, 40], learning_rate_init=0.05; total time=   3.2s\n",
      "[CV] END alpha=0.001, beta_1=0.995, beta_2=0.9995, hidden_layer_sizes=[40, 40, 40], learning_rate_init=0.0005; total time=   1.2s\n",
      "[CV] END alpha=0.001, beta_1=0.995, beta_2=0.9995, hidden_layer_sizes=[40, 40, 40], learning_rate_init=0.0005; total time=   1.4s\n"
     ]
    },
    {
     "name": "stderr",
     "output_type": "stream",
     "text": [
      "/mnt/d/Documentos/Documents/projects/supply_chain_forecast/.venv/lib/python3.12/site-packages/sklearn/neural_network/_multilayer_perceptron.py:780: ConvergenceWarning: Stochastic Optimizer: Maximum iterations (200) reached and the optimization hasn't converged yet.\n",
      "  warnings.warn(\n"
     ]
    },
    {
     "name": "stdout",
     "output_type": "stream",
     "text": [
      "[CV] END alpha=0.5, beta_1=0.99, beta_2=0.995, hidden_layer_sizes=[40, 40, 40, 40, 40, 40], learning_rate_init=0.05; total time=   3.6s\n",
      "[CV] END alpha=0.1, beta_1=0.85, beta_2=0.999, hidden_layer_sizes=[30, 30, 30, 30], learning_rate_init=0.01; total time=   2.1s\n",
      "[CV] END alpha=0.5, beta_1=0.975, beta_2=0.9995, hidden_layer_sizes=[50, 50, 50, 50, 50], learning_rate_init=0.01; total time=   1.3s\n",
      "[CV] END alpha=0.001, beta_1=0.995, beta_2=0.9995, hidden_layer_sizes=[40, 40, 40], learning_rate_init=0.0005; total time=   1.8s\n",
      "[CV] END alpha=0.5, beta_1=0.975, beta_2=0.9995, hidden_layer_sizes=[50, 50, 50, 50, 50], learning_rate_init=0.01; total time=   1.6s\n",
      "[CV] END alpha=1, beta_1=0.875, beta_2=0.999, hidden_layer_sizes=[20, 20, 20, 20, 20], learning_rate_init=0.01; total time=   3.6s\n"
     ]
    },
    {
     "name": "stderr",
     "output_type": "stream",
     "text": [
      "/mnt/d/Documentos/Documents/projects/supply_chain_forecast/.venv/lib/python3.12/site-packages/sklearn/neural_network/_multilayer_perceptron.py:780: ConvergenceWarning: Stochastic Optimizer: Maximum iterations (200) reached and the optimization hasn't converged yet.\n",
      "  warnings.warn(\n"
     ]
    },
    {
     "name": "stdout",
     "output_type": "stream",
     "text": [
      "[CV] END alpha=0.5, beta_1=0.975, beta_2=0.995, hidden_layer_sizes=[10, 10, 10, 10], learning_rate_init=0.0005; total time=   1.1s\n",
      "[CV] END alpha=0.1, beta_1=0.85, beta_2=0.999, hidden_layer_sizes=[30, 30, 30, 30], learning_rate_init=0.01; total time=   3.3s\n",
      "[CV] END alpha=0.01, beta_1=0.875, beta_2=0.9999, hidden_layer_sizes=[20, 20, 20, 20], learning_rate_init=0.001; total time=   0.4s\n",
      "[CV] END alpha=0.5, beta_1=0.975, beta_2=0.995, hidden_layer_sizes=[10, 10, 10, 10], learning_rate_init=0.0005; total time=   1.3s\n",
      "[CV] END alpha=0.01, beta_1=0.875, beta_2=0.9999, hidden_layer_sizes=[20, 20, 20, 20], learning_rate_init=0.001; total time=   0.9s\n",
      "[CV] END alpha=0.001, beta_1=0.995, beta_2=0.9995, hidden_layer_sizes=[40, 40, 40], learning_rate_init=0.0005; total time=   3.4s\n",
      "[CV] END alpha=1, beta_1=0.99, beta_2=0.999, hidden_layer_sizes=[10, 10, 10, 10, 10], learning_rate_init=0.01; total time=   0.8s\n",
      "[CV] END alpha=0.01, beta_1=0.875, beta_2=0.9999, hidden_layer_sizes=[20, 20, 20, 20], learning_rate_init=0.001; total time=   1.7s\n",
      "[CV] END alpha=0.001, beta_1=0.995, beta_2=0.9995, hidden_layer_sizes=[40, 40, 40], learning_rate_init=0.0005; total time=   4.4s\n",
      "[CV] END alpha=0.5, beta_1=0.975, beta_2=0.9995, hidden_layer_sizes=[50, 50, 50, 50, 50], learning_rate_init=0.01; total time=   4.0s\n",
      "[CV] END alpha=0.01, beta_1=0.875, beta_2=0.9999, hidden_layer_sizes=[20, 20, 20, 20], learning_rate_init=0.001; total time=   2.3s\n",
      "[CV] END alpha=1, beta_1=0.99, beta_2=0.999, hidden_layer_sizes=[10, 10, 10, 10, 10], learning_rate_init=0.01; total time=   1.5s\n"
     ]
    },
    {
     "name": "stderr",
     "output_type": "stream",
     "text": [
      "/mnt/d/Documentos/Documents/projects/supply_chain_forecast/.venv/lib/python3.12/site-packages/sklearn/neural_network/_multilayer_perceptron.py:780: ConvergenceWarning: Stochastic Optimizer: Maximum iterations (200) reached and the optimization hasn't converged yet.\n",
      "  warnings.warn(\n",
      "/mnt/d/Documentos/Documents/projects/supply_chain_forecast/.venv/lib/python3.12/site-packages/sklearn/neural_network/_multilayer_perceptron.py:780: ConvergenceWarning: Stochastic Optimizer: Maximum iterations (200) reached and the optimization hasn't converged yet.\n",
      "  warnings.warn(\n"
     ]
    },
    {
     "name": "stdout",
     "output_type": "stream",
     "text": [
      "[CV] END alpha=0.5, beta_1=0.975, beta_2=0.995, hidden_layer_sizes=[10, 10, 10, 10], learning_rate_init=0.0005; total time=   3.6s\n",
      "[CV] END alpha=0.5, beta_1=0.975, beta_2=0.995, hidden_layer_sizes=[10, 10, 10, 10], learning_rate_init=0.0005; total time=   3.8s\n",
      "[CV] END alpha=0.5, beta_1=0.9, beta_2=0.999, hidden_layer_sizes=[30, 30, 30], learning_rate_init=0.005; total time=   0.7s\n",
      "[CV] END alpha=0.01, beta_1=0.875, beta_2=0.9999, hidden_layer_sizes=[20, 20, 20, 20], learning_rate_init=0.001; total time=   2.9s\n",
      "[CV] END alpha=0.5, beta_1=0.9, beta_2=0.999, hidden_layer_sizes=[30, 30, 30], learning_rate_init=0.005; total time=   0.9s\n",
      "[CV] END alpha=0.5, beta_1=0.975, beta_2=0.9995, hidden_layer_sizes=[50, 50, 50, 50, 50], learning_rate_init=0.01; total time=   5.1s\n",
      "[CV] END alpha=1, beta_1=0.85, beta_2=0.9999, hidden_layer_sizes=[10, 10], learning_rate_init=0.01; total time=   0.6s\n",
      "[CV] END alpha=1, beta_1=0.85, beta_2=0.9999, hidden_layer_sizes=[10, 10], learning_rate_init=0.01; total time=   0.6s\n",
      "[CV] END alpha=1, beta_1=0.99, beta_2=0.999, hidden_layer_sizes=[10, 10, 10, 10, 10], learning_rate_init=0.01; total time=   2.3s\n",
      "[CV] END alpha=0.5, beta_1=0.975, beta_2=0.995, hidden_layer_sizes=[10, 10, 10, 10], learning_rate_init=0.0005; total time=   4.7s\n",
      "[CV] END alpha=0.5, beta_1=0.9, beta_2=0.999, hidden_layer_sizes=[30, 30, 30], learning_rate_init=0.005; total time=   1.9s\n",
      "[CV] END alpha=0.5, beta_1=0.9, beta_2=0.999, hidden_layer_sizes=[30, 30, 30], learning_rate_init=0.005; total time=   1.4s\n",
      "[CV] END alpha=1, beta_1=0.85, beta_2=0.9999, hidden_layer_sizes=[10, 10], learning_rate_init=0.01; total time=   0.8s\n",
      "[CV] END alpha=1, beta_1=0.85, beta_2=0.9999, hidden_layer_sizes=[10, 10], learning_rate_init=0.01; total time=   0.8s\n",
      "[CV] END alpha=1, beta_1=0.85, beta_2=0.9999, hidden_layer_sizes=[10, 10], learning_rate_init=0.01; total time=   1.0s\n",
      "[CV] END alpha=1, beta_1=0.975, beta_2=0.995, hidden_layer_sizes=[30, 30, 30, 30, 30], learning_rate_init=0.001; total time=   0.7s\n",
      "[CV] END alpha=1, beta_1=0.99, beta_2=0.999, hidden_layer_sizes=[10, 10, 10, 10, 10], learning_rate_init=0.01; total time=   3.1s\n",
      "[CV] END alpha=0.5, beta_1=0.975, beta_2=0.9995, hidden_layer_sizes=[50, 50, 50, 50, 50], learning_rate_init=0.01; total time=   6.4s\n",
      "[CV] END alpha=0.5, beta_1=0.9, beta_2=0.999, hidden_layer_sizes=[30, 30, 30], learning_rate_init=0.005; total time=   2.6s\n",
      "[CV] END alpha=1, beta_1=0.99, beta_2=0.999, hidden_layer_sizes=[10, 10, 10, 10, 10], learning_rate_init=0.01; total time=   3.6s\n",
      "[CV] END alpha=1, beta_1=0.95, beta_2=0.99, hidden_layer_sizes=[40, 40, 40, 40, 40], learning_rate_init=0.01; total time=   1.3s\n",
      "[CV] END alpha=1, beta_1=0.95, beta_2=0.99, hidden_layer_sizes=[40, 40, 40, 40, 40], learning_rate_init=0.01; total time=   1.5s\n",
      "[CV] END alpha=0.5, beta_1=0.875, beta_2=0.99, hidden_layer_sizes=[20, 20, 20, 20, 20, 20], learning_rate_init=0.05; total time=   1.1s\n",
      "[CV] END alpha=1, beta_1=0.975, beta_2=0.995, hidden_layer_sizes=[30, 30, 30, 30, 30], learning_rate_init=0.001; total time=   2.4s\n",
      "[CV] END alpha=0.5, beta_1=0.875, beta_2=0.99, hidden_layer_sizes=[20, 20, 20, 20, 20, 20], learning_rate_init=0.05; total time=   1.4s\n",
      "[CV] END alpha=1, beta_1=0.95, beta_2=0.99, hidden_layer_sizes=[40, 40, 40, 40, 40], learning_rate_init=0.01; total time=   2.5s\n",
      "[CV] END alpha=1, beta_1=0.975, beta_2=0.995, hidden_layer_sizes=[30, 30, 30, 30, 30], learning_rate_init=0.001; total time=   2.9s\n",
      "[CV] END alpha=0.001, beta_1=0.975, beta_2=0.9995, hidden_layer_sizes=[40, 40, 40, 40, 40, 40], learning_rate_init=0.0005; total time=   1.2s\n",
      "[CV] END alpha=1, beta_1=0.975, beta_2=0.995, hidden_layer_sizes=[30, 30, 30, 30, 30], learning_rate_init=0.001; total time=   3.1s\n",
      "[CV] END alpha=0.01, beta_1=0.99, beta_2=0.995, hidden_layer_sizes=[10, 10, 10], learning_rate_init=0.0005; total time=   0.5s\n",
      "[CV] END alpha=1, beta_1=0.975, beta_2=0.995, hidden_layer_sizes=[30, 30, 30, 30, 30], learning_rate_init=0.001; total time=   4.6s\n",
      "[CV] END alpha=0.01, beta_1=0.99, beta_2=0.995, hidden_layer_sizes=[10, 10, 10], learning_rate_init=0.0005; total time=   1.6s\n",
      "[CV] END alpha=0.5, beta_1=0.875, beta_2=0.99, hidden_layer_sizes=[20, 20, 20, 20, 20, 20], learning_rate_init=0.05; total time=   3.1s\n"
     ]
    },
    {
     "name": "stderr",
     "output_type": "stream",
     "text": [
      "/mnt/d/Documentos/Documents/projects/supply_chain_forecast/.venv/lib/python3.12/site-packages/sklearn/neural_network/_multilayer_perceptron.py:780: ConvergenceWarning: Stochastic Optimizer: Maximum iterations (200) reached and the optimization hasn't converged yet.\n",
      "  warnings.warn(\n"
     ]
    },
    {
     "name": "stdout",
     "output_type": "stream",
     "text": [
      "[CV] END alpha=1, beta_1=0.95, beta_2=0.99, hidden_layer_sizes=[40, 40, 40, 40, 40], learning_rate_init=0.01; total time=   4.6s\n",
      "[CV] END alpha=0.001, beta_1=0.975, beta_2=0.9995, hidden_layer_sizes=[40, 40, 40, 40, 40, 40], learning_rate_init=0.0005; total time=   2.9s\n",
      "[CV] END alpha=0.05, beta_1=0.85, beta_2=0.9995, hidden_layer_sizes=[20, 20], learning_rate_init=0.005; total time=   0.5s\n",
      "[CV] END alpha=0.001, beta_1=0.975, beta_2=0.9995, hidden_layer_sizes=[40, 40, 40, 40, 40, 40], learning_rate_init=0.0005; total time=   3.2s\n",
      "[CV] END alpha=0.01, beta_1=0.99, beta_2=0.995, hidden_layer_sizes=[10, 10, 10], learning_rate_init=0.0005; total time=   2.4s\n"
     ]
    },
    {
     "name": "stderr",
     "output_type": "stream",
     "text": [
      "/mnt/d/Documentos/Documents/projects/supply_chain_forecast/.venv/lib/python3.12/site-packages/sklearn/neural_network/_multilayer_perceptron.py:780: ConvergenceWarning: Stochastic Optimizer: Maximum iterations (200) reached and the optimization hasn't converged yet.\n",
      "  warnings.warn(\n",
      "/mnt/d/Documentos/Documents/projects/supply_chain_forecast/.venv/lib/python3.12/site-packages/sklearn/neural_network/_multilayer_perceptron.py:780: ConvergenceWarning: Stochastic Optimizer: Maximum iterations (200) reached and the optimization hasn't converged yet.\n",
      "  warnings.warn(\n"
     ]
    },
    {
     "name": "stdout",
     "output_type": "stream",
     "text": [
      "[CV] END alpha=0.5, beta_1=0.875, beta_2=0.99, hidden_layer_sizes=[20, 20, 20, 20, 20, 20], learning_rate_init=0.05; total time=   4.8s\n",
      "[CV] END alpha=0.05, beta_1=0.85, beta_2=0.9995, hidden_layer_sizes=[20, 20], learning_rate_init=0.005; total time=   1.0s\n",
      "[CV] END alpha=0.05, beta_1=0.85, beta_2=0.9995, hidden_layer_sizes=[20, 20], learning_rate_init=0.005; total time=   1.4s\n",
      "[CV] END alpha=0.1, beta_1=0.85, beta_2=0.995, hidden_layer_sizes=[10, 10, 10, 10], learning_rate_init=0.005; total time=   0.3s\n",
      "[CV] END alpha=0.5, beta_1=0.875, beta_2=0.99, hidden_layer_sizes=[20, 20, 20, 20, 20, 20], learning_rate_init=0.05; total time=   4.8s\n"
     ]
    },
    {
     "name": "stderr",
     "output_type": "stream",
     "text": [
      "/mnt/d/Documentos/Documents/projects/supply_chain_forecast/.venv/lib/python3.12/site-packages/sklearn/neural_network/_multilayer_perceptron.py:780: ConvergenceWarning: Stochastic Optimizer: Maximum iterations (200) reached and the optimization hasn't converged yet.\n",
      "  warnings.warn(\n"
     ]
    },
    {
     "name": "stdout",
     "output_type": "stream",
     "text": [
      "[CV] END alpha=0.001, beta_1=0.975, beta_2=0.9995, hidden_layer_sizes=[40, 40, 40, 40, 40, 40], learning_rate_init=0.0005; total time=   3.4s\n",
      "[CV] END alpha=0.05, beta_1=0.9, beta_2=0.9999, hidden_layer_sizes=[10, 10], learning_rate_init=0.001; total time=   0.2s\n",
      "[CV] END alpha=0.05, beta_1=0.85, beta_2=0.9995, hidden_layer_sizes=[20, 20], learning_rate_init=0.005; total time=   1.4s\n",
      "[CV] END alpha=0.05, beta_1=0.9, beta_2=0.9999, hidden_layer_sizes=[10, 10], learning_rate_init=0.001; total time=   0.4s\n",
      "[CV] END alpha=0.01, beta_1=0.99, beta_2=0.995, hidden_layer_sizes=[10, 10, 10], learning_rate_init=0.0005; total time=   2.6s\n",
      "[CV] END alpha=0.001, beta_1=0.975, beta_2=0.9995, hidden_layer_sizes=[40, 40, 40, 40, 40, 40], learning_rate_init=0.0005; total time=   4.8s\n",
      "[CV] END alpha=0.01, beta_1=0.99, beta_2=0.995, hidden_layer_sizes=[10, 10, 10], learning_rate_init=0.0005; total time=   3.0s\n",
      "[CV] END alpha=0.1, beta_1=0.85, beta_2=0.995, hidden_layer_sizes=[10, 10, 10, 10], learning_rate_init=0.005; total time=   1.4s\n",
      "[CV] END alpha=1, beta_1=0.95, beta_2=0.99, hidden_layer_sizes=[40, 40, 40, 40, 40], learning_rate_init=0.01; total time=   7.2s\n",
      "[CV] END alpha=0.1, beta_1=0.85, beta_2=0.995, hidden_layer_sizes=[10, 10, 10, 10], learning_rate_init=0.005; total time=   1.4s\n"
     ]
    },
    {
     "name": "stderr",
     "output_type": "stream",
     "text": [
      "/mnt/d/Documentos/Documents/projects/supply_chain_forecast/.venv/lib/python3.12/site-packages/sklearn/neural_network/_multilayer_perceptron.py:780: ConvergenceWarning: Stochastic Optimizer: Maximum iterations (200) reached and the optimization hasn't converged yet.\n",
      "  warnings.warn(\n"
     ]
    },
    {
     "name": "stdout",
     "output_type": "stream",
     "text": [
      "[CV] END alpha=5, beta_1=0.975, beta_2=0.999, hidden_layer_sizes=[40, 40, 40], learning_rate_init=0.001; total time=   0.6s\n",
      "[CV] END alpha=0.05, beta_1=0.85, beta_2=0.9995, hidden_layer_sizes=[20, 20], learning_rate_init=0.005; total time=   2.0s\n",
      "[CV] END alpha=0.05, beta_1=0.9, beta_2=0.9999, hidden_layer_sizes=[10, 10], learning_rate_init=0.001; total time=   1.4s\n",
      "[CV] END alpha=0.05, beta_1=0.9, beta_2=0.9999, hidden_layer_sizes=[10, 10], learning_rate_init=0.001; total time=   1.4s\n"
     ]
    },
    {
     "name": "stderr",
     "output_type": "stream",
     "text": [
      "/mnt/d/Documentos/Documents/projects/supply_chain_forecast/.venv/lib/python3.12/site-packages/sklearn/neural_network/_multilayer_perceptron.py:780: ConvergenceWarning: Stochastic Optimizer: Maximum iterations (200) reached and the optimization hasn't converged yet.\n",
      "  warnings.warn(\n"
     ]
    },
    {
     "name": "stdout",
     "output_type": "stream",
     "text": [
      "[CV] END alpha=0.1, beta_1=0.85, beta_2=0.995, hidden_layer_sizes=[10, 10, 10, 10], learning_rate_init=0.005; total time=   2.1s\n",
      "[CV] END alpha=0.1, beta_1=0.85, beta_2=0.995, hidden_layer_sizes=[10, 10, 10, 10], learning_rate_init=0.005; total time=   2.1s\n",
      "[CV] END alpha=0.05, beta_1=0.9, beta_2=0.9999, hidden_layer_sizes=[10, 10], learning_rate_init=0.001; total time=   2.0s\n",
      "[CV] END alpha=0.001, beta_1=0.995, beta_2=0.9995, hidden_layer_sizes=[50, 50, 50, 50, 50], learning_rate_init=0.001; total time=   1.3s\n",
      "[CV] END alpha=5, beta_1=0.975, beta_2=0.999, hidden_layer_sizes=[40, 40, 40], learning_rate_init=0.001; total time=   1.9s\n",
      "[CV] END alpha=1, beta_1=0.9, beta_2=0.995, hidden_layer_sizes=[10, 10, 10], learning_rate_init=0.001; total time=   1.1s\n",
      "[CV] END alpha=5, beta_1=0.975, beta_2=0.999, hidden_layer_sizes=[40, 40, 40], learning_rate_init=0.001; total time=   1.9s\n"
     ]
    },
    {
     "name": "stderr",
     "output_type": "stream",
     "text": [
      "/mnt/d/Documentos/Documents/projects/supply_chain_forecast/.venv/lib/python3.12/site-packages/sklearn/neural_network/_multilayer_perceptron.py:780: ConvergenceWarning: Stochastic Optimizer: Maximum iterations (200) reached and the optimization hasn't converged yet.\n",
      "  warnings.warn(\n",
      "/mnt/d/Documentos/Documents/projects/supply_chain_forecast/.venv/lib/python3.12/site-packages/sklearn/neural_network/_multilayer_perceptron.py:780: ConvergenceWarning: Stochastic Optimizer: Maximum iterations (200) reached and the optimization hasn't converged yet.\n",
      "  warnings.warn(\n"
     ]
    },
    {
     "name": "stdout",
     "output_type": "stream",
     "text": [
      "[CV] END alpha=1, beta_1=0.9, beta_2=0.995, hidden_layer_sizes=[10, 10, 10], learning_rate_init=0.001; total time=   1.6s\n",
      "[CV] END alpha=0.5, beta_1=0.995, beta_2=0.9999, hidden_layer_sizes=[10, 10, 10], learning_rate_init=0.001; total time=   0.9s\n",
      "[CV] END alpha=1, beta_1=0.9, beta_2=0.995, hidden_layer_sizes=[10, 10, 10], learning_rate_init=0.001; total time=   1.8s\n",
      "[CV] END alpha=5, beta_1=0.975, beta_2=0.999, hidden_layer_sizes=[40, 40, 40], learning_rate_init=0.001; total time=   2.8s\n",
      "[CV] END alpha=5, beta_1=0.95, beta_2=0.9995, hidden_layer_sizes=[40, 40, 40], learning_rate_init=0.005; total time=   0.4s\n"
     ]
    },
    {
     "name": "stderr",
     "output_type": "stream",
     "text": [
      "/mnt/d/Documentos/Documents/projects/supply_chain_forecast/.venv/lib/python3.12/site-packages/sklearn/neural_network/_multilayer_perceptron.py:780: ConvergenceWarning: Stochastic Optimizer: Maximum iterations (200) reached and the optimization hasn't converged yet.\n",
      "  warnings.warn(\n"
     ]
    },
    {
     "name": "stdout",
     "output_type": "stream",
     "text": [
      "[CV] END alpha=0.5, beta_1=0.995, beta_2=0.9999, hidden_layer_sizes=[10, 10, 10], learning_rate_init=0.001; total time=   1.7s\n",
      "[CV] END alpha=5, beta_1=0.975, beta_2=0.999, hidden_layer_sizes=[40, 40, 40], learning_rate_init=0.001; total time=   4.1s\n",
      "[CV] END alpha=0.001, beta_1=0.995, beta_2=0.9995, hidden_layer_sizes=[50, 50, 50, 50, 50], learning_rate_init=0.001; total time=   3.7s\n",
      "[CV] END alpha=5, beta_1=0.95, beta_2=0.9995, hidden_layer_sizes=[40, 40, 40], learning_rate_init=0.005; total time=   1.1s\n",
      "[CV] END alpha=1, beta_1=0.9, beta_2=0.995, hidden_layer_sizes=[10, 10, 10], learning_rate_init=0.001; total time=   3.2s\n"
     ]
    },
    {
     "name": "stderr",
     "output_type": "stream",
     "text": [
      "/mnt/d/Documentos/Documents/projects/supply_chain_forecast/.venv/lib/python3.12/site-packages/sklearn/neural_network/_multilayer_perceptron.py:780: ConvergenceWarning: Stochastic Optimizer: Maximum iterations (200) reached and the optimization hasn't converged yet.\n",
      "  warnings.warn(\n",
      "/mnt/d/Documentos/Documents/projects/supply_chain_forecast/.venv/lib/python3.12/site-packages/sklearn/neural_network/_multilayer_perceptron.py:780: ConvergenceWarning: Stochastic Optimizer: Maximum iterations (200) reached and the optimization hasn't converged yet.\n",
      "  warnings.warn(\n"
     ]
    },
    {
     "name": "stdout",
     "output_type": "stream",
     "text": [
      "[CV] END alpha=0.5, beta_1=0.995, beta_2=0.9999, hidden_layer_sizes=[10, 10, 10], learning_rate_init=0.001; total time=   2.3s\n",
      "[CV] END alpha=0.001, beta_1=0.995, beta_2=0.9995, hidden_layer_sizes=[50, 50, 50, 50, 50], learning_rate_init=0.001; total time=   4.6s\n",
      "[CV] END alpha=0.001, beta_1=0.995, beta_2=0.9995, hidden_layer_sizes=[50, 50, 50, 50, 50], learning_rate_init=0.001; total time=   4.7s\n",
      "[CV] END alpha=1, beta_1=0.9, beta_2=0.995, hidden_layer_sizes=[10, 10, 10], learning_rate_init=0.001; total time=   3.5s\n",
      "[CV] END alpha=5, beta_1=0.95, beta_2=0.9995, hidden_layer_sizes=[40, 40, 40], learning_rate_init=0.005; total time=   1.7s\n",
      "[CV] END alpha=0.5, beta_1=0.995, beta_2=0.9999, hidden_layer_sizes=[10, 10, 10], learning_rate_init=0.001; total time=   2.7s\n",
      "[CV] END alpha=0.001, beta_1=0.995, beta_2=0.9995, hidden_layer_sizes=[50, 50, 50, 50, 50], learning_rate_init=0.001; total time=   5.4s\n",
      "[CV] END alpha=0.001, beta_1=0.85, beta_2=0.999, hidden_layer_sizes=[40, 40, 40, 40], learning_rate_init=0.0005; total time=   1.4s\n",
      "[CV] END alpha=5, beta_1=0.95, beta_2=0.9995, hidden_layer_sizes=[40, 40, 40], learning_rate_init=0.005; total time=   2.0s\n",
      "[CV] END alpha=0.001, beta_1=0.85, beta_2=0.999, hidden_layer_sizes=[40, 40, 40, 40], learning_rate_init=0.0005; total time=   1.5s\n",
      "[CV] END alpha=5, beta_1=0.95, beta_2=0.9995, hidden_layer_sizes=[40, 40, 40], learning_rate_init=0.005; total time=   2.2s\n",
      "[CV] END alpha=0.05, beta_1=0.9, beta_2=0.999, hidden_layer_sizes=[10, 10], learning_rate_init=0.05; total time=   0.3s\n",
      "[CV] END alpha=0.01, beta_1=0.995, beta_2=0.999, hidden_layer_sizes=[40, 40, 40, 40, 40], learning_rate_init=0.01; total time=   1.2s\n"
     ]
    },
    {
     "name": "stderr",
     "output_type": "stream",
     "text": [
      "/mnt/d/Documentos/Documents/projects/supply_chain_forecast/.venv/lib/python3.12/site-packages/sklearn/neural_network/_multilayer_perceptron.py:780: ConvergenceWarning: Stochastic Optimizer: Maximum iterations (200) reached and the optimization hasn't converged yet.\n",
      "  warnings.warn(\n"
     ]
    },
    {
     "name": "stdout",
     "output_type": "stream",
     "text": [
      "[CV] END alpha=0.5, beta_1=0.995, beta_2=0.9999, hidden_layer_sizes=[10, 10, 10], learning_rate_init=0.001; total time=   4.2s\n",
      "[CV] END alpha=0.05, beta_1=0.9, beta_2=0.999, hidden_layer_sizes=[10, 10], learning_rate_init=0.05; total time=   0.7s\n",
      "[CV] END alpha=0.05, beta_1=0.9, beta_2=0.999, hidden_layer_sizes=[10, 10], learning_rate_init=0.05; total time=   1.0s\n",
      "[CV] END alpha=0.05, beta_1=0.9, beta_2=0.999, hidden_layer_sizes=[10, 10], learning_rate_init=0.05; total time=   0.8s\n",
      "[CV] END alpha=1, beta_1=0.85, beta_2=0.9999, hidden_layer_sizes=[40, 40], learning_rate_init=0.001; total time=   0.6s\n",
      "[CV] END alpha=0.001, beta_1=0.85, beta_2=0.999, hidden_layer_sizes=[40, 40, 40, 40], learning_rate_init=0.0005; total time=   3.2s\n",
      "[CV] END alpha=1, beta_1=0.85, beta_2=0.9999, hidden_layer_sizes=[40, 40], learning_rate_init=0.001; total time=   1.0s\n",
      "[CV] END alpha=0.05, beta_1=0.9, beta_2=0.999, hidden_layer_sizes=[10, 10], learning_rate_init=0.05; total time=   2.0s\n",
      "[CV] END alpha=0.01, beta_1=0.995, beta_2=0.999, hidden_layer_sizes=[40, 40, 40, 40, 40], learning_rate_init=0.01; total time=   2.6s\n",
      "[CV] END alpha=0.01, beta_1=0.995, beta_2=0.999, hidden_layer_sizes=[40, 40, 40, 40, 40], learning_rate_init=0.01; total time=   3.0s\n",
      "[CV] END alpha=0.5, beta_1=0.995, beta_2=0.995, hidden_layer_sizes=[30, 30, 30, 30, 30, 30], learning_rate_init=0.005; total time=   1.1s\n",
      "[CV] END alpha=1, beta_1=0.85, beta_2=0.9999, hidden_layer_sizes=[40, 40], learning_rate_init=0.001; total time=   1.8s\n",
      "[CV] END alpha=1, beta_1=0.85, beta_2=0.9999, hidden_layer_sizes=[40, 40], learning_rate_init=0.001; total time=   1.6s\n",
      "[CV] END alpha=0.5, beta_1=0.995, beta_2=0.995, hidden_layer_sizes=[30, 30, 30, 30, 30, 30], learning_rate_init=0.005; total time=   1.2s\n",
      "[CV] END alpha=1, beta_1=0.875, beta_2=0.9995, hidden_layer_sizes=[10, 10], learning_rate_init=0.01; total time=   0.4s\n"
     ]
    },
    {
     "name": "stderr",
     "output_type": "stream",
     "text": [
      "/mnt/d/Documentos/Documents/projects/supply_chain_forecast/.venv/lib/python3.12/site-packages/sklearn/neural_network/_multilayer_perceptron.py:780: ConvergenceWarning: Stochastic Optimizer: Maximum iterations (200) reached and the optimization hasn't converged yet.\n",
      "  warnings.warn(\n"
     ]
    },
    {
     "name": "stdout",
     "output_type": "stream",
     "text": [
      "[CV] END alpha=0.01, beta_1=0.995, beta_2=0.999, hidden_layer_sizes=[40, 40, 40, 40, 40], learning_rate_init=0.01; total time=   4.4s\n",
      "[CV] END alpha=0.01, beta_1=0.995, beta_2=0.999, hidden_layer_sizes=[40, 40, 40, 40, 40], learning_rate_init=0.01; total time=   4.6s\n",
      "[CV] END alpha=0.001, beta_1=0.85, beta_2=0.999, hidden_layer_sizes=[40, 40, 40, 40], learning_rate_init=0.0005; total time=   4.7s\n",
      "[CV] END alpha=1, beta_1=0.85, beta_2=0.9999, hidden_layer_sizes=[40, 40], learning_rate_init=0.001; total time=   2.7s\n",
      "[CV] END alpha=0.001, beta_1=0.85, beta_2=0.999, hidden_layer_sizes=[40, 40, 40, 40], learning_rate_init=0.0005; total time=   5.3s\n",
      "[CV] END alpha=1, beta_1=0.875, beta_2=0.9995, hidden_layer_sizes=[10, 10], learning_rate_init=0.01; total time=   1.1s\n",
      "[CV] END alpha=1, beta_1=0.875, beta_2=0.9995, hidden_layer_sizes=[10, 10], learning_rate_init=0.01; total time=   1.1s\n",
      "[CV] END alpha=1, beta_1=0.875, beta_2=0.9995, hidden_layer_sizes=[10, 10], learning_rate_init=0.01; total time=   1.1s\n",
      "[CV] END alpha=0.05, beta_1=0.95, beta_2=0.99, hidden_layer_sizes=[10, 10, 10], learning_rate_init=0.005; total time=   0.3s\n",
      "[CV] END alpha=0.05, beta_1=0.995, beta_2=0.9995, hidden_layer_sizes=[10, 10, 10, 10], learning_rate_init=0.01; total time=   0.8s\n",
      "[CV] END alpha=1, beta_1=0.875, beta_2=0.9995, hidden_layer_sizes=[10, 10], learning_rate_init=0.01; total time=   1.3s\n",
      "[CV] END alpha=0.5, beta_1=0.995, beta_2=0.995, hidden_layer_sizes=[30, 30, 30, 30, 30, 30], learning_rate_init=0.005; total time=   2.3s\n",
      "[CV] END alpha=5, beta_1=0.9, beta_2=0.9999, hidden_layer_sizes=[50, 50], learning_rate_init=0.01; total time=   0.3s\n",
      "[CV] END alpha=0.05, beta_1=0.95, beta_2=0.99, hidden_layer_sizes=[10, 10, 10], learning_rate_init=0.005; total time=   0.9s\n",
      "[CV] END alpha=0.05, beta_1=0.995, beta_2=0.9995, hidden_layer_sizes=[10, 10, 10, 10], learning_rate_init=0.01; total time=   1.3s\n",
      "[CV] END alpha=0.05, beta_1=0.995, beta_2=0.9995, hidden_layer_sizes=[10, 10, 10, 10], learning_rate_init=0.01; total time=   1.6s\n",
      "[CV] END alpha=0.05, beta_1=0.995, beta_2=0.9995, hidden_layer_sizes=[10, 10, 10, 10], learning_rate_init=0.01; total time=   1.9s\n",
      "[CV] END alpha=0.05, beta_1=0.95, beta_2=0.99, hidden_layer_sizes=[10, 10, 10], learning_rate_init=0.005; total time=   1.3s\n",
      "[CV] END alpha=0.05, beta_1=0.95, beta_2=0.99, hidden_layer_sizes=[10, 10, 10], learning_rate_init=0.005; total time=   1.3s\n",
      "[CV] END alpha=0.5, beta_1=0.995, beta_2=0.995, hidden_layer_sizes=[30, 30, 30, 30, 30, 30], learning_rate_init=0.005; total time=   3.1s\n",
      "[CV] END alpha=0.05, beta_1=0.95, beta_2=0.99, hidden_layer_sizes=[10, 10, 10], learning_rate_init=0.005; total time=   1.7s\n",
      "[CV] END alpha=5, beta_1=0.9, beta_2=0.9999, hidden_layer_sizes=[50, 50], learning_rate_init=0.01; total time=   1.7s\n",
      "[CV] END alpha=0.05, beta_1=0.995, beta_2=0.9995, hidden_layer_sizes=[10, 10, 10, 10], learning_rate_init=0.01; total time=   2.4s\n",
      "[CV] END alpha=0.1, beta_1=0.875, beta_2=0.9999, hidden_layer_sizes=[10, 10, 10, 10, 10, 10], learning_rate_init=0.005; total time=   0.8s\n",
      "[CV] END alpha=5, beta_1=0.9, beta_2=0.9999, hidden_layer_sizes=[50, 50], learning_rate_init=0.01; total time=   1.8s\n",
      "[CV] END alpha=5, beta_1=0.9, beta_2=0.9999, hidden_layer_sizes=[50, 50], learning_rate_init=0.01; total time=   1.4s\n",
      "[CV] END alpha=0.1, beta_1=0.875, beta_2=0.9999, hidden_layer_sizes=[10, 10, 10, 10, 10, 10], learning_rate_init=0.005; total time=   1.4s\n",
      "[CV] END alpha=1, beta_1=0.975, beta_2=0.999, hidden_layer_sizes=[30, 30, 30, 30, 30, 30], learning_rate_init=0.005; total time=   0.7s\n"
     ]
    },
    {
     "name": "stderr",
     "output_type": "stream",
     "text": [
      "/mnt/d/Documentos/Documents/projects/supply_chain_forecast/.venv/lib/python3.12/site-packages/sklearn/neural_network/_multilayer_perceptron.py:780: ConvergenceWarning: Stochastic Optimizer: Maximum iterations (200) reached and the optimization hasn't converged yet.\n",
      "  warnings.warn(\n"
     ]
    },
    {
     "name": "stdout",
     "output_type": "stream",
     "text": [
      "[CV] END alpha=5, beta_1=0.9, beta_2=0.9999, hidden_layer_sizes=[50, 50], learning_rate_init=0.01; total time=   1.8s\n",
      "[CV] END alpha=0.1, beta_1=0.875, beta_2=0.9999, hidden_layer_sizes=[10, 10, 10, 10, 10, 10], learning_rate_init=0.005; total time=   1.7s\n",
      "[CV] END alpha=5, beta_1=0.995, beta_2=0.999, hidden_layer_sizes=[40, 40, 40, 40, 40, 40], learning_rate_init=0.05; total time=   0.8s\n",
      "[CV] END alpha=0.5, beta_1=0.995, beta_2=0.995, hidden_layer_sizes=[30, 30, 30, 30, 30, 30], learning_rate_init=0.005; total time=   5.2s\n",
      "[CV] END alpha=1, beta_1=0.975, beta_2=0.999, hidden_layer_sizes=[30, 30, 30, 30, 30, 30], learning_rate_init=0.005; total time=   1.7s\n",
      "[CV] END alpha=1, beta_1=0.975, beta_2=0.999, hidden_layer_sizes=[30, 30, 30, 30, 30, 30], learning_rate_init=0.005; total time=   1.9s\n",
      "[CV] END alpha=0.1, beta_1=0.875, beta_2=0.9999, hidden_layer_sizes=[10, 10, 10, 10, 10, 10], learning_rate_init=0.005; total time=   2.6s\n",
      "[CV] END alpha=0.1, beta_1=0.875, beta_2=0.9999, hidden_layer_sizes=[10, 10, 10, 10, 10, 10], learning_rate_init=0.005; total time=   3.3s\n",
      "[CV] END alpha=1, beta_1=0.975, beta_2=0.999, hidden_layer_sizes=[30, 30, 30, 30, 30, 30], learning_rate_init=0.005; total time=   2.8s\n",
      "[CV] END alpha=5, beta_1=0.995, beta_2=0.999, hidden_layer_sizes=[40, 40, 40, 40, 40, 40], learning_rate_init=0.05; total time=   2.6s\n",
      "[CV] END alpha=0.5, beta_1=0.99, beta_2=0.99, hidden_layer_sizes=[20, 20, 20, 20, 20, 20], learning_rate_init=0.001; total time=   1.9s\n"
     ]
    },
    {
     "name": "stderr",
     "output_type": "stream",
     "text": [
      "/mnt/d/Documentos/Documents/projects/supply_chain_forecast/.venv/lib/python3.12/site-packages/sklearn/neural_network/_multilayer_perceptron.py:780: ConvergenceWarning: Stochastic Optimizer: Maximum iterations (200) reached and the optimization hasn't converged yet.\n",
      "  warnings.warn(\n"
     ]
    },
    {
     "name": "stdout",
     "output_type": "stream",
     "text": [
      "[CV] END alpha=1, beta_1=0.975, beta_2=0.999, hidden_layer_sizes=[30, 30, 30, 30, 30, 30], learning_rate_init=0.005; total time=   3.3s\n",
      "[CV] END alpha=5, beta_1=0.995, beta_2=0.999, hidden_layer_sizes=[40, 40, 40, 40, 40, 40], learning_rate_init=0.05; total time=   3.2s\n",
      "[CV] END alpha=0.5, beta_1=0.99, beta_2=0.99, hidden_layer_sizes=[20, 20, 20, 20, 20, 20], learning_rate_init=0.001; total time=   2.0s\n",
      "[CV] END alpha=0.5, beta_1=0.95, beta_2=0.99, hidden_layer_sizes=[20, 20, 20, 20, 20], learning_rate_init=0.0005; total time=   0.9s\n",
      "[CV] END alpha=0.5, beta_1=0.95, beta_2=0.99, hidden_layer_sizes=[20, 20, 20, 20, 20], learning_rate_init=0.0005; total time=   1.3s\n",
      "[CV] END alpha=0.5, beta_1=0.95, beta_2=0.99, hidden_layer_sizes=[20, 20, 20, 20, 20], learning_rate_init=0.0005; total time=   1.7s\n",
      "[CV] END alpha=0.5, beta_1=0.99, beta_2=0.99, hidden_layer_sizes=[20, 20, 20, 20, 20, 20], learning_rate_init=0.001; total time=   3.2s\n"
     ]
    },
    {
     "name": "stderr",
     "output_type": "stream",
     "text": [
      "/mnt/d/Documentos/Documents/projects/supply_chain_forecast/.venv/lib/python3.12/site-packages/sklearn/neural_network/_multilayer_perceptron.py:780: ConvergenceWarning: Stochastic Optimizer: Maximum iterations (200) reached and the optimization hasn't converged yet.\n",
      "  warnings.warn(\n"
     ]
    },
    {
     "name": "stdout",
     "output_type": "stream",
     "text": [
      "[CV] END alpha=0.01, beta_1=0.85, beta_2=0.9995, hidden_layer_sizes=[30, 30], learning_rate_init=0.005; total time=   0.3s\n",
      "[CV] END alpha=5, beta_1=0.995, beta_2=0.999, hidden_layer_sizes=[40, 40, 40, 40, 40, 40], learning_rate_init=0.05; total time=   4.0s\n",
      "[CV] END alpha=0.5, beta_1=0.99, beta_2=0.99, hidden_layer_sizes=[20, 20, 20, 20, 20, 20], learning_rate_init=0.001; total time=   3.2s\n",
      "[CV] END alpha=5, beta_1=0.995, beta_2=0.999, hidden_layer_sizes=[40, 40, 40, 40, 40, 40], learning_rate_init=0.05; total time=   4.5s\n",
      "[CV] END alpha=5, beta_1=0.9, beta_2=0.99, hidden_layer_sizes=[50, 50, 50, 50, 50], learning_rate_init=0.0005; total time=   1.8s\n",
      "[CV] END alpha=0.01, beta_1=0.85, beta_2=0.9995, hidden_layer_sizes=[30, 30], learning_rate_init=0.005; total time=   0.9s\n",
      "[CV] END alpha=0.01, beta_1=0.85, beta_2=0.9995, hidden_layer_sizes=[30, 30], learning_rate_init=0.005; total time=   0.8s\n",
      "[CV] END alpha=5, beta_1=0.9, beta_2=0.99, hidden_layer_sizes=[50, 50, 50, 50, 50], learning_rate_init=0.0005; total time=   2.2s\n",
      "[CV] END alpha=5, beta_1=0.9, beta_2=0.99, hidden_layer_sizes=[50, 50, 50, 50, 50], learning_rate_init=0.0005; total time=   2.2s\n",
      "[CV] END alpha=0.01, beta_1=0.85, beta_2=0.9995, hidden_layer_sizes=[30, 30], learning_rate_init=0.005; total time=   1.0s\n",
      "[CV] END alpha=0.5, beta_1=0.9, beta_2=0.9999, hidden_layer_sizes=[30, 30, 30, 30, 30], learning_rate_init=0.005; total time=   1.0s\n",
      "[CV] END alpha=0.001, beta_1=0.85, beta_2=0.995, hidden_layer_sizes=[10, 10], learning_rate_init=0.05; total time=   0.3s\n",
      "[CV] END alpha=0.5, beta_1=0.99, beta_2=0.99, hidden_layer_sizes=[20, 20, 20, 20, 20, 20], learning_rate_init=0.001; total time=   4.7s\n",
      "[CV] END alpha=0.5, beta_1=0.95, beta_2=0.99, hidden_layer_sizes=[20, 20, 20, 20, 20], learning_rate_init=0.0005; total time=   3.8s\n",
      "[CV] END alpha=0.5, beta_1=0.9, beta_2=0.9999, hidden_layer_sizes=[30, 30, 30, 30, 30], learning_rate_init=0.005; total time=   1.1s\n",
      "[CV] END alpha=0.001, beta_1=0.85, beta_2=0.995, hidden_layer_sizes=[10, 10], learning_rate_init=0.05; total time=   0.6s\n",
      "[CV] END alpha=0.001, beta_1=0.85, beta_2=0.995, hidden_layer_sizes=[10, 10], learning_rate_init=0.05; total time=   0.8s\n",
      "[CV] END alpha=0.001, beta_1=0.85, beta_2=0.995, hidden_layer_sizes=[10, 10], learning_rate_init=0.05; total time=   0.7s\n"
     ]
    },
    {
     "name": "stderr",
     "output_type": "stream",
     "text": [
      "/mnt/d/Documentos/Documents/projects/supply_chain_forecast/.venv/lib/python3.12/site-packages/sklearn/neural_network/_multilayer_perceptron.py:780: ConvergenceWarning: Stochastic Optimizer: Maximum iterations (200) reached and the optimization hasn't converged yet.\n",
      "  warnings.warn(\n"
     ]
    },
    {
     "name": "stdout",
     "output_type": "stream",
     "text": [
      "[CV] END alpha=5, beta_1=0.995, beta_2=0.9999, hidden_layer_sizes=[20, 20, 20], learning_rate_init=0.0005; total time=   1.0s\n",
      "[CV] END alpha=0.001, beta_1=0.85, beta_2=0.995, hidden_layer_sizes=[10, 10], learning_rate_init=0.05; total time=   1.0s\n",
      "[CV] END alpha=0.01, beta_1=0.85, beta_2=0.9995, hidden_layer_sizes=[30, 30], learning_rate_init=0.005; total time=   2.9s\n",
      "[CV] END alpha=5, beta_1=0.9, beta_2=0.99, hidden_layer_sizes=[50, 50, 50, 50, 50], learning_rate_init=0.0005; total time=   4.1s\n",
      "[CV] END alpha=5, beta_1=0.995, beta_2=0.9999, hidden_layer_sizes=[20, 20, 20], learning_rate_init=0.0005; total time=   1.1s\n",
      "[CV] END alpha=0.5, beta_1=0.95, beta_2=0.99, hidden_layer_sizes=[20, 20, 20, 20, 20], learning_rate_init=0.0005; total time=   5.4s\n"
     ]
    },
    {
     "name": "stderr",
     "output_type": "stream",
     "text": [
      "/mnt/d/Documentos/Documents/projects/supply_chain_forecast/.venv/lib/python3.12/site-packages/sklearn/neural_network/_multilayer_perceptron.py:780: ConvergenceWarning: Stochastic Optimizer: Maximum iterations (200) reached and the optimization hasn't converged yet.\n",
      "  warnings.warn(\n"
     ]
    },
    {
     "name": "stdout",
     "output_type": "stream",
     "text": [
      "[CV] END alpha=5, beta_1=0.995, beta_2=0.9999, hidden_layer_sizes=[20, 20, 20], learning_rate_init=0.0005; total time=   2.2s\n",
      "[CV] END alpha=5, beta_1=0.995, beta_2=0.9999, hidden_layer_sizes=[20, 20, 20], learning_rate_init=0.0005; total time=   2.6s\n",
      "[CV] END alpha=5, beta_1=0.9, beta_2=0.999, hidden_layer_sizes=[40, 40, 40, 40, 40, 40], learning_rate_init=0.005; total time=   2.2s\n",
      "[CV] END alpha=0.5, beta_1=0.9, beta_2=0.9999, hidden_layer_sizes=[30, 30, 30, 30, 30], learning_rate_init=0.005; total time=   4.2s\n",
      "[CV] END alpha=0.5, beta_1=0.9, beta_2=0.9999, hidden_layer_sizes=[30, 30, 30, 30, 30], learning_rate_init=0.005; total time=   4.4s\n",
      "[CV] END alpha=1, beta_1=0.995, beta_2=0.995, hidden_layer_sizes=[30, 30, 30, 30, 30], learning_rate_init=0.005; total time=   1.1s\n",
      "[CV] END alpha=5, beta_1=0.9, beta_2=0.99, hidden_layer_sizes=[50, 50, 50, 50, 50], learning_rate_init=0.0005; total time=   5.9s\n",
      "[CV] END alpha=0.5, beta_1=0.9, beta_2=0.9999, hidden_layer_sizes=[30, 30, 30, 30, 30], learning_rate_init=0.005; total time=   4.4s\n",
      "[CV] END alpha=1, beta_1=0.995, beta_2=0.995, hidden_layer_sizes=[30, 30, 30, 30, 30], learning_rate_init=0.005; total time=   1.2s\n",
      "[CV] END alpha=1, beta_1=0.875, beta_2=0.9995, hidden_layer_sizes=[20, 20, 20], learning_rate_init=0.005; total time=   0.7s\n",
      "[CV] END alpha=5, beta_1=0.9, beta_2=0.999, hidden_layer_sizes=[40, 40, 40, 40, 40, 40], learning_rate_init=0.005; total time=   2.7s\n",
      "[CV] END alpha=5, beta_1=0.9, beta_2=0.999, hidden_layer_sizes=[40, 40, 40, 40, 40, 40], learning_rate_init=0.005; total time=   3.1s\n",
      "[CV] END alpha=1, beta_1=0.875, beta_2=0.9995, hidden_layer_sizes=[20, 20, 20], learning_rate_init=0.005; total time=   1.0s\n",
      "[CV] END alpha=5, beta_1=0.9, beta_2=0.999, hidden_layer_sizes=[40, 40, 40, 40, 40, 40], learning_rate_init=0.005; total time=   3.0s\n",
      "[CV] END alpha=0.01, beta_1=0.85, beta_2=0.9999, hidden_layer_sizes=[20, 20], learning_rate_init=0.01; total time=   0.3s\n",
      "[CV] END alpha=1, beta_1=0.995, beta_2=0.995, hidden_layer_sizes=[30, 30, 30, 30, 30], learning_rate_init=0.005; total time=   1.8s\n",
      "[CV] END alpha=0.01, beta_1=0.85, beta_2=0.9999, hidden_layer_sizes=[20, 20], learning_rate_init=0.01; total time=   0.9s\n",
      "[CV] END alpha=1, beta_1=0.875, beta_2=0.9995, hidden_layer_sizes=[20, 20, 20], learning_rate_init=0.005; total time=   1.2s\n",
      "[CV] END alpha=5, beta_1=0.995, beta_2=0.9999, hidden_layer_sizes=[20, 20, 20], learning_rate_init=0.0005; total time=   4.5s\n",
      "[CV] END alpha=1, beta_1=0.875, beta_2=0.9995, hidden_layer_sizes=[20, 20, 20], learning_rate_init=0.005; total time=   1.9s\n",
      "[CV] END alpha=1, beta_1=0.995, beta_2=0.995, hidden_layer_sizes=[30, 30, 30, 30, 30], learning_rate_init=0.005; total time=   2.4s\n"
     ]
    },
    {
     "name": "stderr",
     "output_type": "stream",
     "text": [
      "/mnt/d/Documentos/Documents/projects/supply_chain_forecast/.venv/lib/python3.12/site-packages/sklearn/neural_network/_multilayer_perceptron.py:780: ConvergenceWarning: Stochastic Optimizer: Maximum iterations (200) reached and the optimization hasn't converged yet.\n",
      "  warnings.warn(\n",
      "/mnt/d/Documentos/Documents/projects/supply_chain_forecast/.venv/lib/python3.12/site-packages/sklearn/neural_network/_multilayer_perceptron.py:780: ConvergenceWarning: Stochastic Optimizer: Maximum iterations (200) reached and the optimization hasn't converged yet.\n",
      "  warnings.warn(\n"
     ]
    },
    {
     "name": "stdout",
     "output_type": "stream",
     "text": [
      "[CV] END alpha=0.01, beta_1=0.85, beta_2=0.9999, hidden_layer_sizes=[20, 20], learning_rate_init=0.01; total time=   1.5s\n",
      "[CV] END alpha=0.01, beta_1=0.85, beta_2=0.9999, hidden_layer_sizes=[20, 20], learning_rate_init=0.01; total time=   1.5s\n",
      "[CV] END alpha=0.01, beta_1=0.85, beta_2=0.9999, hidden_layer_sizes=[20, 20], learning_rate_init=0.01; total time=   1.7s\n",
      "[CV] END alpha=1, beta_1=0.875, beta_2=0.9995, hidden_layer_sizes=[20, 20, 20], learning_rate_init=0.005; total time=   2.5s\n",
      "[CV] END alpha=5, beta_1=0.975, beta_2=0.995, hidden_layer_sizes=[40, 40, 40, 40, 40, 40], learning_rate_init=0.01; total time=   1.3s\n",
      "[CV] END alpha=1, beta_1=0.995, beta_2=0.995, hidden_layer_sizes=[30, 30, 30, 30, 30], learning_rate_init=0.005; total time=   3.7s\n",
      "[CV] END alpha=0.1, beta_1=0.9, beta_2=0.9999, hidden_layer_sizes=[10, 10, 10], learning_rate_init=0.05; total time=   0.4s\n"
     ]
    },
    {
     "name": "stderr",
     "output_type": "stream",
     "text": [
      "/mnt/d/Documentos/Documents/projects/supply_chain_forecast/.venv/lib/python3.12/site-packages/sklearn/neural_network/_multilayer_perceptron.py:780: ConvergenceWarning: Stochastic Optimizer: Maximum iterations (200) reached and the optimization hasn't converged yet.\n",
      "  warnings.warn(\n"
     ]
    },
    {
     "name": "stdout",
     "output_type": "stream",
     "text": [
      "[CV] END alpha=0.1, beta_1=0.975, beta_2=0.995, hidden_layer_sizes=[40, 40, 40, 40, 40, 40], learning_rate_init=0.05; total time=   2.8s\n",
      "[CV] END alpha=5, beta_1=0.975, beta_2=0.995, hidden_layer_sizes=[40, 40, 40, 40, 40, 40], learning_rate_init=0.01; total time=   2.3s\n",
      "[CV] END alpha=0.1, beta_1=0.9, beta_2=0.9999, hidden_layer_sizes=[10, 10, 10], learning_rate_init=0.05; total time=   1.1s\n",
      "[CV] END alpha=0.1, beta_1=0.9, beta_2=0.9999, hidden_layer_sizes=[10, 10, 10], learning_rate_init=0.05; total time=   1.2s\n",
      "[CV] END alpha=0.1, beta_1=0.975, beta_2=0.995, hidden_layer_sizes=[40, 40, 40, 40, 40, 40], learning_rate_init=0.05; total time=   3.6s\n",
      "[CV] END alpha=0.1, beta_1=0.975, beta_2=0.995, hidden_layer_sizes=[40, 40, 40, 40, 40, 40], learning_rate_init=0.05; total time=   3.6s\n",
      "[CV] END alpha=0.1, beta_1=0.85, beta_2=0.99, hidden_layer_sizes=[30, 30, 30, 30], learning_rate_init=0.001; total time=   0.7s\n",
      "[CV] END alpha=0.1, beta_1=0.975, beta_2=0.995, hidden_layer_sizes=[40, 40, 40, 40, 40, 40], learning_rate_init=0.05; total time=   3.7s\n",
      "[CV] END alpha=5, beta_1=0.975, beta_2=0.995, hidden_layer_sizes=[40, 40, 40, 40, 40, 40], learning_rate_init=0.01; total time=   3.0s\n",
      "[CV] END alpha=0.1, beta_1=0.9, beta_2=0.9999, hidden_layer_sizes=[10, 10, 10], learning_rate_init=0.05; total time=   2.3s\n",
      "[CV] END alpha=0.1, beta_1=0.9, beta_2=0.9999, hidden_layer_sizes=[10, 10, 10], learning_rate_init=0.05; total time=   2.0s\n",
      "[CV] END alpha=0.1, beta_1=0.85, beta_2=0.99, hidden_layer_sizes=[30, 30, 30, 30], learning_rate_init=0.001; total time=   1.4s\n",
      "[CV] END alpha=0.1, beta_1=0.85, beta_2=0.99, hidden_layer_sizes=[30, 30, 30, 30], learning_rate_init=0.001; total time=   2.3s\n",
      "[CV] END alpha=5, beta_1=0.975, beta_2=0.995, hidden_layer_sizes=[40, 40, 40, 40, 40, 40], learning_rate_init=0.01; total time=   4.0s\n",
      "[CV] END alpha=0.01, beta_1=0.85, beta_2=0.9995, hidden_layer_sizes=[20, 20, 20, 20], learning_rate_init=0.0005; total time=   0.6s\n",
      "[CV] END alpha=0.1, beta_1=0.99, beta_2=0.99, hidden_layer_sizes=[50, 50, 50, 50, 50], learning_rate_init=0.01; total time=   2.3s\n",
      "[CV] END alpha=5, beta_1=0.9, beta_2=0.999, hidden_layer_sizes=[40, 40, 40, 40, 40, 40], learning_rate_init=0.005; total time=   9.6s\n",
      "[CV] END alpha=0.1, beta_1=0.99, beta_2=0.99, hidden_layer_sizes=[50, 50, 50, 50, 50], learning_rate_init=0.01; total time=   2.3s\n",
      "[CV] END alpha=5, beta_1=0.975, beta_2=0.995, hidden_layer_sizes=[40, 40, 40, 40, 40, 40], learning_rate_init=0.01; total time=   6.4s\n",
      "[CV] END alpha=0.1, beta_1=0.975, beta_2=0.995, hidden_layer_sizes=[40, 40, 40, 40, 40, 40], learning_rate_init=0.05; total time=   7.0s\n",
      "[CV] END alpha=0.1, beta_1=0.85, beta_2=0.99, hidden_layer_sizes=[30, 30, 30, 30], learning_rate_init=0.001; total time=   3.6s\n",
      "[CV] END alpha=0.1, beta_1=0.85, beta_2=0.99, hidden_layer_sizes=[30, 30, 30, 30], learning_rate_init=0.001; total time=   3.6s\n",
      "[CV] END alpha=0.5, beta_1=0.95, beta_2=0.99, hidden_layer_sizes=[20, 20, 20], learning_rate_init=0.05; total time=   0.9s\n",
      "[CV] END alpha=0.01, beta_1=0.85, beta_2=0.9995, hidden_layer_sizes=[20, 20, 20, 20], learning_rate_init=0.0005; total time=   2.3s\n",
      "[CV] END alpha=0.5, beta_1=0.95, beta_2=0.99, hidden_layer_sizes=[20, 20, 20], learning_rate_init=0.05; total time=   0.8s\n",
      "[CV] END alpha=0.01, beta_1=0.85, beta_2=0.9995, hidden_layer_sizes=[20, 20, 20, 20], learning_rate_init=0.0005; total time=   1.9s\n",
      "[CV] END alpha=0.5, beta_1=0.95, beta_2=0.99, hidden_layer_sizes=[20, 20, 20], learning_rate_init=0.05; total time=   1.0s\n",
      "[CV] END alpha=0.001, beta_1=0.9, beta_2=0.995, hidden_layer_sizes=[40, 40, 40, 40, 40], learning_rate_init=0.01; total time=   1.0s\n",
      "[CV] END alpha=0.1, beta_1=0.99, beta_2=0.99, hidden_layer_sizes=[50, 50, 50, 50, 50], learning_rate_init=0.01; total time=   3.3s\n",
      "[CV] END alpha=0.5, beta_1=0.95, beta_2=0.99, hidden_layer_sizes=[20, 20, 20], learning_rate_init=0.05; total time=   1.5s\n",
      "[CV] END alpha=0.5, beta_1=0.95, beta_2=0.99, hidden_layer_sizes=[20, 20, 20], learning_rate_init=0.05; total time=   1.5s\n",
      "[CV] END alpha=0.1, beta_1=0.99, beta_2=0.99, hidden_layer_sizes=[50, 50, 50, 50, 50], learning_rate_init=0.01; total time=   4.2s\n",
      "[CV] END alpha=0.1, beta_1=0.99, beta_2=0.9999, hidden_layer_sizes=[10, 10, 10, 10], learning_rate_init=0.05; total time=   0.9s\n",
      "[CV] END alpha=0.01, beta_1=0.85, beta_2=0.9995, hidden_layer_sizes=[20, 20, 20, 20], learning_rate_init=0.0005; total time=   3.2s\n",
      "[CV] END alpha=0.01, beta_1=0.85, beta_2=0.9995, hidden_layer_sizes=[20, 20, 20, 20], learning_rate_init=0.0005; total time=   3.4s\n",
      "[CV] END alpha=0.1, beta_1=0.99, beta_2=0.9999, hidden_layer_sizes=[10, 10, 10, 10], learning_rate_init=0.05; total time=   1.0s\n",
      "[CV] END alpha=0.1, beta_1=0.99, beta_2=0.99, hidden_layer_sizes=[50, 50, 50, 50, 50], learning_rate_init=0.01; total time=   4.7s\n"
     ]
    },
    {
     "name": "stderr",
     "output_type": "stream",
     "text": [
      "/mnt/d/Documentos/Documents/projects/supply_chain_forecast/.venv/lib/python3.12/site-packages/sklearn/neural_network/_multilayer_perceptron.py:780: ConvergenceWarning: Stochastic Optimizer: Maximum iterations (200) reached and the optimization hasn't converged yet.\n",
      "  warnings.warn(\n"
     ]
    },
    {
     "name": "stdout",
     "output_type": "stream",
     "text": [
      "[CV] END alpha=0.05, beta_1=0.995, beta_2=0.99, hidden_layer_sizes=[10, 10, 10, 10, 10, 10], learning_rate_init=0.005; total time=   0.7s\n",
      "[CV] END alpha=0.001, beta_1=0.9, beta_2=0.995, hidden_layer_sizes=[40, 40, 40, 40, 40], learning_rate_init=0.01; total time=   2.4s\n",
      "[CV] END alpha=0.1, beta_1=0.99, beta_2=0.9999, hidden_layer_sizes=[10, 10, 10, 10], learning_rate_init=0.05; total time=   1.5s\n",
      "[CV] END alpha=0.001, beta_1=0.9, beta_2=0.995, hidden_layer_sizes=[40, 40, 40, 40, 40], learning_rate_init=0.01; total time=   2.9s\n",
      "[CV] END alpha=0.1, beta_1=0.99, beta_2=0.9999, hidden_layer_sizes=[10, 10, 10, 10], learning_rate_init=0.05; total time=   1.9s\n",
      "[CV] END alpha=0.05, beta_1=0.995, beta_2=0.99, hidden_layer_sizes=[10, 10, 10, 10, 10, 10], learning_rate_init=0.005; total time=   2.2s\n",
      "[CV] END alpha=0.001, beta_1=0.9, beta_2=0.995, hidden_layer_sizes=[40, 40, 40, 40, 40], learning_rate_init=0.01; total time=   3.4s\n",
      "[CV] END alpha=1, beta_1=0.975, beta_2=0.9999, hidden_layer_sizes=[50, 50, 50, 50, 50], learning_rate_init=0.005; total time=   1.8s\n",
      "[CV] END alpha=0.1, beta_1=0.99, beta_2=0.9999, hidden_layer_sizes=[10, 10, 10, 10], learning_rate_init=0.05; total time=   3.1s\n"
     ]
    },
    {
     "name": "stderr",
     "output_type": "stream",
     "text": [
      "/mnt/d/Documentos/Documents/projects/supply_chain_forecast/.venv/lib/python3.12/site-packages/sklearn/neural_network/_multilayer_perceptron.py:780: ConvergenceWarning: Stochastic Optimizer: Maximum iterations (200) reached and the optimization hasn't converged yet.\n",
      "  warnings.warn(\n"
     ]
    },
    {
     "name": "stdout",
     "output_type": "stream",
     "text": [
      "[CV] END alpha=0.05, beta_1=0.995, beta_2=0.99, hidden_layer_sizes=[10, 10, 10, 10, 10, 10], learning_rate_init=0.005; total time=   2.8s\n",
      "[CV] END alpha=0.001, beta_1=0.9, beta_2=0.995, hidden_layer_sizes=[40, 40, 40, 40, 40], learning_rate_init=0.01; total time=   4.1s\n",
      "[CV] END alpha=0.001, beta_1=0.95, beta_2=0.995, hidden_layer_sizes=[30, 30, 30, 30, 30, 30], learning_rate_init=0.005; total time=   1.2s\n",
      "[CV] END alpha=0.05, beta_1=0.995, beta_2=0.99, hidden_layer_sizes=[10, 10, 10, 10, 10, 10], learning_rate_init=0.005; total time=   3.5s\n",
      "[CV] END alpha=0.001, beta_1=0.95, beta_2=0.995, hidden_layer_sizes=[30, 30, 30, 30, 30, 30], learning_rate_init=0.005; total time=   1.2s\n",
      "[CV] END alpha=1, beta_1=0.975, beta_2=0.9999, hidden_layer_sizes=[50, 50, 50, 50, 50], learning_rate_init=0.005; total time=   2.9s\n",
      "[CV] END alpha=0.05, beta_1=0.875, beta_2=0.9999, hidden_layer_sizes=[30, 30, 30, 30, 30, 30], learning_rate_init=0.0005; total time=   1.2s\n",
      "[CV] END alpha=1, beta_1=0.975, beta_2=0.9999, hidden_layer_sizes=[50, 50, 50, 50, 50], learning_rate_init=0.005; total time=   3.3s\n",
      "[CV] END alpha=0.001, beta_1=0.95, beta_2=0.995, hidden_layer_sizes=[30, 30, 30, 30, 30, 30], learning_rate_init=0.005; total time=   2.2s\n",
      "[CV] END alpha=0.001, beta_1=0.95, beta_2=0.995, hidden_layer_sizes=[30, 30, 30, 30, 30, 30], learning_rate_init=0.005; total time=   3.0s\n",
      "[CV] END alpha=0.05, beta_1=0.875, beta_2=0.9999, hidden_layer_sizes=[30, 30, 30, 30, 30, 30], learning_rate_init=0.0005; total time=   2.3s\n"
     ]
    },
    {
     "name": "stderr",
     "output_type": "stream",
     "text": [
      "/mnt/d/Documentos/Documents/projects/supply_chain_forecast/.venv/lib/python3.12/site-packages/sklearn/neural_network/_multilayer_perceptron.py:780: ConvergenceWarning: Stochastic Optimizer: Maximum iterations (200) reached and the optimization hasn't converged yet.\n",
      "  warnings.warn(\n"
     ]
    },
    {
     "name": "stdout",
     "output_type": "stream",
     "text": [
      "[CV] END alpha=5, beta_1=0.995, beta_2=0.9999, hidden_layer_sizes=[20, 20, 20, 20, 20, 20], learning_rate_init=0.0005; total time=   1.6s\n",
      "[CV] END alpha=1, beta_1=0.975, beta_2=0.9999, hidden_layer_sizes=[50, 50, 50, 50, 50], learning_rate_init=0.005; total time=   4.5s\n",
      "[CV] END alpha=0.05, beta_1=0.995, beta_2=0.99, hidden_layer_sizes=[10, 10, 10, 10, 10, 10], learning_rate_init=0.005; total time=   6.4s\n",
      "[CV] END alpha=0.05, beta_1=0.875, beta_2=0.9999, hidden_layer_sizes=[30, 30, 30, 30, 30, 30], learning_rate_init=0.0005; total time=   3.0s\n",
      "[CV] END alpha=0.001, beta_1=0.95, beta_2=0.995, hidden_layer_sizes=[30, 30, 30, 30, 30, 30], learning_rate_init=0.005; total time=   3.8s\n",
      "[CV] END alpha=0.05, beta_1=0.875, beta_2=0.9999, hidden_layer_sizes=[30, 30, 30, 30, 30, 30], learning_rate_init=0.0005; total time=   3.1s\n",
      "[CV] END alpha=0.05, beta_1=0.99, beta_2=0.995, hidden_layer_sizes=[50, 50, 50, 50, 50, 50], learning_rate_init=0.01; total time=   1.6s\n",
      "[CV] END alpha=5, beta_1=0.995, beta_2=0.9999, hidden_layer_sizes=[20, 20, 20, 20, 20, 20], learning_rate_init=0.0005; total time=   3.2s\n"
     ]
    },
    {
     "name": "stderr",
     "output_type": "stream",
     "text": [
      "/mnt/d/Documentos/Documents/projects/supply_chain_forecast/.venv/lib/python3.12/site-packages/sklearn/neural_network/_multilayer_perceptron.py:780: ConvergenceWarning: Stochastic Optimizer: Maximum iterations (200) reached and the optimization hasn't converged yet.\n",
      "  warnings.warn(\n"
     ]
    },
    {
     "name": "stdout",
     "output_type": "stream",
     "text": [
      "[CV] END alpha=0.05, beta_1=0.875, beta_2=0.9999, hidden_layer_sizes=[30, 30, 30, 30, 30, 30], learning_rate_init=0.0005; total time=   4.6s\n",
      "[CV] END alpha=0.5, beta_1=0.995, beta_2=0.999, hidden_layer_sizes=[10, 10, 10, 10, 10, 10], learning_rate_init=0.001; total time=   1.4s\n"
     ]
    },
    {
     "name": "stderr",
     "output_type": "stream",
     "text": [
      "/mnt/d/Documentos/Documents/projects/supply_chain_forecast/.venv/lib/python3.12/site-packages/sklearn/neural_network/_multilayer_perceptron.py:780: ConvergenceWarning: Stochastic Optimizer: Maximum iterations (200) reached and the optimization hasn't converged yet.\n",
      "  warnings.warn(\n"
     ]
    },
    {
     "name": "stdout",
     "output_type": "stream",
     "text": [
      "[CV] END alpha=5, beta_1=0.995, beta_2=0.9999, hidden_layer_sizes=[20, 20, 20, 20, 20, 20], learning_rate_init=0.0005; total time=   4.7s\n",
      "[CV] END alpha=1, beta_1=0.975, beta_2=0.995, hidden_layer_sizes=[20, 20], learning_rate_init=0.005; total time=   0.4s\n",
      "[CV] END alpha=5, beta_1=0.995, beta_2=0.9999, hidden_layer_sizes=[20, 20, 20, 20, 20, 20], learning_rate_init=0.0005; total time=   4.3s\n",
      "[CV] END alpha=0.5, beta_1=0.995, beta_2=0.999, hidden_layer_sizes=[10, 10, 10, 10, 10, 10], learning_rate_init=0.001; total time=   2.6s\n"
     ]
    },
    {
     "name": "stderr",
     "output_type": "stream",
     "text": [
      "/mnt/d/Documentos/Documents/projects/supply_chain_forecast/.venv/lib/python3.12/site-packages/sklearn/neural_network/_multilayer_perceptron.py:780: ConvergenceWarning: Stochastic Optimizer: Maximum iterations (200) reached and the optimization hasn't converged yet.\n",
      "  warnings.warn(\n"
     ]
    },
    {
     "name": "stdout",
     "output_type": "stream",
     "text": [
      "[CV] END alpha=1, beta_1=0.975, beta_2=0.995, hidden_layer_sizes=[20, 20], learning_rate_init=0.005; total time=   0.6s\n",
      "[CV] END alpha=5, beta_1=0.995, beta_2=0.9999, hidden_layer_sizes=[20, 20, 20, 20, 20, 20], learning_rate_init=0.0005; total time=   4.8s\n",
      "[CV] END alpha=0.05, beta_1=0.99, beta_2=0.995, hidden_layer_sizes=[50, 50, 50, 50, 50, 50], learning_rate_init=0.01; total time=   4.4s\n",
      "[CV] END alpha=0.001, beta_1=0.995, beta_2=0.99, hidden_layer_sizes=[20, 20], learning_rate_init=0.005; total time=   0.3s\n",
      "[CV] END alpha=0.5, beta_1=0.995, beta_2=0.999, hidden_layer_sizes=[10, 10, 10, 10, 10, 10], learning_rate_init=0.001; total time=   2.6s\n",
      "[CV] END alpha=0.5, beta_1=0.995, beta_2=0.999, hidden_layer_sizes=[10, 10, 10, 10, 10, 10], learning_rate_init=0.001; total time=   3.2s\n",
      "[CV] END alpha=1, beta_1=0.975, beta_2=0.9999, hidden_layer_sizes=[50, 50, 50, 50, 50], learning_rate_init=0.005; total time=   9.4s\n"
     ]
    },
    {
     "name": "stderr",
     "output_type": "stream",
     "text": [
      "/mnt/d/Documentos/Documents/projects/supply_chain_forecast/.venv/lib/python3.12/site-packages/sklearn/neural_network/_multilayer_perceptron.py:780: ConvergenceWarning: Stochastic Optimizer: Maximum iterations (200) reached and the optimization hasn't converged yet.\n",
      "  warnings.warn(\n"
     ]
    },
    {
     "name": "stdout",
     "output_type": "stream",
     "text": [
      "[CV] END alpha=1, beta_1=0.975, beta_2=0.995, hidden_layer_sizes=[20, 20], learning_rate_init=0.005; total time=   0.9s\n",
      "[CV] END alpha=1, beta_1=0.975, beta_2=0.995, hidden_layer_sizes=[20, 20], learning_rate_init=0.005; total time=   1.1s\n",
      "[CV] END alpha=0.001, beta_1=0.995, beta_2=0.99, hidden_layer_sizes=[20, 20], learning_rate_init=0.005; total time=   0.6s\n",
      "[CV] END alpha=0.001, beta_1=0.95, beta_2=0.995, hidden_layer_sizes=[20, 20, 20, 20], learning_rate_init=0.001; total time=   0.5s\n",
      "[CV] END alpha=0.05, beta_1=0.99, beta_2=0.995, hidden_layer_sizes=[50, 50, 50, 50, 50, 50], learning_rate_init=0.01; total time=   5.1s\n",
      "[CV] END alpha=0.001, beta_1=0.995, beta_2=0.99, hidden_layer_sizes=[20, 20], learning_rate_init=0.005; total time=   1.5s\n",
      "[CV] END alpha=0.05, beta_1=0.95, beta_2=0.999, hidden_layer_sizes=[10, 10, 10], learning_rate_init=0.01; total time=   0.3s\n",
      "[CV] END alpha=1, beta_1=0.975, beta_2=0.995, hidden_layer_sizes=[20, 20], learning_rate_init=0.005; total time=   1.8s\n",
      "[CV] END alpha=0.001, beta_1=0.995, beta_2=0.99, hidden_layer_sizes=[20, 20], learning_rate_init=0.005; total time=   1.4s\n",
      "[CV] END alpha=0.001, beta_1=0.95, beta_2=0.995, hidden_layer_sizes=[20, 20, 20, 20], learning_rate_init=0.001; total time=   1.3s\n",
      "[CV] END alpha=0.05, beta_1=0.99, beta_2=0.995, hidden_layer_sizes=[50, 50, 50, 50, 50, 50], learning_rate_init=0.01; total time=   5.9s\n",
      "[CV] END alpha=0.001, beta_1=0.995, beta_2=0.99, hidden_layer_sizes=[20, 20], learning_rate_init=0.005; total time=   1.8s\n",
      "[CV] END alpha=0.5, beta_1=0.95, beta_2=0.995, hidden_layer_sizes=[50, 50], learning_rate_init=0.01; total time=   0.3s\n",
      "[CV] END alpha=0.05, beta_1=0.95, beta_2=0.999, hidden_layer_sizes=[10, 10, 10], learning_rate_init=0.01; total time=   0.7s\n",
      "[CV] END alpha=0.05, beta_1=0.95, beta_2=0.999, hidden_layer_sizes=[10, 10, 10], learning_rate_init=0.01; total time=   0.7s\n",
      "[CV] END alpha=0.001, beta_1=0.95, beta_2=0.995, hidden_layer_sizes=[20, 20, 20, 20], learning_rate_init=0.001; total time=   1.7s\n",
      "[CV] END alpha=0.001, beta_1=0.95, beta_2=0.995, hidden_layer_sizes=[20, 20, 20, 20], learning_rate_init=0.001; total time=   2.0s\n",
      "[CV] END alpha=0.05, beta_1=0.95, beta_2=0.999, hidden_layer_sizes=[10, 10, 10], learning_rate_init=0.01; total time=   1.3s\n",
      "[CV] END alpha=0.05, beta_1=0.875, beta_2=0.9995, hidden_layer_sizes=[10, 10, 10, 10, 10], learning_rate_init=0.01; total time=   0.7s\n",
      "[CV] END alpha=0.05, beta_1=0.875, beta_2=0.9995, hidden_layer_sizes=[10, 10, 10, 10, 10], learning_rate_init=0.01; total time=   0.7s\n",
      "[CV] END alpha=0.05, beta_1=0.95, beta_2=0.999, hidden_layer_sizes=[10, 10, 10], learning_rate_init=0.01; total time=   1.9s\n",
      "[CV] END alpha=0.001, beta_1=0.95, beta_2=0.995, hidden_layer_sizes=[20, 20, 20, 20], learning_rate_init=0.001; total time=   2.8s\n",
      "[CV] END alpha=0.5, beta_1=0.95, beta_2=0.995, hidden_layer_sizes=[50, 50], learning_rate_init=0.01; total time=   1.4s\n",
      "[CV] END alpha=0.5, beta_1=0.95, beta_2=0.995, hidden_layer_sizes=[50, 50], learning_rate_init=0.01; total time=   1.9s\n",
      "[CV] END alpha=0.5, beta_1=0.95, beta_2=0.995, hidden_layer_sizes=[50, 50], learning_rate_init=0.01; total time=   2.0s\n",
      "[CV] END alpha=0.1, beta_1=0.95, beta_2=0.99, hidden_layer_sizes=[20, 20, 20, 20], learning_rate_init=0.005; total time=   1.1s\n"
     ]
    },
    {
     "name": "stderr",
     "output_type": "stream",
     "text": [
      "/mnt/d/Documentos/Documents/projects/supply_chain_forecast/.venv/lib/python3.12/site-packages/sklearn/neural_network/_multilayer_perceptron.py:780: ConvergenceWarning: Stochastic Optimizer: Maximum iterations (200) reached and the optimization hasn't converged yet.\n",
      "  warnings.warn(\n"
     ]
    },
    {
     "name": "stdout",
     "output_type": "stream",
     "text": [
      "[CV] END alpha=0.5, beta_1=0.995, beta_2=0.999, hidden_layer_sizes=[10, 10, 10, 10, 10, 10], learning_rate_init=0.001; total time=   6.7s\n",
      "[CV] END alpha=0.1, beta_1=0.95, beta_2=0.99, hidden_layer_sizes=[20, 20, 20, 20], learning_rate_init=0.005; total time=   0.8s\n",
      "[CV] END alpha=0.05, beta_1=0.875, beta_2=0.9995, hidden_layer_sizes=[10, 10, 10, 10, 10], learning_rate_init=0.01; total time=   1.6s\n",
      "[CV] END alpha=0.05, beta_1=0.99, beta_2=0.995, hidden_layer_sizes=[50, 50, 50, 50, 50, 50], learning_rate_init=0.01; total time=   8.6s\n",
      "[CV] END alpha=0.1, beta_1=0.95, beta_2=0.99, hidden_layer_sizes=[20, 20, 20, 20], learning_rate_init=0.005; total time=   1.1s\n"
     ]
    },
    {
     "name": "stderr",
     "output_type": "stream",
     "text": [
      "/mnt/d/Documentos/Documents/projects/supply_chain_forecast/.venv/lib/python3.12/site-packages/sklearn/neural_network/_multilayer_perceptron.py:780: ConvergenceWarning: Stochastic Optimizer: Maximum iterations (200) reached and the optimization hasn't converged yet.\n",
      "  warnings.warn(\n"
     ]
    },
    {
     "name": "stdout",
     "output_type": "stream",
     "text": [
      "[CV] END alpha=0.5, beta_1=0.95, beta_2=0.995, hidden_layer_sizes=[50, 50], learning_rate_init=0.01; total time=   2.9s\n",
      "[CV] END alpha=0.05, beta_1=0.85, beta_2=0.9995, hidden_layer_sizes=[20, 20, 20, 20, 20, 20], learning_rate_init=0.001; total time=   0.9s\n",
      "[CV] END alpha=1, beta_1=0.9, beta_2=0.999, hidden_layer_sizes=[40, 40], learning_rate_init=0.0005; total time=   0.5s\n",
      "[CV] END alpha=0.05, beta_1=0.85, beta_2=0.9995, hidden_layer_sizes=[20, 20, 20, 20, 20, 20], learning_rate_init=0.001; total time=   1.0s\n",
      "[CV] END alpha=0.05, beta_1=0.875, beta_2=0.9995, hidden_layer_sizes=[10, 10, 10, 10, 10], learning_rate_init=0.01; total time=   2.4s\n",
      "[CV] END alpha=0.05, beta_1=0.875, beta_2=0.9995, hidden_layer_sizes=[10, 10, 10, 10, 10], learning_rate_init=0.01; total time=   2.3s\n",
      "[CV] END alpha=0.1, beta_1=0.95, beta_2=0.99, hidden_layer_sizes=[20, 20, 20, 20], learning_rate_init=0.005; total time=   2.0s\n",
      "[CV] END alpha=1, beta_1=0.9, beta_2=0.999, hidden_layer_sizes=[40, 40], learning_rate_init=0.0005; total time=   0.9s\n",
      "[CV] END alpha=1, beta_1=0.875, beta_2=0.995, hidden_layer_sizes=[40, 40, 40, 40, 40, 40], learning_rate_init=0.001; total time=   0.8s\n",
      "[CV] END alpha=1, beta_1=0.9, beta_2=0.999, hidden_layer_sizes=[40, 40], learning_rate_init=0.0005; total time=   1.4s\n",
      "[CV] END alpha=1, beta_1=0.875, beta_2=0.995, hidden_layer_sizes=[40, 40, 40, 40, 40, 40], learning_rate_init=0.001; total time=   1.5s\n",
      "[CV] END alpha=1, beta_1=0.9, beta_2=0.999, hidden_layer_sizes=[40, 40], learning_rate_init=0.0005; total time=   1.8s\n"
     ]
    },
    {
     "name": "stderr",
     "output_type": "stream",
     "text": [
      "/mnt/d/Documentos/Documents/projects/supply_chain_forecast/.venv/lib/python3.12/site-packages/sklearn/neural_network/_multilayer_perceptron.py:780: ConvergenceWarning: Stochastic Optimizer: Maximum iterations (200) reached and the optimization hasn't converged yet.\n",
      "  warnings.warn(\n"
     ]
    },
    {
     "name": "stdout",
     "output_type": "stream",
     "text": [
      "[CV] END alpha=0.001, beta_1=0.95, beta_2=0.99, hidden_layer_sizes=[10, 10, 10, 10], learning_rate_init=0.01; total time=   1.0s\n",
      "[CV] END alpha=0.05, beta_1=0.85, beta_2=0.9995, hidden_layer_sizes=[20, 20, 20, 20, 20, 20], learning_rate_init=0.001; total time=   2.7s\n",
      "[CV] END alpha=0.05, beta_1=0.85, beta_2=0.9995, hidden_layer_sizes=[20, 20, 20, 20, 20, 20], learning_rate_init=0.001; total time=   2.7s\n",
      "[CV] END alpha=0.1, beta_1=0.875, beta_2=0.9995, hidden_layer_sizes=[30, 30, 30], learning_rate_init=0.001; total time=   0.4s\n",
      "[CV] END alpha=1, beta_1=0.9, beta_2=0.999, hidden_layer_sizes=[40, 40], learning_rate_init=0.0005; total time=   2.7s\n",
      "[CV] END alpha=0.001, beta_1=0.95, beta_2=0.99, hidden_layer_sizes=[10, 10, 10, 10], learning_rate_init=0.01; total time=   1.4s\n",
      "[CV] END alpha=0.1, beta_1=0.95, beta_2=0.99, hidden_layer_sizes=[20, 20, 20, 20], learning_rate_init=0.005; total time=   4.2s\n",
      "[CV] END alpha=0.001, beta_1=0.95, beta_2=0.99, hidden_layer_sizes=[10, 10, 10, 10], learning_rate_init=0.01; total time=   1.3s\n",
      "[CV] END alpha=0.001, beta_1=0.95, beta_2=0.99, hidden_layer_sizes=[10, 10, 10, 10], learning_rate_init=0.01; total time=   1.5s\n",
      "[CV] END alpha=0.1, beta_1=0.875, beta_2=0.9995, hidden_layer_sizes=[30, 30, 30], learning_rate_init=0.001; total time=   1.0s\n",
      "[CV] END alpha=1, beta_1=0.875, beta_2=0.995, hidden_layer_sizes=[40, 40, 40, 40, 40, 40], learning_rate_init=0.001; total time=   3.0s\n",
      "[CV] END alpha=0.1, beta_1=0.875, beta_2=0.9995, hidden_layer_sizes=[30, 30, 30], learning_rate_init=0.001; total time=   1.7s\n",
      "[CV] END alpha=1, beta_1=0.875, beta_2=0.995, hidden_layer_sizes=[40, 40, 40, 40, 40, 40], learning_rate_init=0.001; total time=   4.1s\n",
      "[CV] END alpha=1, beta_1=0.875, beta_2=0.995, hidden_layer_sizes=[40, 40, 40, 40, 40, 40], learning_rate_init=0.001; total time=   3.9s\n",
      "[CV] END alpha=0.1, beta_1=0.975, beta_2=0.9995, hidden_layer_sizes=[50, 50, 50, 50, 50], learning_rate_init=0.005; total time=   0.8s\n"
     ]
    },
    {
     "name": "stderr",
     "output_type": "stream",
     "text": [
      "/mnt/d/Documentos/Documents/projects/supply_chain_forecast/.venv/lib/python3.12/site-packages/sklearn/neural_network/_multilayer_perceptron.py:780: ConvergenceWarning: Stochastic Optimizer: Maximum iterations (200) reached and the optimization hasn't converged yet.\n",
      "  warnings.warn(\n"
     ]
    },
    {
     "name": "stdout",
     "output_type": "stream",
     "text": [
      "[CV] END alpha=0.001, beta_1=0.99, beta_2=0.99, hidden_layer_sizes=[30, 30, 30, 30, 30], learning_rate_init=0.0005; total time=   2.0s\n",
      "[CV] END alpha=0.001, beta_1=0.99, beta_2=0.99, hidden_layer_sizes=[30, 30, 30, 30, 30], learning_rate_init=0.0005; total time=   2.1s\n",
      "[CV] END alpha=0.1, beta_1=0.875, beta_2=0.9995, hidden_layer_sizes=[30, 30, 30], learning_rate_init=0.001; total time=   2.2s\n",
      "[CV] END alpha=0.001, beta_1=0.95, beta_2=0.99, hidden_layer_sizes=[10, 10, 10, 10], learning_rate_init=0.01; total time=   3.3s\n",
      "[CV] END alpha=0.1, beta_1=0.875, beta_2=0.9995, hidden_layer_sizes=[30, 30, 30], learning_rate_init=0.001; total time=   3.1s\n",
      "[CV] END alpha=0.05, beta_1=0.85, beta_2=0.9995, hidden_layer_sizes=[20, 20, 20, 20, 20, 20], learning_rate_init=0.001; total time=   6.5s\n",
      "[CV] END alpha=0.001, beta_1=0.99, beta_2=0.99, hidden_layer_sizes=[30, 30, 30, 30, 30], learning_rate_init=0.0005; total time=   2.7s\n",
      "[CV] END alpha=5, beta_1=0.99, beta_2=0.9999, hidden_layer_sizes=[20, 20, 20, 20, 20, 20], learning_rate_init=0.0005; total time=   1.0s\n",
      "[CV] END alpha=0.001, beta_1=0.99, beta_2=0.99, hidden_layer_sizes=[30, 30, 30, 30, 30], learning_rate_init=0.0005; total time=   2.9s\n",
      "[CV] END alpha=0.1, beta_1=0.975, beta_2=0.9995, hidden_layer_sizes=[50, 50, 50, 50, 50], learning_rate_init=0.005; total time=   1.9s\n",
      "[CV] END alpha=1, beta_1=0.875, beta_2=0.9999, hidden_layer_sizes=[20, 20], learning_rate_init=0.001; total time=   0.6s\n",
      "[CV] END alpha=1, beta_1=0.875, beta_2=0.9999, hidden_layer_sizes=[20, 20], learning_rate_init=0.001; total time=   0.8s\n",
      "[CV] END alpha=1, beta_1=0.9, beta_2=0.9999, hidden_layer_sizes=[20, 20, 20, 20], learning_rate_init=0.01; total time=   0.4s\n"
     ]
    },
    {
     "name": "stderr",
     "output_type": "stream",
     "text": [
      "/mnt/d/Documentos/Documents/projects/supply_chain_forecast/.venv/lib/python3.12/site-packages/sklearn/neural_network/_multilayer_perceptron.py:780: ConvergenceWarning: Stochastic Optimizer: Maximum iterations (200) reached and the optimization hasn't converged yet.\n",
      "  warnings.warn(\n"
     ]
    },
    {
     "name": "stdout",
     "output_type": "stream",
     "text": [
      "[CV] END alpha=1, beta_1=0.875, beta_2=0.9999, hidden_layer_sizes=[20, 20], learning_rate_init=0.001; total time=   1.7s\n",
      "[CV] END alpha=0.001, beta_1=0.99, beta_2=0.99, hidden_layer_sizes=[30, 30, 30, 30, 30], learning_rate_init=0.0005; total time=   4.3s\n",
      "[CV] END alpha=0.1, beta_1=0.975, beta_2=0.9995, hidden_layer_sizes=[50, 50, 50, 50, 50], learning_rate_init=0.005; total time=   3.6s\n",
      "[CV] END alpha=1, beta_1=0.875, beta_2=0.9999, hidden_layer_sizes=[20, 20], learning_rate_init=0.001; total time=   1.5s\n",
      "[CV] END alpha=5, beta_1=0.99, beta_2=0.9999, hidden_layer_sizes=[20, 20, 20, 20, 20, 20], learning_rate_init=0.0005; total time=   3.0s\n"
     ]
    },
    {
     "name": "stderr",
     "output_type": "stream",
     "text": [
      "/mnt/d/Documentos/Documents/projects/supply_chain_forecast/.venv/lib/python3.12/site-packages/sklearn/neural_network/_multilayer_perceptron.py:780: ConvergenceWarning: Stochastic Optimizer: Maximum iterations (200) reached and the optimization hasn't converged yet.\n",
      "  warnings.warn(\n"
     ]
    },
    {
     "name": "stdout",
     "output_type": "stream",
     "text": [
      "[CV] END alpha=5, beta_1=0.99, beta_2=0.9999, hidden_layer_sizes=[20, 20, 20, 20, 20, 20], learning_rate_init=0.0005; total time=   3.1s\n",
      "[CV] END alpha=5, beta_1=0.99, beta_2=0.9999, hidden_layer_sizes=[20, 20, 20, 20, 20, 20], learning_rate_init=0.0005; total time=   2.8s\n",
      "[CV] END alpha=0.001, beta_1=0.975, beta_2=0.995, hidden_layer_sizes=[40, 40, 40, 40], learning_rate_init=0.01; total time=   0.8s\n"
     ]
    },
    {
     "name": "stderr",
     "output_type": "stream",
     "text": [
      "/mnt/d/Documentos/Documents/projects/supply_chain_forecast/.venv/lib/python3.12/site-packages/sklearn/neural_network/_multilayer_perceptron.py:780: ConvergenceWarning: Stochastic Optimizer: Maximum iterations (200) reached and the optimization hasn't converged yet.\n",
      "  warnings.warn(\n"
     ]
    },
    {
     "name": "stdout",
     "output_type": "stream",
     "text": [
      "[CV] END alpha=1, beta_1=0.875, beta_2=0.9999, hidden_layer_sizes=[20, 20], learning_rate_init=0.001; total time=   2.7s\n",
      "[CV] END alpha=1, beta_1=0.9, beta_2=0.9999, hidden_layer_sizes=[20, 20, 20, 20], learning_rate_init=0.01; total time=   1.6s\n",
      "[CV] END alpha=1, beta_1=0.9, beta_2=0.9999, hidden_layer_sizes=[20, 20, 20, 20], learning_rate_init=0.01; total time=   1.7s\n",
      "[CV] END alpha=5, beta_1=0.9, beta_2=0.995, hidden_layer_sizes=[20, 20, 20, 20, 20, 20], learning_rate_init=0.005; total time=   0.7s\n",
      "[CV] END alpha=1, beta_1=0.9, beta_2=0.9999, hidden_layer_sizes=[20, 20, 20, 20], learning_rate_init=0.01; total time=   2.2s\n",
      "[CV] END alpha=5, beta_1=0.99, beta_2=0.9999, hidden_layer_sizes=[20, 20, 20, 20, 20, 20], learning_rate_init=0.0005; total time=   4.6s\n",
      "[CV] END alpha=0.1, beta_1=0.975, beta_2=0.9995, hidden_layer_sizes=[50, 50, 50, 50, 50], learning_rate_init=0.005; total time=   5.9s\n",
      "[CV] END alpha=0.001, beta_1=0.975, beta_2=0.995, hidden_layer_sizes=[40, 40, 40, 40], learning_rate_init=0.01; total time=   2.7s\n",
      "[CV] END alpha=5, beta_1=0.9, beta_2=0.995, hidden_layer_sizes=[20, 20, 20, 20, 20, 20], learning_rate_init=0.005; total time=   1.7s\n",
      "[CV] END alpha=5, beta_1=0.85, beta_2=0.99, hidden_layer_sizes=[50, 50, 50, 50, 50, 50], learning_rate_init=0.005; total time=   0.9s\n",
      "[CV] END alpha=1, beta_1=0.9, beta_2=0.9999, hidden_layer_sizes=[20, 20, 20, 20], learning_rate_init=0.01; total time=   3.6s\n",
      "[CV] END alpha=1, beta_1=0.95, beta_2=0.999, hidden_layer_sizes=[40, 40, 40, 40], learning_rate_init=0.01; total time=   0.5s\n",
      "[CV] END alpha=5, beta_1=0.9, beta_2=0.995, hidden_layer_sizes=[20, 20, 20, 20, 20, 20], learning_rate_init=0.005; total time=   3.1s\n",
      "[CV] END alpha=0.001, beta_1=0.975, beta_2=0.995, hidden_layer_sizes=[40, 40, 40, 40], learning_rate_init=0.01; total time=   4.1s\n",
      "[CV] END alpha=5, beta_1=0.9, beta_2=0.995, hidden_layer_sizes=[20, 20, 20, 20, 20, 20], learning_rate_init=0.005; total time=   3.1s\n",
      "[CV] END alpha=0.001, beta_1=0.975, beta_2=0.995, hidden_layer_sizes=[40, 40, 40, 40], learning_rate_init=0.01; total time=   4.4s\n",
      "[CV] END alpha=1, beta_1=0.95, beta_2=0.999, hidden_layer_sizes=[40, 40, 40, 40], learning_rate_init=0.01; total time=   1.4s\n",
      "[CV] END alpha=0.001, beta_1=0.975, beta_2=0.995, hidden_layer_sizes=[40, 40, 40, 40], learning_rate_init=0.01; total time=   5.0s\n"
     ]
    },
    {
     "name": "stderr",
     "output_type": "stream",
     "text": [
      "/mnt/d/Documentos/Documents/projects/supply_chain_forecast/.venv/lib/python3.12/site-packages/sklearn/neural_network/_multilayer_perceptron.py:780: ConvergenceWarning: Stochastic Optimizer: Maximum iterations (200) reached and the optimization hasn't converged yet.\n",
      "  warnings.warn(\n"
     ]
    },
    {
     "name": "stdout",
     "output_type": "stream",
     "text": [
      "[CV] END alpha=5, beta_1=0.85, beta_2=0.99, hidden_layer_sizes=[50, 50, 50, 50, 50, 50], learning_rate_init=0.005; total time=   3.1s\n",
      "[CV] END alpha=1, beta_1=0.95, beta_2=0.999, hidden_layer_sizes=[40, 40, 40, 40], learning_rate_init=0.01; total time=   2.1s\n",
      "[CV] END alpha=5, beta_1=0.85, beta_2=0.99, hidden_layer_sizes=[50, 50, 50, 50, 50, 50], learning_rate_init=0.005; total time=   4.5s\n",
      "[CV] END alpha=0.5, beta_1=0.995, beta_2=0.995, hidden_layer_sizes=[50, 50, 50, 50, 50, 50], learning_rate_init=0.005; total time=   1.8s\n",
      "[CV] END alpha=5, beta_1=0.85, beta_2=0.99, hidden_layer_sizes=[50, 50, 50, 50, 50, 50], learning_rate_init=0.005; total time=   4.4s\n",
      "[CV] END alpha=1, beta_1=0.95, beta_2=0.999, hidden_layer_sizes=[40, 40, 40, 40], learning_rate_init=0.01; total time=   2.9s\n",
      "[CV] END alpha=0.1, beta_1=0.875, beta_2=0.9999, hidden_layer_sizes=[40, 40, 40, 40, 40, 40], learning_rate_init=0.001; total time=   1.2s\n",
      "[CV] END alpha=5, beta_1=0.9, beta_2=0.995, hidden_layer_sizes=[20, 20, 20, 20, 20, 20], learning_rate_init=0.005; total time=   6.0s\n",
      "[CV] END alpha=0.1, beta_1=0.975, beta_2=0.9995, hidden_layer_sizes=[50, 50, 50, 50, 50], learning_rate_init=0.005; total time=  11.3s\n",
      "[CV] END alpha=0.5, beta_1=0.995, beta_2=0.995, hidden_layer_sizes=[50, 50, 50, 50, 50, 50], learning_rate_init=0.005; total time=   2.9s\n",
      "[CV] END alpha=0.1, beta_1=0.875, beta_2=0.9999, hidden_layer_sizes=[40, 40, 40, 40, 40, 40], learning_rate_init=0.001; total time=   1.8s\n",
      "[CV] END alpha=1, beta_1=0.9, beta_2=0.995, hidden_layer_sizes=[40, 40, 40, 40, 40, 40], learning_rate_init=0.005; total time=   1.0s\n",
      "[CV] END alpha=0.5, beta_1=0.995, beta_2=0.995, hidden_layer_sizes=[50, 50, 50, 50, 50, 50], learning_rate_init=0.005; total time=   3.9s\n",
      "[CV] END alpha=1, beta_1=0.95, beta_2=0.999, hidden_layer_sizes=[40, 40, 40, 40], learning_rate_init=0.01; total time=   4.5s\n",
      "[CV] END alpha=0.001, beta_1=0.975, beta_2=0.9999, hidden_layer_sizes=[50, 50], learning_rate_init=0.01; total time=   0.5s\n",
      "[CV] END alpha=5, beta_1=0.85, beta_2=0.99, hidden_layer_sizes=[50, 50, 50, 50, 50, 50], learning_rate_init=0.005; total time=   6.6s\n",
      "[CV] END alpha=0.001, beta_1=0.975, beta_2=0.9999, hidden_layer_sizes=[50, 50], learning_rate_init=0.01; total time=   1.7s\n",
      "[CV] END alpha=0.001, beta_1=0.975, beta_2=0.9999, hidden_layer_sizes=[50, 50], learning_rate_init=0.01; total time=   1.6s\n",
      "[CV] END alpha=0.1, beta_1=0.875, beta_2=0.9999, hidden_layer_sizes=[40, 40, 40, 40, 40, 40], learning_rate_init=0.001; total time=   3.8s\n",
      "[CV] END alpha=0.001, beta_1=0.975, beta_2=0.9999, hidden_layer_sizes=[50, 50], learning_rate_init=0.01; total time=   2.3s\n",
      "[CV] END alpha=1, beta_1=0.9, beta_2=0.995, hidden_layer_sizes=[40, 40, 40, 40, 40, 40], learning_rate_init=0.005; total time=   4.0s\n",
      "[CV] END alpha=0.1, beta_1=0.875, beta_2=0.9999, hidden_layer_sizes=[40, 40, 40, 40, 40, 40], learning_rate_init=0.001; total time=   4.8s\n",
      "[CV] END alpha=1, beta_1=0.9, beta_2=0.995, hidden_layer_sizes=[40, 40, 40, 40, 40, 40], learning_rate_init=0.005; total time=   3.6s\n",
      "[CV] END alpha=0.5, beta_1=0.995, beta_2=0.995, hidden_layer_sizes=[50, 50, 50, 50, 50, 50], learning_rate_init=0.005; total time=   6.9s\n",
      "[CV] END alpha=0.001, beta_1=0.975, beta_2=0.9999, hidden_layer_sizes=[50, 50], learning_rate_init=0.01; total time=   2.0s\n",
      "[CV] END alpha=0.1, beta_1=0.85, beta_2=0.9999, hidden_layer_sizes=[20, 20], learning_rate_init=0.005; total time=   0.6s\n",
      "[CV] END alpha=1, beta_1=0.95, beta_2=0.995, hidden_layer_sizes=[50, 50, 50], learning_rate_init=0.0005; total time=   1.7s\n",
      "[CV] END alpha=1, beta_1=0.95, beta_2=0.995, hidden_layer_sizes=[50, 50, 50], learning_rate_init=0.0005; total time=   2.2s\n"
     ]
    },
    {
     "name": "stderr",
     "output_type": "stream",
     "text": [
      "/mnt/d/Documentos/Documents/projects/supply_chain_forecast/.venv/lib/python3.12/site-packages/sklearn/neural_network/_multilayer_perceptron.py:780: ConvergenceWarning: Stochastic Optimizer: Maximum iterations (200) reached and the optimization hasn't converged yet.\n",
      "  warnings.warn(\n"
     ]
    },
    {
     "name": "stdout",
     "output_type": "stream",
     "text": [
      "[CV] END alpha=0.1, beta_1=0.85, beta_2=0.9999, hidden_layer_sizes=[20, 20], learning_rate_init=0.005; total time=   1.3s\n",
      "[CV] END alpha=1, beta_1=0.95, beta_2=0.995, hidden_layer_sizes=[50, 50, 50], learning_rate_init=0.0005; total time=   2.1s\n",
      "[CV] END alpha=0.5, beta_1=0.875, beta_2=0.9995, hidden_layer_sizes=[30, 30], learning_rate_init=0.005; total time=   0.8s\n",
      "[CV] END alpha=0.1, beta_1=0.85, beta_2=0.9999, hidden_layer_sizes=[20, 20], learning_rate_init=0.005; total time=   1.5s\n",
      "[CV] END alpha=1, beta_1=0.9, beta_2=0.995, hidden_layer_sizes=[40, 40, 40, 40, 40, 40], learning_rate_init=0.005; total time=   7.0s\n",
      "[CV] END alpha=1, beta_1=0.95, beta_2=0.995, hidden_layer_sizes=[50, 50, 50], learning_rate_init=0.0005; total time=   3.2s\n",
      "[CV] END alpha=0.5, beta_1=0.875, beta_2=0.9995, hidden_layer_sizes=[30, 30], learning_rate_init=0.005; total time=   1.1s\n"
     ]
    },
    {
     "name": "stderr",
     "output_type": "stream",
     "text": [
      "/mnt/d/Documentos/Documents/projects/supply_chain_forecast/.venv/lib/python3.12/site-packages/sklearn/neural_network/_multilayer_perceptron.py:780: ConvergenceWarning: Stochastic Optimizer: Maximum iterations (200) reached and the optimization hasn't converged yet.\n",
      "  warnings.warn(\n"
     ]
    },
    {
     "name": "stdout",
     "output_type": "stream",
     "text": [
      "[CV] END alpha=0.1, beta_1=0.85, beta_2=0.9999, hidden_layer_sizes=[20, 20], learning_rate_init=0.005; total time=   2.4s\n",
      "[CV] END alpha=0.1, beta_1=0.85, beta_2=0.9999, hidden_layer_sizes=[20, 20], learning_rate_init=0.005; total time=   2.1s\n"
     ]
    },
    {
     "name": "stderr",
     "output_type": "stream",
     "text": [
      "/mnt/d/Documentos/Documents/projects/supply_chain_forecast/.venv/lib/python3.12/site-packages/sklearn/neural_network/_multilayer_perceptron.py:780: ConvergenceWarning: Stochastic Optimizer: Maximum iterations (200) reached and the optimization hasn't converged yet.\n",
      "  warnings.warn(\n"
     ]
    },
    {
     "name": "stdout",
     "output_type": "stream",
     "text": [
      "[CV] END alpha=0.5, beta_1=0.875, beta_2=0.9995, hidden_layer_sizes=[30, 30], learning_rate_init=0.005; total time=   1.7s\n",
      "[CV] END alpha=0.5, beta_1=0.875, beta_2=0.9995, hidden_layer_sizes=[30, 30], learning_rate_init=0.005; total time=   1.2s\n",
      "[CV] END alpha=0.5, beta_1=0.875, beta_2=0.9995, hidden_layer_sizes=[30, 30], learning_rate_init=0.005; total time=   2.0s\n",
      "[CV] END alpha=1, beta_1=0.85, beta_2=0.999, hidden_layer_sizes=[50, 50], learning_rate_init=0.0005; total time=   1.0s\n",
      "[CV] END alpha=1, beta_1=0.95, beta_2=0.995, hidden_layer_sizes=[50, 50, 50], learning_rate_init=0.0005; total time=   4.5s\n",
      "[CV] END alpha=1, beta_1=0.9, beta_2=0.995, hidden_layer_sizes=[40, 40, 40, 40, 40, 40], learning_rate_init=0.005; total time=   7.7s\n",
      "[CV] END alpha=1, beta_1=0.85, beta_2=0.9999, hidden_layer_sizes=[50, 50, 50, 50, 50], learning_rate_init=0.05; total time=   2.0s\n",
      "[CV] END alpha=1, beta_1=0.85, beta_2=0.999, hidden_layer_sizes=[50, 50], learning_rate_init=0.0005; total time=   1.7s\n",
      "[CV] END alpha=1, beta_1=0.85, beta_2=0.9999, hidden_layer_sizes=[50, 50, 50, 50, 50], learning_rate_init=0.05; total time=   2.4s\n",
      "[CV] END alpha=0.01, beta_1=0.9, beta_2=0.9999, hidden_layer_sizes=[30, 30], learning_rate_init=0.001; total time=   0.9s\n",
      "[CV] END alpha=0.1, beta_1=0.875, beta_2=0.9999, hidden_layer_sizes=[40, 40, 40, 40, 40, 40], learning_rate_init=0.001; total time=  10.3s\n",
      "[CV] END alpha=1, beta_1=0.85, beta_2=0.999, hidden_layer_sizes=[50, 50], learning_rate_init=0.0005; total time=   1.4s\n",
      "[CV] END alpha=0.5, beta_1=0.995, beta_2=0.995, hidden_layer_sizes=[50, 50, 50, 50, 50, 50], learning_rate_init=0.005; total time=  12.1s\n",
      "[CV] END alpha=1, beta_1=0.85, beta_2=0.9999, hidden_layer_sizes=[50, 50, 50, 50, 50], learning_rate_init=0.05; total time=   3.2s\n",
      "[CV] END alpha=0.01, beta_1=0.9, beta_2=0.9999, hidden_layer_sizes=[30, 30], learning_rate_init=0.001; total time=   1.1s\n",
      "[CV] END alpha=1, beta_1=0.85, beta_2=0.999, hidden_layer_sizes=[50, 50], learning_rate_init=0.0005; total time=   2.0s\n",
      "[CV] END alpha=0.01, beta_1=0.9, beta_2=0.9999, hidden_layer_sizes=[30, 30], learning_rate_init=0.001; total time=   1.8s\n",
      "[CV] END alpha=0.001, beta_1=0.995, beta_2=0.995, hidden_layer_sizes=[30, 30, 30, 30, 30], learning_rate_init=0.05; total time=   1.4s\n",
      "[CV] END alpha=0.001, beta_1=0.995, beta_2=0.995, hidden_layer_sizes=[30, 30, 30, 30, 30], learning_rate_init=0.05; total time=   1.2s\n",
      "[CV] END alpha=0.01, beta_1=0.9, beta_2=0.9999, hidden_layer_sizes=[30, 30], learning_rate_init=0.001; total time=   2.1s\n",
      "[CV] END alpha=0.5, beta_1=0.95, beta_2=0.9999, hidden_layer_sizes=[50, 50, 50, 50], learning_rate_init=0.001; total time=   1.0s\n",
      "[CV] END alpha=0.01, beta_1=0.9, beta_2=0.9999, hidden_layer_sizes=[30, 30], learning_rate_init=0.001; total time=   2.4s\n",
      "[CV] END alpha=1, beta_1=0.85, beta_2=0.999, hidden_layer_sizes=[50, 50], learning_rate_init=0.0005; total time=   3.8s\n",
      "[CV] END alpha=1, beta_1=0.85, beta_2=0.9999, hidden_layer_sizes=[50, 50, 50, 50, 50], learning_rate_init=0.05; total time=   4.9s\n",
      "[CV] END alpha=0.5, beta_1=0.99, beta_2=0.9999, hidden_layer_sizes=[40, 40, 40, 40], learning_rate_init=0.001; total time=   0.7s\n",
      "[CV] END alpha=0.5, beta_1=0.95, beta_2=0.9999, hidden_layer_sizes=[50, 50, 50, 50], learning_rate_init=0.001; total time=   1.6s\n",
      "[CV] END alpha=1, beta_1=0.85, beta_2=0.9999, hidden_layer_sizes=[50, 50, 50, 50, 50], learning_rate_init=0.05; total time=   5.2s\n",
      "[CV] END alpha=0.001, beta_1=0.995, beta_2=0.995, hidden_layer_sizes=[30, 30, 30, 30, 30], learning_rate_init=0.05; total time=   2.8s\n",
      "[CV] END alpha=0.5, beta_1=0.99, beta_2=0.9999, hidden_layer_sizes=[40, 40, 40, 40], learning_rate_init=0.001; total time=   1.4s\n",
      "[CV] END alpha=0.5, beta_1=0.99, beta_2=0.9999, hidden_layer_sizes=[40, 40, 40, 40], learning_rate_init=0.001; total time=   1.7s\n",
      "[CV] END alpha=0.5, beta_1=0.875, beta_2=0.99, hidden_layer_sizes=[30, 30, 30, 30, 30], learning_rate_init=0.05; total time=   1.3s\n",
      "[CV] END alpha=0.5, beta_1=0.95, beta_2=0.9999, hidden_layer_sizes=[50, 50, 50, 50], learning_rate_init=0.001; total time=   2.6s\n",
      "[CV] END alpha=0.001, beta_1=0.995, beta_2=0.995, hidden_layer_sizes=[30, 30, 30, 30, 30], learning_rate_init=0.05; total time=   3.7s\n",
      "[CV] END alpha=0.5, beta_1=0.875, beta_2=0.99, hidden_layer_sizes=[30, 30, 30, 30, 30], learning_rate_init=0.05; total time=   1.5s\n",
      "[CV] END alpha=0.5, beta_1=0.95, beta_2=0.9999, hidden_layer_sizes=[50, 50, 50, 50], learning_rate_init=0.001; total time=   2.7s\n",
      "[CV] END alpha=0.5, beta_1=0.875, beta_2=0.99, hidden_layer_sizes=[30, 30, 30, 30, 30], learning_rate_init=0.05; total time=   1.9s\n",
      "[CV] END alpha=0.5, beta_1=0.95, beta_2=0.9999, hidden_layer_sizes=[50, 50, 50, 50], learning_rate_init=0.001; total time=   3.9s\n",
      "[CV] END alpha=0.05, beta_1=0.95, beta_2=0.995, hidden_layer_sizes=[50, 50, 50, 50, 50, 50], learning_rate_init=0.001; total time=   1.3s\n",
      "[CV] END alpha=0.5, beta_1=0.99, beta_2=0.9999, hidden_layer_sizes=[40, 40, 40, 40], learning_rate_init=0.001; total time=   3.3s\n",
      "[CV] END alpha=0.001, beta_1=0.995, beta_2=0.995, hidden_layer_sizes=[30, 30, 30, 30, 30], learning_rate_init=0.05; total time=   5.7s\n",
      "[CV] END alpha=0.5, beta_1=0.875, beta_2=0.99, hidden_layer_sizes=[30, 30, 30, 30, 30], learning_rate_init=0.05; total time=   3.0s\n",
      "[CV] END alpha=0.5, beta_1=0.875, beta_2=0.995, hidden_layer_sizes=[20, 20, 20, 20, 20, 20], learning_rate_init=0.005; total time=   1.7s\n",
      "[CV] END alpha=0.5, beta_1=0.875, beta_2=0.995, hidden_layer_sizes=[20, 20, 20, 20, 20, 20], learning_rate_init=0.005; total time=   1.6s\n",
      "[CV] END alpha=0.5, beta_1=0.875, beta_2=0.99, hidden_layer_sizes=[30, 30, 30, 30, 30], learning_rate_init=0.05; total time=   3.0s\n",
      "[CV] END alpha=0.05, beta_1=0.95, beta_2=0.995, hidden_layer_sizes=[50, 50, 50, 50, 50, 50], learning_rate_init=0.001; total time=   2.9s\n",
      "[CV] END alpha=0.5, beta_1=0.875, beta_2=0.995, hidden_layer_sizes=[20, 20, 20, 20, 20, 20], learning_rate_init=0.005; total time=   2.1s\n",
      "[CV] END alpha=0.1, beta_1=0.975, beta_2=0.99, hidden_layer_sizes=[30, 30, 30, 30, 30], learning_rate_init=0.01; total time=   0.9s\n",
      "[CV] END alpha=0.5, beta_1=0.875, beta_2=0.995, hidden_layer_sizes=[20, 20, 20, 20, 20, 20], learning_rate_init=0.005; total time=   2.2s\n",
      "[CV] END alpha=0.1, beta_1=0.975, beta_2=0.999, hidden_layer_sizes=[40, 40], learning_rate_init=0.001; total time=   0.6s\n",
      "[CV] END alpha=0.5, beta_1=0.99, beta_2=0.9999, hidden_layer_sizes=[40, 40, 40, 40], learning_rate_init=0.001; total time=   5.8s\n",
      "[CV] END alpha=0.1, beta_1=0.975, beta_2=0.999, hidden_layer_sizes=[40, 40], learning_rate_init=0.001; total time=   1.0s\n",
      "[CV] END alpha=0.1, beta_1=0.975, beta_2=0.99, hidden_layer_sizes=[30, 30, 30, 30, 30], learning_rate_init=0.01; total time=   1.6s\n",
      "[CV] END alpha=1, beta_1=0.85, beta_2=0.995, hidden_layer_sizes=[30, 30, 30, 30], learning_rate_init=0.05; total time=   0.5s\n",
      "[CV] END alpha=1, beta_1=0.85, beta_2=0.995, hidden_layer_sizes=[30, 30, 30, 30], learning_rate_init=0.05; total time=   0.8s\n",
      "[CV] END alpha=0.1, beta_1=0.975, beta_2=0.999, hidden_layer_sizes=[40, 40], learning_rate_init=0.001; total time=   1.4s\n",
      "[CV] END alpha=0.1, beta_1=0.975, beta_2=0.99, hidden_layer_sizes=[30, 30, 30, 30, 30], learning_rate_init=0.01; total time=   3.3s\n",
      "[CV] END alpha=1, beta_1=0.85, beta_2=0.995, hidden_layer_sizes=[30, 30, 30, 30], learning_rate_init=0.05; total time=   1.3s\n",
      "[CV] END alpha=0.05, beta_1=0.95, beta_2=0.995, hidden_layer_sizes=[50, 50, 50, 50, 50, 50], learning_rate_init=0.001; total time=   6.3s\n",
      "[CV] END alpha=0.05, beta_1=0.95, beta_2=0.995, hidden_layer_sizes=[50, 50, 50, 50, 50, 50], learning_rate_init=0.001; total time=   6.3s\n",
      "[CV] END alpha=0.05, beta_1=0.95, beta_2=0.995, hidden_layer_sizes=[50, 50, 50, 50, 50, 50], learning_rate_init=0.001; total time=   6.2s\n",
      "[CV] END alpha=0.1, beta_1=0.975, beta_2=0.999, hidden_layer_sizes=[40, 40], learning_rate_init=0.001; total time=   2.5s\n",
      "[CV] END alpha=0.1, beta_1=0.975, beta_2=0.99, hidden_layer_sizes=[30, 30, 30, 30, 30], learning_rate_init=0.01; total time=   3.7s\n",
      "[CV] END alpha=0.1, beta_1=0.975, beta_2=0.999, hidden_layer_sizes=[40, 40], learning_rate_init=0.001; total time=   2.7s\n",
      "[CV] END alpha=0.1, beta_1=0.975, beta_2=0.9999, hidden_layer_sizes=[20, 20, 20], learning_rate_init=0.005; total time=   0.4s\n",
      "[CV] END alpha=0.1, beta_1=0.975, beta_2=0.995, hidden_layer_sizes=[20, 20, 20, 20, 20], learning_rate_init=0.0005; total time=   1.0s\n",
      "[CV] END alpha=0.1, beta_1=0.975, beta_2=0.9999, hidden_layer_sizes=[20, 20, 20], learning_rate_init=0.005; total time=   0.7s\n",
      "[CV] END alpha=0.1, beta_1=0.975, beta_2=0.99, hidden_layer_sizes=[30, 30, 30, 30, 30], learning_rate_init=0.01; total time=   4.5s\n",
      "[CV] END alpha=0.1, beta_1=0.975, beta_2=0.9999, hidden_layer_sizes=[20, 20, 20], learning_rate_init=0.005; total time=   0.8s\n",
      "[CV] END alpha=0.1, beta_1=0.995, beta_2=0.999, hidden_layer_sizes=[30, 30, 30, 30], learning_rate_init=0.005; total time=   1.0s\n",
      "[CV] END alpha=0.1, beta_1=0.995, beta_2=0.999, hidden_layer_sizes=[30, 30, 30, 30], learning_rate_init=0.005; total time=   1.1s\n",
      "[CV] END alpha=0.1, beta_1=0.975, beta_2=0.9999, hidden_layer_sizes=[20, 20, 20], learning_rate_init=0.005; total time=   1.5s\n",
      "[CV] END alpha=1, beta_1=0.85, beta_2=0.995, hidden_layer_sizes=[30, 30, 30, 30], learning_rate_init=0.05; total time=   3.4s\n",
      "[CV] END alpha=0.1, beta_1=0.975, beta_2=0.995, hidden_layer_sizes=[20, 20, 20, 20, 20], learning_rate_init=0.0005; total time=   2.5s\n",
      "[CV] END alpha=1, beta_1=0.85, beta_2=0.995, hidden_layer_sizes=[30, 30, 30, 30], learning_rate_init=0.05; total time=   3.4s\n",
      "[CV] END alpha=0.1, beta_1=0.975, beta_2=0.995, hidden_layer_sizes=[20, 20, 20, 20, 20], learning_rate_init=0.0005; total time=   2.4s\n",
      "[CV] END alpha=0.5, beta_1=0.95, beta_2=0.99, hidden_layer_sizes=[50, 50], learning_rate_init=0.001; total time=   0.3s\n",
      "[CV] END alpha=0.1, beta_1=0.995, beta_2=0.999, hidden_layer_sizes=[30, 30, 30, 30], learning_rate_init=0.005; total time=   1.3s\n",
      "[CV] END alpha=0.1, beta_1=0.975, beta_2=0.9999, hidden_layer_sizes=[20, 20, 20], learning_rate_init=0.005; total time=   2.3s\n",
      "[CV] END alpha=5, beta_1=0.99, beta_2=0.9995, hidden_layer_sizes=[20, 20, 20], learning_rate_init=0.005; total time=   0.4s\n",
      "[CV] END alpha=0.5, beta_1=0.95, beta_2=0.99, hidden_layer_sizes=[50, 50], learning_rate_init=0.001; total time=   0.7s\n",
      "[CV] END alpha=5, beta_1=0.99, beta_2=0.9995, hidden_layer_sizes=[20, 20, 20], learning_rate_init=0.005; total time=   0.5s\n",
      "[CV] END alpha=0.1, beta_1=0.975, beta_2=0.995, hidden_layer_sizes=[20, 20, 20, 20, 20], learning_rate_init=0.0005; total time=   3.3s\n"
     ]
    },
    {
     "name": "stderr",
     "output_type": "stream",
     "text": [
      "/mnt/d/Documentos/Documents/projects/supply_chain_forecast/.venv/lib/python3.12/site-packages/sklearn/neural_network/_multilayer_perceptron.py:780: ConvergenceWarning: Stochastic Optimizer: Maximum iterations (200) reached and the optimization hasn't converged yet.\n",
      "  warnings.warn(\n"
     ]
    },
    {
     "name": "stdout",
     "output_type": "stream",
     "text": [
      "[CV] END alpha=0.5, beta_1=0.875, beta_2=0.995, hidden_layer_sizes=[20, 20, 20, 20, 20, 20], learning_rate_init=0.005; total time=   7.8s\n",
      "[CV] END alpha=0.1, beta_1=0.995, beta_2=0.999, hidden_layer_sizes=[30, 30, 30, 30], learning_rate_init=0.005; total time=   1.7s\n",
      "[CV] END alpha=0.5, beta_1=0.95, beta_2=0.99, hidden_layer_sizes=[50, 50], learning_rate_init=0.001; total time=   1.5s\n",
      "[CV] END alpha=5, beta_1=0.99, beta_2=0.9995, hidden_layer_sizes=[20, 20, 20], learning_rate_init=0.005; total time=   1.1s\n",
      "[CV] END alpha=0.1, beta_1=0.995, beta_2=0.99, hidden_layer_sizes=[20, 20, 20, 20, 20], learning_rate_init=0.01; total time=   1.0s\n",
      "[CV] END alpha=5, beta_1=0.99, beta_2=0.9995, hidden_layer_sizes=[20, 20, 20], learning_rate_init=0.005; total time=   1.3s\n",
      "[CV] END alpha=0.1, beta_1=0.995, beta_2=0.99, hidden_layer_sizes=[20, 20, 20, 20, 20], learning_rate_init=0.01; total time=   0.9s\n",
      "[CV] END alpha=5, beta_1=0.99, beta_2=0.9995, hidden_layer_sizes=[20, 20, 20], learning_rate_init=0.005; total time=   1.4s\n",
      "[CV] END alpha=0.1, beta_1=0.975, beta_2=0.995, hidden_layer_sizes=[20, 20, 20, 20, 20], learning_rate_init=0.0005; total time=   4.8s\n",
      "[CV] END alpha=0.1, beta_1=0.995, beta_2=0.99, hidden_layer_sizes=[20, 20, 20, 20, 20], learning_rate_init=0.01; total time=   1.4s\n",
      "[CV] END alpha=0.1, beta_1=0.95, beta_2=0.999, hidden_layer_sizes=[20, 20, 20, 20], learning_rate_init=0.001; total time=   0.6s\n",
      "[CV] END alpha=0.01, beta_1=0.99, beta_2=0.999, hidden_layer_sizes=[30, 30, 30], learning_rate_init=0.05; total time=   1.3s\n"
     ]
    },
    {
     "name": "stderr",
     "output_type": "stream",
     "text": [
      "/mnt/d/Documentos/Documents/projects/supply_chain_forecast/.venv/lib/python3.12/site-packages/sklearn/neural_network/_multilayer_perceptron.py:780: ConvergenceWarning: Stochastic Optimizer: Maximum iterations (200) reached and the optimization hasn't converged yet.\n",
      "  warnings.warn(\n"
     ]
    },
    {
     "name": "stdout",
     "output_type": "stream",
     "text": [
      "[CV] END alpha=0.01, beta_1=0.99, beta_2=0.999, hidden_layer_sizes=[30, 30, 30], learning_rate_init=0.05; total time=   1.3s\n",
      "[CV] END alpha=0.1, beta_1=0.995, beta_2=0.999, hidden_layer_sizes=[30, 30, 30, 30], learning_rate_init=0.005; total time=   3.6s\n",
      "[CV] END alpha=0.5, beta_1=0.95, beta_2=0.99, hidden_layer_sizes=[50, 50], learning_rate_init=0.001; total time=   3.4s\n",
      "[CV] END alpha=0.01, beta_1=0.99, beta_2=0.999, hidden_layer_sizes=[30, 30, 30], learning_rate_init=0.05; total time=   1.6s\n",
      "[CV] END alpha=0.1, beta_1=0.95, beta_2=0.999, hidden_layer_sizes=[20, 20, 20, 20], learning_rate_init=0.001; total time=   0.9s\n",
      "[CV] END alpha=0.001, beta_1=0.85, beta_2=0.995, hidden_layer_sizes=[40, 40], learning_rate_init=0.005; total time=   0.3s\n",
      "[CV] END alpha=0.01, beta_1=0.99, beta_2=0.999, hidden_layer_sizes=[30, 30, 30], learning_rate_init=0.05; total time=   1.7s\n",
      "[CV] END alpha=0.01, beta_1=0.99, beta_2=0.999, hidden_layer_sizes=[30, 30, 30], learning_rate_init=0.05; total time=   2.0s\n",
      "[CV] END alpha=1, beta_1=0.995, beta_2=0.999, hidden_layer_sizes=[10, 10, 10], learning_rate_init=0.05; total time=   0.4s\n",
      "[CV] END alpha=0.5, beta_1=0.95, beta_2=0.99, hidden_layer_sizes=[50, 50], learning_rate_init=0.001; total time=   4.5s\n",
      "[CV] END alpha=0.1, beta_1=0.995, beta_2=0.99, hidden_layer_sizes=[20, 20, 20, 20, 20], learning_rate_init=0.01; total time=   3.1s\n",
      "[CV] END alpha=1, beta_1=0.995, beta_2=0.999, hidden_layer_sizes=[10, 10, 10], learning_rate_init=0.05; total time=   0.8s\n",
      "[CV] END alpha=0.001, beta_1=0.85, beta_2=0.995, hidden_layer_sizes=[40, 40], learning_rate_init=0.005; total time=   1.2s\n",
      "[CV] END alpha=0.001, beta_1=0.85, beta_2=0.995, hidden_layer_sizes=[40, 40], learning_rate_init=0.005; total time=   1.3s\n",
      "[CV] END alpha=0.5, beta_1=0.995, beta_2=0.999, hidden_layer_sizes=[10, 10, 10], learning_rate_init=0.001; total time=   0.5s\n",
      "[CV] END alpha=0.1, beta_1=0.995, beta_2=0.99, hidden_layer_sizes=[20, 20, 20, 20, 20], learning_rate_init=0.01; total time=   3.8s\n",
      "[CV] END alpha=1, beta_1=0.995, beta_2=0.999, hidden_layer_sizes=[10, 10, 10], learning_rate_init=0.05; total time=   0.9s\n",
      "[CV] END alpha=0.1, beta_1=0.95, beta_2=0.999, hidden_layer_sizes=[20, 20, 20, 20], learning_rate_init=0.001; total time=   2.2s\n",
      "[CV] END alpha=0.001, beta_1=0.85, beta_2=0.995, hidden_layer_sizes=[40, 40], learning_rate_init=0.005; total time=   1.5s\n",
      "[CV] END alpha=0.1, beta_1=0.95, beta_2=0.999, hidden_layer_sizes=[20, 20, 20, 20], learning_rate_init=0.001; total time=   2.2s\n",
      "[CV] END alpha=0.001, beta_1=0.85, beta_2=0.995, hidden_layer_sizes=[40, 40], learning_rate_init=0.005; total time=   2.1s\n",
      "[CV] END alpha=1, beta_1=0.995, beta_2=0.999, hidden_layer_sizes=[10, 10, 10], learning_rate_init=0.05; total time=   1.4s\n",
      "[CV] END alpha=0.1, beta_1=0.95, beta_2=0.999, hidden_layer_sizes=[20, 20, 20, 20], learning_rate_init=0.001; total time=   3.1s\n"
     ]
    },
    {
     "name": "stderr",
     "output_type": "stream",
     "text": [
      "/mnt/d/Documentos/Documents/projects/supply_chain_forecast/.venv/lib/python3.12/site-packages/sklearn/neural_network/_multilayer_perceptron.py:780: ConvergenceWarning: Stochastic Optimizer: Maximum iterations (200) reached and the optimization hasn't converged yet.\n",
      "  warnings.warn(\n",
      "/mnt/d/Documentos/Documents/projects/supply_chain_forecast/.venv/lib/python3.12/site-packages/sklearn/neural_network/_multilayer_perceptron.py:780: ConvergenceWarning: Stochastic Optimizer: Maximum iterations (200) reached and the optimization hasn't converged yet.\n",
      "  warnings.warn(\n"
     ]
    },
    {
     "name": "stdout",
     "output_type": "stream",
     "text": [
      "[CV] END alpha=0.5, beta_1=0.995, beta_2=0.999, hidden_layer_sizes=[10, 10, 10], learning_rate_init=0.001; total time=   1.5s\n",
      "[CV] END alpha=1, beta_1=0.875, beta_2=0.9999, hidden_layer_sizes=[10, 10, 10, 10, 10], learning_rate_init=0.0005; total time=   1.1s\n",
      "[CV] END alpha=0.5, beta_1=0.995, beta_2=0.999, hidden_layer_sizes=[10, 10, 10], learning_rate_init=0.001; total time=   1.4s\n",
      "[CV] END alpha=1, beta_1=0.995, beta_2=0.999, hidden_layer_sizes=[10, 10, 10], learning_rate_init=0.05; total time=   2.1s\n",
      "[CV] END alpha=0.5, beta_1=0.95, beta_2=0.9995, hidden_layer_sizes=[30, 30, 30, 30, 30, 30], learning_rate_init=0.001; total time=   1.4s\n",
      "[CV] END alpha=0.5, beta_1=0.995, beta_2=0.999, hidden_layer_sizes=[10, 10, 10], learning_rate_init=0.001; total time=   2.5s\n"
     ]
    },
    {
     "name": "stderr",
     "output_type": "stream",
     "text": [
      "/mnt/d/Documentos/Documents/projects/supply_chain_forecast/.venv/lib/python3.12/site-packages/sklearn/neural_network/_multilayer_perceptron.py:780: ConvergenceWarning: Stochastic Optimizer: Maximum iterations (200) reached and the optimization hasn't converged yet.\n",
      "  warnings.warn(\n",
      "/mnt/d/Documentos/Documents/projects/supply_chain_forecast/.venv/lib/python3.12/site-packages/sklearn/neural_network/_multilayer_perceptron.py:780: ConvergenceWarning: Stochastic Optimizer: Maximum iterations (200) reached and the optimization hasn't converged yet.\n",
      "  warnings.warn(\n"
     ]
    },
    {
     "name": "stdout",
     "output_type": "stream",
     "text": [
      "[CV] END alpha=1, beta_1=0.875, beta_2=0.9999, hidden_layer_sizes=[10, 10, 10, 10, 10], learning_rate_init=0.0005; total time=   2.4s\n",
      "[CV] END alpha=0.5, beta_1=0.995, beta_2=0.999, hidden_layer_sizes=[10, 10, 10], learning_rate_init=0.001; total time=   3.1s\n",
      "[CV] END alpha=0.5, beta_1=0.95, beta_2=0.9995, hidden_layer_sizes=[30, 30, 30, 30, 30, 30], learning_rate_init=0.001; total time=   2.3s\n",
      "[CV] END alpha=0.001, beta_1=0.99, beta_2=0.9995, hidden_layer_sizes=[30, 30, 30, 30, 30], learning_rate_init=0.01; total time=   1.9s\n",
      "[CV] END alpha=1, beta_1=0.875, beta_2=0.9999, hidden_layer_sizes=[10, 10, 10, 10, 10], learning_rate_init=0.0005; total time=   3.3s\n",
      "[CV] END alpha=0.5, beta_1=0.95, beta_2=0.9995, hidden_layer_sizes=[30, 30, 30, 30, 30, 30], learning_rate_init=0.001; total time=   2.5s\n"
     ]
    },
    {
     "name": "stderr",
     "output_type": "stream",
     "text": [
      "/mnt/d/Documentos/Documents/projects/supply_chain_forecast/.venv/lib/python3.12/site-packages/sklearn/neural_network/_multilayer_perceptron.py:780: ConvergenceWarning: Stochastic Optimizer: Maximum iterations (200) reached and the optimization hasn't converged yet.\n",
      "  warnings.warn(\n"
     ]
    },
    {
     "name": "stdout",
     "output_type": "stream",
     "text": [
      "[CV] END alpha=0.5, beta_1=0.95, beta_2=0.9995, hidden_layer_sizes=[30, 30, 30, 30, 30, 30], learning_rate_init=0.001; total time=   2.7s\n",
      "[CV] END alpha=0.1, beta_1=0.9, beta_2=0.995, hidden_layer_sizes=[20, 20, 20, 20], learning_rate_init=0.01; total time=   0.6s\n",
      "[CV] END alpha=0.1, beta_1=0.9, beta_2=0.995, hidden_layer_sizes=[20, 20, 20, 20], learning_rate_init=0.01; total time=   0.9s\n",
      "[CV] END alpha=0.05, beta_1=0.9, beta_2=0.9999, hidden_layer_sizes=[30, 30, 30, 30], learning_rate_init=0.0005; total time=   0.5s\n",
      "[CV] END alpha=1, beta_1=0.875, beta_2=0.9999, hidden_layer_sizes=[10, 10, 10, 10, 10], learning_rate_init=0.0005; total time=   4.3s\n"
     ]
    },
    {
     "name": "stderr",
     "output_type": "stream",
     "text": [
      "/mnt/d/Documentos/Documents/projects/supply_chain_forecast/.venv/lib/python3.12/site-packages/sklearn/neural_network/_multilayer_perceptron.py:780: ConvergenceWarning: Stochastic Optimizer: Maximum iterations (200) reached and the optimization hasn't converged yet.\n",
      "  warnings.warn(\n"
     ]
    },
    {
     "name": "stdout",
     "output_type": "stream",
     "text": [
      "[CV] END alpha=0.1, beta_1=0.9, beta_2=0.995, hidden_layer_sizes=[20, 20, 20, 20], learning_rate_init=0.01; total time=   1.3s\n",
      "[CV] END alpha=0.5, beta_1=0.95, beta_2=0.9995, hidden_layer_sizes=[30, 30, 30, 30, 30, 30], learning_rate_init=0.001; total time=   3.7s\n",
      "[CV] END alpha=0.001, beta_1=0.99, beta_2=0.9995, hidden_layer_sizes=[30, 30, 30, 30, 30], learning_rate_init=0.01; total time=   2.9s\n",
      "[CV] END alpha=0.1, beta_1=0.9, beta_2=0.995, hidden_layer_sizes=[20, 20, 20, 20], learning_rate_init=0.01; total time=   1.5s\n",
      "[CV] END alpha=0.05, beta_1=0.9, beta_2=0.9999, hidden_layer_sizes=[30, 30, 30, 30], learning_rate_init=0.0005; total time=   1.1s\n",
      "[CV] END alpha=0.01, beta_1=0.95, beta_2=0.999, hidden_layer_sizes=[20, 20, 20, 20], learning_rate_init=0.01; total time=   0.3s\n",
      "[CV] END alpha=0.001, beta_1=0.99, beta_2=0.9995, hidden_layer_sizes=[30, 30, 30, 30, 30], learning_rate_init=0.01; total time=   2.9s\n",
      "[CV] END alpha=0.1, beta_1=0.9, beta_2=0.995, hidden_layer_sizes=[20, 20, 20, 20], learning_rate_init=0.01; total time=   2.0s\n",
      "[CV] END alpha=0.01, beta_1=0.95, beta_2=0.999, hidden_layer_sizes=[20, 20, 20, 20], learning_rate_init=0.01; total time=   0.7s\n",
      "[CV] END alpha=0.05, beta_1=0.9, beta_2=0.9995, hidden_layer_sizes=[30, 30, 30, 30], learning_rate_init=0.005; total time=   0.5s\n",
      "[CV] END alpha=0.001, beta_1=0.99, beta_2=0.9995, hidden_layer_sizes=[30, 30, 30, 30, 30], learning_rate_init=0.01; total time=   3.0s\n"
     ]
    },
    {
     "name": "stderr",
     "output_type": "stream",
     "text": [
      "/mnt/d/Documentos/Documents/projects/supply_chain_forecast/.venv/lib/python3.12/site-packages/sklearn/neural_network/_multilayer_perceptron.py:780: ConvergenceWarning: Stochastic Optimizer: Maximum iterations (200) reached and the optimization hasn't converged yet.\n",
      "  warnings.warn(\n"
     ]
    },
    {
     "name": "stdout",
     "output_type": "stream",
     "text": [
      "[CV] END alpha=1, beta_1=0.875, beta_2=0.9999, hidden_layer_sizes=[10, 10, 10, 10, 10], learning_rate_init=0.0005; total time=   6.1s\n",
      "[CV] END alpha=0.05, beta_1=0.9, beta_2=0.9999, hidden_layer_sizes=[30, 30, 30, 30], learning_rate_init=0.0005; total time=   2.1s\n",
      "[CV] END alpha=0.01, beta_1=0.95, beta_2=0.999, hidden_layer_sizes=[20, 20, 20, 20], learning_rate_init=0.01; total time=   1.5s\n",
      "[CV] END alpha=0.01, beta_1=0.95, beta_2=0.999, hidden_layer_sizes=[20, 20, 20, 20], learning_rate_init=0.01; total time=   1.5s\n",
      "[CV] END alpha=0.01, beta_1=0.95, beta_2=0.999, hidden_layer_sizes=[20, 20, 20, 20], learning_rate_init=0.01; total time=   1.6s\n",
      "[CV] END alpha=1, beta_1=0.95, beta_2=0.99, hidden_layer_sizes=[50, 50], learning_rate_init=0.05; total time=   0.7s\n",
      "[CV] END alpha=5, beta_1=0.875, beta_2=0.9995, hidden_layer_sizes=[20, 20], learning_rate_init=0.0005; total time=   0.4s\n",
      "[CV] END alpha=1, beta_1=0.95, beta_2=0.99, hidden_layer_sizes=[50, 50], learning_rate_init=0.05; total time=   0.9s\n",
      "[CV] END alpha=0.05, beta_1=0.9, beta_2=0.9995, hidden_layer_sizes=[30, 30, 30, 30], learning_rate_init=0.005; total time=   2.2s\n",
      "[CV] END alpha=1, beta_1=0.95, beta_2=0.99, hidden_layer_sizes=[50, 50], learning_rate_init=0.05; total time=   1.0s\n"
     ]
    },
    {
     "name": "stderr",
     "output_type": "stream",
     "text": [
      "/mnt/d/Documentos/Documents/projects/supply_chain_forecast/.venv/lib/python3.12/site-packages/sklearn/neural_network/_multilayer_perceptron.py:780: ConvergenceWarning: Stochastic Optimizer: Maximum iterations (200) reached and the optimization hasn't converged yet.\n",
      "  warnings.warn(\n"
     ]
    },
    {
     "name": "stdout",
     "output_type": "stream",
     "text": [
      "[CV] END alpha=0.001, beta_1=0.99, beta_2=0.9995, hidden_layer_sizes=[30, 30, 30, 30, 30], learning_rate_init=0.01; total time=   6.1s\n",
      "[CV] END alpha=1, beta_1=0.95, beta_2=0.99, hidden_layer_sizes=[50, 50], learning_rate_init=0.05; total time=   1.5s\n",
      "[CV] END alpha=5, beta_1=0.875, beta_2=0.9995, hidden_layer_sizes=[20, 20], learning_rate_init=0.0005; total time=   0.9s\n",
      "[CV] END alpha=1, beta_1=0.95, beta_2=0.99, hidden_layer_sizes=[50, 50], learning_rate_init=0.05; total time=   1.7s\n",
      "[CV] END alpha=0.05, beta_1=0.9, beta_2=0.9999, hidden_layer_sizes=[30, 30, 30, 30], learning_rate_init=0.0005; total time=   4.1s\n"
     ]
    },
    {
     "name": "stderr",
     "output_type": "stream",
     "text": [
      "/mnt/d/Documentos/Documents/projects/supply_chain_forecast/.venv/lib/python3.12/site-packages/sklearn/neural_network/_multilayer_perceptron.py:780: ConvergenceWarning: Stochastic Optimizer: Maximum iterations (200) reached and the optimization hasn't converged yet.\n",
      "  warnings.warn(\n"
     ]
    },
    {
     "name": "stdout",
     "output_type": "stream",
     "text": [
      "[CV] END alpha=5, beta_1=0.875, beta_2=0.9995, hidden_layer_sizes=[20, 20], learning_rate_init=0.0005; total time=   1.1s\n",
      "[CV] END alpha=0.05, beta_1=0.9, beta_2=0.9995, hidden_layer_sizes=[30, 30, 30, 30], learning_rate_init=0.005; total time=   3.2s\n"
     ]
    },
    {
     "name": "stderr",
     "output_type": "stream",
     "text": [
      "/mnt/d/Documentos/Documents/projects/supply_chain_forecast/.venv/lib/python3.12/site-packages/sklearn/neural_network/_multilayer_perceptron.py:780: ConvergenceWarning: Stochastic Optimizer: Maximum iterations (200) reached and the optimization hasn't converged yet.\n",
      "  warnings.warn(\n",
      "/mnt/d/Documentos/Documents/projects/supply_chain_forecast/.venv/lib/python3.12/site-packages/sklearn/neural_network/_multilayer_perceptron.py:780: ConvergenceWarning: Stochastic Optimizer: Maximum iterations (200) reached and the optimization hasn't converged yet.\n",
      "  warnings.warn(\n"
     ]
    },
    {
     "name": "stdout",
     "output_type": "stream",
     "text": [
      "[CV] END alpha=5, beta_1=0.875, beta_2=0.9995, hidden_layer_sizes=[20, 20], learning_rate_init=0.0005; total time=   1.8s\n",
      "[CV] END alpha=0.05, beta_1=0.9, beta_2=0.9995, hidden_layer_sizes=[30, 30, 30, 30], learning_rate_init=0.005; total time=   3.7s\n",
      "[CV] END alpha=5, beta_1=0.875, beta_2=0.9995, hidden_layer_sizes=[20, 20], learning_rate_init=0.0005; total time=   1.8s\n"
     ]
    },
    {
     "name": "stderr",
     "output_type": "stream",
     "text": [
      "/mnt/d/Documentos/Documents/projects/supply_chain_forecast/.venv/lib/python3.12/site-packages/sklearn/neural_network/_multilayer_perceptron.py:780: ConvergenceWarning: Stochastic Optimizer: Maximum iterations (200) reached and the optimization hasn't converged yet.\n",
      "  warnings.warn(\n"
     ]
    },
    {
     "name": "stdout",
     "output_type": "stream",
     "text": [
      "[CV] END alpha=0.05, beta_1=0.9, beta_2=0.9999, hidden_layer_sizes=[30, 30, 30, 30], learning_rate_init=0.0005; total time=   5.4s\n",
      "[CV] END alpha=0.05, beta_1=0.9, beta_2=0.9995, hidden_layer_sizes=[30, 30, 30, 30], learning_rate_init=0.005; total time=   4.7s\n",
      "Best parameters: {'learning_rate_init': 0.01, 'hidden_layer_sizes': [40, 40, 40, 40, 40, 40], 'beta_2': 0.995, 'beta_1': 0.975, 'alpha': 5}\n"
     ]
    }
   ],
   "source": [
    "cross_val = RandomizedSearchCV(\n",
    "    estimator=model,\n",
    "    param_distributions=param_distribution,\n",
    "    cv=TimeSeriesSplit(n_splits=5),\n",
    "    verbose=2,\n",
    "    n_jobs=-1,\n",
    "    n_iter=200,\n",
    "    scoring=\"neg_mean_absolute_error\",\n",
    ")\n",
    "cross_val.fit(X=X_train, y=y_train)\n",
    "print(f\"Best parameters: {cross_val.best_params_}\")"
   ]
  },
  {
   "cell_type": "code",
   "execution_count": 12,
   "id": "29f8ce00",
   "metadata": {},
   "outputs": [
    {
     "name": "stdout",
     "output_type": "stream",
     "text": [
      "               MAE  RMSE  BIAS\n",
      "MLPRegressor                  \n",
      "Train         17.5  43.6   2.5\n",
      "Test          17.5  44.4   3.9\n"
     ]
    }
   ],
   "source": [
    "y_train_pred = model.predict(X=X_train)\n",
    "y_test_pred = model.predict(X=X_test)\n",
    "kpi_ml(\n",
    "    y_train=y_train,\n",
    "    y_train_pred=y_train_pred,\n",
    "    y_test=y_test,\n",
    "    y_test_pred=y_test_pred,\n",
    "    name=\"MLPRegressor\",\n",
    ")"
   ]
  },
  {
   "cell_type": "code",
   "execution_count": null,
   "id": "2f08702d",
   "metadata": {},
   "outputs": [],
   "source": []
  }
 ],
 "metadata": {
  "kernelspec": {
   "display_name": "supply-chain-forecast",
   "language": "python",
   "name": "python3"
  },
  "language_info": {
   "codemirror_mode": {
    "name": "ipython",
    "version": 3
   },
   "file_extension": ".py",
   "mimetype": "text/x-python",
   "name": "python",
   "nbconvert_exporter": "python",
   "pygments_lexer": "ipython3",
   "version": "3.12.9"
  }
 },
 "nbformat": 4,
 "nbformat_minor": 5
}
