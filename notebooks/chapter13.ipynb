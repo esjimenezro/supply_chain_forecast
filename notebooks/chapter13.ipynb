{
 "cells": [
  {
   "cell_type": "code",
   "execution_count": 1,
   "id": "3ae9c4d3",
   "metadata": {},
   "outputs": [],
   "source": [
    "import sys\n",
    "sys.path.append('../src')"
   ]
  },
  {
   "cell_type": "code",
   "execution_count": 2,
   "id": "fd4392f8",
   "metadata": {},
   "outputs": [],
   "source": [
    "from data.ingestion import load_car_sales_data\n",
    "from data.preparation import generate_datasets\n",
    "from evaluation.key_performance_indicators import kpi_ml\n",
    "import pandas as pd"
   ]
  },
  {
   "cell_type": "code",
   "execution_count": 3,
   "id": "38b99a34",
   "metadata": {},
   "outputs": [],
   "source": [
    "# Load car sales data\n",
    "car_sales_df = load_car_sales_data(\"../data/norway_new_car_sales_by_make.csv\")\n",
    "# Generate datasets\n",
    "X_train, y_train, X_test, y_test = generate_datasets(\n",
    "    df=car_sales_df,\n",
    "    x_length=12,\n",
    "    y_length=1,\n",
    "    test_loops=12\n",
    ")"
   ]
  },
  {
   "cell_type": "code",
   "execution_count": 4,
   "id": "f7432476",
   "metadata": {},
   "outputs": [],
   "source": [
    "from sklearn.tree import DecisionTreeRegressor"
   ]
  },
  {
   "cell_type": "code",
   "execution_count": 5,
   "id": "0bff2519",
   "metadata": {},
   "outputs": [],
   "source": [
    "# Decision Tree Regressor model\n",
    "tree = DecisionTreeRegressor(\n",
    "    max_depth=5,\n",
    "    min_samples_split=15,\n",
    "    min_samples_leaf=5,\n",
    ")\n",
    "tree.fit(X=X_train, y=y_train)\n",
    "y_train_pred = tree.predict(X=X_train)\n",
    "y_test_pred = tree.predict(X=X_test)"
   ]
  },
  {
   "cell_type": "code",
   "execution_count": 6,
   "id": "348558b7",
   "metadata": {},
   "outputs": [
    {
     "name": "stdout",
     "output_type": "stream",
     "text": [
      "                          MAE  RMSE  BIAS\n",
      "Decision Tree Regressor                  \n",
      "Train                    18.1  43.4  -0.0\n",
      "Test                     21.1  52.6   3.2\n"
     ]
    }
   ],
   "source": [
    "kpi_ml(\n",
    "    y_train=y_train,\n",
    "    y_train_pred=y_train_pred,\n",
    "    y_test=y_test,\n",
    "    y_test_pred=y_test_pred,\n",
    "    name=\"Decision Tree Regressor\"\n",
    ")"
   ]
  },
  {
   "cell_type": "code",
   "execution_count": null,
   "id": "a4c530f9",
   "metadata": {},
   "outputs": [],
   "source": []
  }
 ],
 "metadata": {
  "kernelspec": {
   "display_name": "supply-chain-forecast",
   "language": "python",
   "name": "python3"
  },
  "language_info": {
   "codemirror_mode": {
    "name": "ipython",
    "version": 3
   },
   "file_extension": ".py",
   "mimetype": "text/x-python",
   "name": "python",
   "nbconvert_exporter": "python",
   "pygments_lexer": "ipython3",
   "version": "3.12.9"
  }
 },
 "nbformat": 4,
 "nbformat_minor": 5
}
