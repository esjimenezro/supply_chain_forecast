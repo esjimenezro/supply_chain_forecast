{
 "cells": [
  {
   "cell_type": "code",
   "execution_count": 2,
   "id": "3b834332",
   "metadata": {},
   "outputs": [],
   "source": [
    "import sys\n",
    "sys.path.append('../src')"
   ]
  },
  {
   "cell_type": "code",
   "execution_count": 3,
   "id": "a96ade35",
   "metadata": {},
   "outputs": [],
   "source": [
    "import numpy as np\n",
    "from models.ma.moving_average import moving_average\n",
    "from evaluation.key_performance_indicators import kpi"
   ]
  },
  {
   "cell_type": "code",
   "execution_count": 4,
   "id": "d8347dc9",
   "metadata": {},
   "outputs": [
    {
     "name": "stdout",
     "output_type": "stream",
     "text": [
      "Bias: -22.95, -15.33%\n",
      "MAPE: 29.31%\n",
      "MAE: 42.29, 28.24%\n",
      "RMSE: 43.20, 28.85%\n"
     ]
    }
   ],
   "source": [
    "demand = np.array(\n",
    "    [37, 60, 85, 112, 132, 145, 179, 198, 150, 132]\n",
    ")\n",
    "forecast_df = moving_average(\n",
    "    demand=demand,\n",
    "    window_size=3,\n",
    "    extra_periods=4\n",
    ")\n",
    "kpi(forecast_df=forecast_df)"
   ]
  },
  {
   "cell_type": "code",
   "execution_count": null,
   "id": "d6e06109",
   "metadata": {},
   "outputs": [],
   "source": []
  }
 ],
 "metadata": {
  "kernelspec": {
   "display_name": "supply-chain-forecast",
   "language": "python",
   "name": "python3"
  },
  "language_info": {
   "codemirror_mode": {
    "name": "ipython",
    "version": 3
   },
   "file_extension": ".py",
   "mimetype": "text/x-python",
   "name": "python",
   "nbconvert_exporter": "python",
   "pygments_lexer": "ipython3",
   "version": "3.12.9"
  }
 },
 "nbformat": 4,
 "nbformat_minor": 5
}
