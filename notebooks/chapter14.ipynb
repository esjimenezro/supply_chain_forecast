{
 "cells": [
  {
   "cell_type": "code",
   "execution_count": null,
   "id": "ce56d788",
   "metadata": {},
   "outputs": [],
   "source": []
  },
  {
   "cell_type": "code",
   "execution_count": 1,
   "id": "29ada3cb",
   "metadata": {},
   "outputs": [],
   "source": [
    "import sys\n",
    "sys.path.append('../src')"
   ]
  },
  {
   "cell_type": "code",
   "execution_count": 2,
   "id": "2c770b07",
   "metadata": {},
   "outputs": [],
   "source": [
    "from data.ingestion import load_car_sales_data\n",
    "from data.preparation import generate_datasets\n",
    "from evaluation.key_performance_indicators import kpi_ml\n",
    "import pandas as pd"
   ]
  },
  {
   "cell_type": "code",
   "execution_count": 3,
   "id": "ad834caf",
   "metadata": {},
   "outputs": [],
   "source": [
    "# Load car sales data\n",
    "car_sales_df = load_car_sales_data(\"../data/norway_new_car_sales_by_make.csv\")\n",
    "# Generate datasets\n",
    "X_train, y_train, X_test, y_test = generate_datasets(\n",
    "    df=car_sales_df,\n",
    "    x_length=12,\n",
    "    y_length=1,\n",
    "    test_loops=12\n",
    ")"
   ]
  },
  {
   "cell_type": "code",
   "execution_count": 5,
   "id": "85f777ef",
   "metadata": {},
   "outputs": [],
   "source": [
    "from sklearn.model_selection import RandomizedSearchCV\n",
    "from sklearn.model_selection import TimeSeriesSplit\n",
    "from sklearn.tree import DecisionTreeRegressor"
   ]
  },
  {
   "cell_type": "code",
   "execution_count": 4,
   "id": "bcc2c6e9",
   "metadata": {},
   "outputs": [],
   "source": [
    "max_depth = list(range(5, 11)) + [None]\n",
    "min_samples_split = list(range(5, 20))\n",
    "min_samples_leaf = list(range(2, 20))\n",
    "param_dist = {\n",
    "    \"max_depth\": max_depth,\n",
    "    \"min_samples_split\": min_samples_split,\n",
    "    \"min_samples_leaf\": min_samples_leaf,\n",
    "}"
   ]
  },
  {
   "cell_type": "code",
   "execution_count": 6,
   "id": "03281569",
   "metadata": {},
   "outputs": [
    {
     "name": "stdout",
     "output_type": "stream",
     "text": [
      "Fitting 5 folds for each of 100 candidates, totalling 500 fits\n",
      "Best parameters found:  {'min_samples_split': 17, 'min_samples_leaf': 16, 'max_depth': 7}\n"
     ]
    }
   ],
   "source": [
    "tree = DecisionTreeRegressor()\n",
    "random_search = RandomizedSearchCV(\n",
    "    estimator=tree,\n",
    "    param_distributions=param_dist,\n",
    "    n_jobs=-1,\n",
    "    cv=TimeSeriesSplit(n_splits=5),\n",
    "    verbose=1,\n",
    "    n_iter=100,\n",
    "    scoring=\"neg_mean_absolute_error\",\n",
    ")\n",
    "random_search.fit(X=X_train, y=y_train)\n",
    "print(\"Best parameters found: \", random_search.best_params_)"
   ]
  },
  {
   "cell_type": "code",
   "execution_count": 7,
   "id": "dc446716",
   "metadata": {},
   "outputs": [
    {
     "name": "stdout",
     "output_type": "stream",
     "text": [
      "                                             MAE  RMSE  BIAS\n",
      "Decision Tree Regressor with Random Search                  \n",
      "Train                                       16.7  40.9   0.0\n",
      "Test                                        18.7  46.5   3.0\n"
     ]
    }
   ],
   "source": [
    "y_train_pred = random_search.predict(X=X_train)\n",
    "y_test_pred = random_search.predict(X=X_test)\n",
    "kpi_ml(\n",
    "    y_train=y_train,\n",
    "    y_train_pred=y_train_pred,\n",
    "    y_test=y_test,\n",
    "    y_test_pred=y_test_pred,\n",
    "    name=\"Decision Tree Regressor with Random Search\"\n",
    ")"
   ]
  },
  {
   "cell_type": "code",
   "execution_count": null,
   "id": "88f9ed0d",
   "metadata": {},
   "outputs": [],
   "source": []
  }
 ],
 "metadata": {
  "kernelspec": {
   "display_name": "supply-chain-forecast",
   "language": "python",
   "name": "python3"
  },
  "language_info": {
   "codemirror_mode": {
    "name": "ipython",
    "version": 3
   },
   "file_extension": ".py",
   "mimetype": "text/x-python",
   "name": "python",
   "nbconvert_exporter": "python",
   "pygments_lexer": "ipython3",
   "version": "3.12.9"
  }
 },
 "nbformat": 4,
 "nbformat_minor": 5
}
